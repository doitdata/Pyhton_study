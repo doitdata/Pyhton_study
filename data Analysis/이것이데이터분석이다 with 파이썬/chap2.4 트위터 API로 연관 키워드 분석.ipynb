{
 "cells": [
  {
   "cell_type": "markdown",
   "metadata": {},
   "source": [
    "### tip] shitf + Tab 눌러서 어떻게 파라미터 구성되는지 확인 가능"
   ]
  },
  {
   "cell_type": "code",
   "execution_count": 1,
   "metadata": {},
   "outputs": [],
   "source": [
    "# -*- coding: utf-8 -*-\n",
    "\n",
    "%matplotlib inline\n",
    "\n",
    "import pandas as pd\n",
    "import numpy as np\n",
    "import matplotlib.pyplot as plt\n",
    "\n",
    "import warnings\n",
    "warnings.filterwarnings(\"ignore\")"
   ]
  },
  {
   "cell_type": "markdown",
   "metadata": {},
   "source": [
    "## <step1. API호출> :트위터 API로 데이터 가져오기\n",
    "- 오류 참고 사이트 : http://hleecaster.com/twitter-api-developer/"
   ]
  },
  {
   "cell_type": "markdown",
   "metadata": {},
   "source": [
    "- (cunsummer) API key = 'B24ULqSRvM3S6Hine9MPQ5Sfq'\n",
    "- (cunsummer) API secret key = 'QpqMWW84iTA3wWlTY5KGR9CVemyKssDXyfXRGvcnPiiOTRYnd6'\n",
    "- Access token = '1406126464152477696-rKfmJREbKY0urdgCx9NIUrIN73PPyu'\n",
    "- Access token secret = 'cvQ2qy1QI6TJzDuVO8aEftwLDcKbj8pFnhgtqidAvFC1x'"
   ]
  },
  {
   "cell_type": "markdown",
   "metadata": {},
   "source": [
    "**발급 완려된 키를 {your_key} 대신 입력**\n",
    "\n",
    "*와 어이없어라. 개괄호때문에 한시간을 해매고 잇었다. 왜 나만 오류 나나했잖아ㅠㅠㅠ*"
   ]
  },
  {
   "cell_type": "code",
   "execution_count": 2,
   "metadata": {},
   "outputs": [],
   "source": [
    "import tweepy\n",
    "\n",
    "CONSUMER_KEY = 'B24ULqSRvM3S6Hine9MPQ5Sfq'\n",
    "CONSUMER_SECRET = 'QpqMWW84iTA3wWlTY5KGR9CVemyKssDXyfXRGvcnPiiOTRYnd6'\n",
    "ACCESS_TOKEN_KEY ='1406126464152477696-rKfmJREbKY0urdgCx9NIUrIN73PPyu'\n",
    "ACCESS_TOKEN_SECRET = 'cvQ2qy1QI6TJzDuVO8aEftwLDcKbj8pFnhgtqidAvFC1x'\n",
    "\n",
    "# 개인정보 인증을 요청하는 Handler입니다.\n",
    "auth = tweepy.OAuthHandler(CONSUMER_KEY, CONSUMER_SECRET)\n",
    "\n",
    "# 인증 요청을 수행합니다.\n",
    "auth.set_access_token(ACCESS_TOKEN_KEY, ACCESS_TOKEN_SECRET)\n",
    "\n",
    "# twitter API를 사용하기 위한 준비입니다.\n",
    "api = tweepy.API(auth, wait_on_rate_limit=True)"
   ]
  },
  {
   "cell_type": "markdown",
   "metadata": {},
   "source": [
    "**브레이브걸스 키워드 검색**"
   ]
  },
  {
   "cell_type": "code",
   "execution_count": 3,
   "metadata": {},
   "outputs": [
    {
     "name": "stdout",
     "output_type": "stream",
     "text": [
      "RT @DKB_BRAVE: #다크비 #DKB\n",
      "#이찬 #E_CHAN\n",
      "#브레이브걸스 #BraveGirls\n",
      "#Summer_Queen\n",
      "#풀파티 #Pool_Party\n",
      "#BB\n",
      "[{'screen_name': 'DKB_BRAVE', 'name': 'DKB_OFFICIAL', 'id': 1144043486917746689, 'id_str': '1144043486917746689', 'indices': [3, 13]}]\n",
      "[{'text': '다크비', 'indices': [15, 19]}, {'text': 'DKB', 'indices': [20, 24]}, {'text': '이찬', 'indices': [25, 28]}, {'text': 'E_CHAN', 'indices': [29, 36]}, {'text': '브레이브걸스', 'indices': [37, 44]}, {'text': 'BraveGirls', 'indices': [45, 56]}, {'text': 'Summer_Queen', 'indices': [57, 70]}, {'text': '풀파티', 'indices': [71, 75]}, {'text': 'Pool_Party', 'indices': [76, 87]}, {'text': 'BB', 'indices': [88, 91]}]\n",
      "2021-06-19 09:03:46\n",
      "RT @MBC_entertain: [예고] 🎉썸머퀸 쁘걸 컴백🎊 신곡 MV 촬영 현장 📹\n",
      "&amp; 스케일 남다른 안현모의 일상 전지적 참견하기 🎤\n",
      "#전지적참견시점 토요일 밤 11시 10분~📺\n",
      "#이영자 #전현무 #송은이 #양세형 #유병재 \n",
      "#브레이브걸스 #…\n",
      "[{'screen_name': 'MBC_entertain', 'name': 'MBC예능연구소', 'id': 4144012572, 'id_str': '4144012572', 'indices': [3, 17]}]\n",
      "[{'text': '전지적참견시점', 'indices': [83, 91]}, {'text': '이영자', 'indices': [108, 112]}, {'text': '전현무', 'indices': [113, 117]}, {'text': '송은이', 'indices': [118, 122]}, {'text': '양세형', 'indices': [123, 127]}, {'text': '유병재', 'indices': [128, 132]}, {'text': '브레이브걸스', 'indices': [134, 141]}]\n",
      "2021-06-19 09:03:42\n",
      "RT @my_my912: 엔딩 또 찢음 #브레이브걸스 #민영 https://t.co/k0fSDBmibm\n",
      "[{'screen_name': 'my_my912', 'name': '핑', 'id': 1367466301287845892, 'id_str': '1367466301287845892', 'indices': [3, 12]}]\n",
      "[{'text': '브레이브걸스', 'indices': [22, 29]}, {'text': '민영', 'indices': [30, 33]}]\n",
      "2021-06-19 09:03:32\n",
      "RT @MBC_entertain: 210619🔍 [예능연구소 4K 직캠]\n",
      "\n",
      "'브레이브걸스 - 치맛바람 (Chi Mat Ba Ram)'\n",
      "▶ https://t.co/EnqV46eBMa\n",
      "\n",
      "#쇼음악중심 #음중 #브레이브걸스 #BraveGirls #치맛바람…\n",
      "[{'screen_name': 'MBC_entertain', 'name': 'MBC예능연구소', 'id': 4144012572, 'id_str': '4144012572', 'indices': [3, 17]}]\n",
      "[{'text': '쇼음악중심', 'indices': [102, 108]}, {'text': '음중', 'indices': [109, 112]}, {'text': '브레이브걸스', 'indices': [113, 120]}, {'text': 'BraveGirls', 'indices': [121, 132]}, {'text': '치맛바람', 'indices': [133, 138]}]\n",
      "2021-06-19 09:03:14\n",
      "RT @MBC_entertain: [선공개] 쁘걸 신곡 뮤비 촬영장을 찾은 용형 📹\n",
      "여름 노래 성수기 🏝 정복! 스탠바이 완료 👍 \n",
      "#전지적참견시점 토요일 밤 11시 10분~📺\n",
      "#이영자 #전현무 #송은이 #양세형 #유병재 \n",
      "#브레이브걸스 #용감한형제…\n",
      "[{'screen_name': 'MBC_entertain', 'name': 'MBC예능연구소', 'id': 4144012572, 'id_str': '4144012572', 'indices': [3, 17]}]\n",
      "[{'text': '전지적참견시점', 'indices': [74, 82]}, {'text': '이영자', 'indices': [99, 103]}, {'text': '전현무', 'indices': [104, 108]}, {'text': '송은이', 'indices': [109, 113]}, {'text': '양세형', 'indices': [114, 118]}, {'text': '유병재', 'indices': [119, 123]}, {'text': '브레이브걸스', 'indices': [125, 132]}, {'text': '용감한형제', 'indices': [133, 139]}]\n",
      "2021-06-19 09:02:56\n",
      "RT @MBC_entertain: 브레이브걸스와 용감한 형제의 웃음 넘치는 하루😆\n",
      "MBC #전지적참견시점 오늘 밤 11시 10분 본방사수!\n",
      "#전참시 #브레이브걸스 #민영 #은지 https://t.co/duO5qQUsLF\n",
      "[{'screen_name': 'MBC_entertain', 'name': 'MBC예능연구소', 'id': 4144012572, 'id_str': '4144012572', 'indices': [3, 17]}]\n",
      "[{'text': '전지적참견시점', 'indices': [50, 58]}, {'text': '전참시', 'indices': [78, 82]}, {'text': '브레이브걸스', 'indices': [83, 90]}, {'text': '민영', 'indices': [91, 94]}, {'text': '은지', 'indices': [95, 98]}]\n",
      "2021-06-19 09:02:43\n",
      "RT @floverdnaleaf9x: แต่เอาจริงๆนะ ถ้าพิสาวไม่ได้พลังมวลมหาไวรัลแบบชาร์ตเพลงระเบิด มึงคิดว่าเกาหลีใต้มันจะฟังป่ะ ก็จงโง่ต่อไปเถอะอีควัย #Br…\n",
      "[{'screen_name': 'floverdnaleaf9x', 'name': 'weiv', 'id': 587601279, 'id_str': '587601279', 'indices': [3, 19]}]\n",
      "[]\n",
      "2021-06-19 09:02:40\n",
      "RT @BraveGirls: [⏰]\n",
      "\n",
      "@ 210619 불후의 명곡\n",
      "\n",
      "6시 05분, KBS2 '불후의 명곡'에 브레이브걸스가 출연합니다❣ \n",
      "\n",
      "BraveGirls on KBS2 'Legend Song' @ 6:05pm❣\n",
      "\n",
      "#브레이브걸스 #BraveGir…\n",
      "[{'screen_name': 'BraveGirls', 'name': 'Brave Girls', 'id': 222457842, 'id_str': '222457842', 'indices': [3, 14]}]\n",
      "[{'text': '브레이브걸스', 'indices': [122, 129]}]\n",
      "2021-06-19 09:02:39\n",
      "RT @BraveGirls: #브레이브걸스 #BraveGirls\n",
      "#Summer_Queen\n",
      "#치맛바람 #ChiMatBaRam\n",
      "#피어레스 #FEARLESS\n",
      "#올여름_쁘걸_바람이_불어와\n",
      "[{'screen_name': 'BraveGirls', 'name': 'Brave Girls', 'id': 222457842, 'id_str': '222457842', 'indices': [3, 14]}]\n",
      "[{'text': '브레이브걸스', 'indices': [16, 23]}, {'text': 'BraveGirls', 'indices': [24, 35]}, {'text': 'Summer_Queen', 'indices': [36, 49]}, {'text': '치맛바람', 'indices': [50, 55]}, {'text': 'ChiMatBaRam', 'indices': [56, 68]}, {'text': '피어레스', 'indices': [69, 74]}, {'text': 'FEARLESS', 'indices': [75, 84]}, {'text': '올여름_쁘걸_바람이_불어와', 'indices': [85, 100]}]\n",
      "2021-06-19 09:02:37\n",
      "RT @MBC_entertain: 210619🔍 [예능연구소 4K 직캠]\n",
      "\n",
      "'브레이브걸스 - Pool Party (Feat. 이찬 of DKB)'\n",
      "▶ https://t.co/ox0WEzvfzE\n",
      "\n",
      "#쇼음악중심 #음중 #브레이브걸스 #BraveGirls…\n",
      "[{'screen_name': 'MBC_entertain', 'name': 'MBC예능연구소', 'id': 4144012572, 'id_str': '4144012572', 'indices': [3, 17]}]\n",
      "[{'text': '쇼음악중심', 'indices': [109, 115]}, {'text': '음중', 'indices': [116, 119]}, {'text': '브레이브걸스', 'indices': [120, 127]}, {'text': 'BraveGirls', 'indices': [128, 139]}]\n",
      "2021-06-19 09:02:29\n",
      "RT @MBC_entertain: 210619🔍 [예능연구소 4K 직캠]\n",
      "\n",
      "'브레이브걸스 - Pool Party (Feat. 이찬 of DKB)'\n",
      "▶ https://t.co/ox0WEzvfzE\n",
      "\n",
      "#쇼음악중심 #음중 #브레이브걸스 #BraveGirls…\n",
      "[{'screen_name': 'MBC_entertain', 'name': 'MBC예능연구소', 'id': 4144012572, 'id_str': '4144012572', 'indices': [3, 17]}]\n",
      "[{'text': '쇼음악중심', 'indices': [109, 115]}, {'text': '음중', 'indices': [116, 119]}, {'text': '브레이브걸스', 'indices': [120, 127]}, {'text': 'BraveGirls', 'indices': [128, 139]}]\n",
      "2021-06-19 09:02:24\n",
      "RT @MBC_entertain: 210619🔍 [예능연구소 4K 직캠]\n",
      "\n",
      "'브레이브걸스 - Pool Party (Feat. 이찬 of DKB)'\n",
      "▶ https://t.co/ox0WEzvfzE\n",
      "\n",
      "#쇼음악중심 #음중 #브레이브걸스 #BraveGirls…\n",
      "[{'screen_name': 'MBC_entertain', 'name': 'MBC예능연구소', 'id': 4144012572, 'id_str': '4144012572', 'indices': [3, 17]}]\n",
      "[{'text': '쇼음악중심', 'indices': [109, 115]}, {'text': '음중', 'indices': [116, 119]}, {'text': '브레이브걸스', 'indices': [120, 127]}, {'text': 'BraveGirls', 'indices': [128, 139]}]\n",
      "2021-06-19 09:02:18\n",
      "RT @MBC_entertain: 210619🔍 [예능연구소 4K 직캠]\n",
      "\n",
      "'브레이브걸스 - 치맛바람 (Chi Mat Ba Ram)'\n",
      "▶ https://t.co/EnqV46eBMa\n",
      "\n",
      "#쇼음악중심 #음중 #브레이브걸스 #BraveGirls #치맛바람…\n",
      "[{'screen_name': 'MBC_entertain', 'name': 'MBC예능연구소', 'id': 4144012572, 'id_str': '4144012572', 'indices': [3, 17]}]\n",
      "[{'text': '쇼음악중심', 'indices': [102, 108]}, {'text': '음중', 'indices': [109, 112]}, {'text': '브레이브걸스', 'indices': [113, 120]}, {'text': 'BraveGirls', 'indices': [121, 132]}, {'text': '치맛바람', 'indices': [133, 138]}]\n",
      "2021-06-19 09:02:12\n",
      "RT @BraveGirls: #브레이브걸스 #BraveGirls\n",
      "#Summer_Queen\n",
      "#치맛바람 #ChiMatBaRam\n",
      "#피어레스 #FEARLESS\n",
      "#올여름_쁘걸_바람이_불어와\n",
      "[{'screen_name': 'BraveGirls', 'name': 'Brave Girls', 'id': 222457842, 'id_str': '222457842', 'indices': [3, 14]}]\n",
      "[{'text': '브레이브걸스', 'indices': [16, 23]}, {'text': 'BraveGirls', 'indices': [24, 35]}, {'text': 'Summer_Queen', 'indices': [36, 49]}, {'text': '치맛바람', 'indices': [50, 55]}, {'text': 'ChiMatBaRam', 'indices': [56, 68]}, {'text': '피어레스', 'indices': [69, 74]}, {'text': 'FEARLESS', 'indices': [75, 84]}, {'text': '올여름_쁘걸_바람이_불어와', 'indices': [85, 100]}]\n",
      "2021-06-19 09:02:11\n",
      "RT @MBC_entertain: [선공개] 쁘걸 신곡 뮤비 촬영장을 찾은 용형 📹\n",
      "여름 노래 성수기 🏝 정복! 스탠바이 완료 👍 \n",
      "#전지적참견시점 토요일 밤 11시 10분~📺\n",
      "#이영자 #전현무 #송은이 #양세형 #유병재 \n",
      "#브레이브걸스 #용감한형제…\n",
      "[{'screen_name': 'MBC_entertain', 'name': 'MBC예능연구소', 'id': 4144012572, 'id_str': '4144012572', 'indices': [3, 17]}]\n",
      "[{'text': '전지적참견시점', 'indices': [74, 82]}, {'text': '이영자', 'indices': [99, 103]}, {'text': '전현무', 'indices': [104, 108]}, {'text': '송은이', 'indices': [109, 113]}, {'text': '양세형', 'indices': [114, 118]}, {'text': '유병재', 'indices': [119, 123]}, {'text': '브레이브걸스', 'indices': [125, 132]}, {'text': '용감한형제', 'indices': [133, 139]}]\n",
      "2021-06-19 09:02:02\n"
     ]
    }
   ],
   "source": [
    "keyword = \"브레이브걸스\"\n",
    "tweets = api.search(keyword)\n",
    "for tweet in tweets:\n",
    "    print(tweet.text)\n",
    "    print(tweet.entities['user_mentions'])\n",
    "    print(tweet.entities['hashtags'])\n",
    "    print(tweet.created_at)"
   ]
  },
  {
   "cell_type": "markdown",
   "metadata": {},
   "source": [
    "**데이터프레임 형태로 수집**"
   ]
  },
  {
   "cell_type": "code",
   "execution_count": 4,
   "metadata": {},
   "outputs": [],
   "source": [
    "columns = ['created','tweet_text']\n",
    "df = pd.DataFrame(columns=columns)"
   ]
  },
  {
   "cell_type": "markdown",
   "metadata": {},
   "source": [
    "**twitter API를 사용하여 ‘브레이브걸스’이 포함된 20페이지의 트윗들을 크롤링한 뒤, ‘text’, ‘created_at’ 정보를 데이터 프레임으로 저장합니다.**\n",
    "- 오류([{'message': 'Rate limit exceeded', 'code': 88}]) 발생 참고 주소 : https://stackoverflow.com/questions/38775997/getting-this-error-when-using-tweepy"
   ]
  },
  {
   "cell_type": "code",
   "execution_count": 5,
   "metadata": {},
   "outputs": [
    {
     "name": "stdout",
     "output_type": "stream",
     "text": [
      "Get data 100 % complete..\n"
     ]
    }
   ],
   "source": [
    "for i in range(1,20):\n",
    "#     print(\"Get data\", str(i/500*100), \"% complete..\")\n",
    "    tweets = api.search(keyword)\n",
    "    for tweet in tweets:\n",
    "        tweet_text = tweet.text\n",
    "        created = tweet.created_at\n",
    "        row = [created, tweet_text]\n",
    "        series = pd.Series(row, index=df.columns)\n",
    "        df = df.append(series, ignore_index=True)\n",
    "print(\"Get data 100 % complete..\")"
   ]
  },
  {
   "cell_type": "code",
   "execution_count": 6,
   "metadata": {},
   "outputs": [],
   "source": [
    "df.to_csv(\"./tweet_temp.csv\", index=False)"
   ]
  },
  {
   "cell_type": "markdown",
   "metadata": {},
   "source": [
    "## <step2. 추출> :키워드 추출\n",
    "**[텍스트 데이터 전처리]**"
   ]
  },
  {
   "cell_type": "code",
   "execution_count": 7,
   "metadata": {},
   "outputs": [
    {
     "data": {
      "text/html": [
       "<div>\n",
       "<style scoped>\n",
       "    .dataframe tbody tr th:only-of-type {\n",
       "        vertical-align: middle;\n",
       "    }\n",
       "\n",
       "    .dataframe tbody tr th {\n",
       "        vertical-align: top;\n",
       "    }\n",
       "\n",
       "    .dataframe thead th {\n",
       "        text-align: right;\n",
       "    }\n",
       "</style>\n",
       "<table border=\"1\" class=\"dataframe\">\n",
       "  <thead>\n",
       "    <tr style=\"text-align: right;\">\n",
       "      <th></th>\n",
       "      <th>created</th>\n",
       "      <th>tweet_text</th>\n",
       "    </tr>\n",
       "  </thead>\n",
       "  <tbody>\n",
       "    <tr>\n",
       "      <th>0</th>\n",
       "      <td>2021-06-19 09:07:01</td>\n",
       "      <td>RT @woni_0406: 음중 #브레이브걸스 cut https://t.co/M5L...</td>\n",
       "    </tr>\n",
       "    <tr>\n",
       "      <th>1</th>\n",
       "      <td>2021-06-19 09:06:47</td>\n",
       "      <td>RT @MBC_entertain: 210619🔍 [예능연구소 4K 직캠]\\n\\n'브...</td>\n",
       "    </tr>\n",
       "    <tr>\n",
       "      <th>2</th>\n",
       "      <td>2021-06-19 09:06:40</td>\n",
       "      <td>RT @BraveGirls: [🎥]\\n\\n[예능연구소 4K] 브레이브걸스 직캠 '치...</td>\n",
       "    </tr>\n",
       "    <tr>\n",
       "      <th>3</th>\n",
       "      <td>2021-06-19 09:06:39</td>\n",
       "      <td>RT @onlyunalee: 엔딩요정 모아모아🥰\\n\\n#브레이브걸스 #BraveGi...</td>\n",
       "    </tr>\n",
       "    <tr>\n",
       "      <th>4</th>\n",
       "      <td>2021-06-19 09:06:35</td>\n",
       "      <td>RT @MBC_entertain: 210619🔍 [예능연구소 4K 직캠]\\n\\n'브...</td>\n",
       "    </tr>\n",
       "  </tbody>\n",
       "</table>\n",
       "</div>"
      ],
      "text/plain": [
       "               created                                         tweet_text\n",
       "0  2021-06-19 09:07:01  RT @woni_0406: 음중 #브레이브걸스 cut https://t.co/M5L...\n",
       "1  2021-06-19 09:06:47  RT @MBC_entertain: 210619🔍 [예능연구소 4K 직캠]\\n\\n'브...\n",
       "2  2021-06-19 09:06:40  RT @BraveGirls: [🎥]\\n\\n[예능연구소 4K] 브레이브걸스 직캠 '치...\n",
       "3  2021-06-19 09:06:39  RT @onlyunalee: 엔딩요정 모아모아🥰\\n\\n#브레이브걸스 #BraveGi...\n",
       "4  2021-06-19 09:06:35  RT @MBC_entertain: 210619🔍 [예능연구소 4K 직캠]\\n\\n'브..."
      ]
     },
     "execution_count": 7,
     "metadata": {},
     "output_type": "execute_result"
    }
   ],
   "source": [
    "df = pd.read_csv('./tweet_temp.csv')\n",
    "df.head()"
   ]
  },
  {
   "cell_type": "code",
   "execution_count": 8,
   "metadata": {},
   "outputs": [],
   "source": [
    "import re\n",
    "\n",
    "## 텍스트 정제 함수 : 한글 이외의 문자는 전부 제거 합니다. \n",
    "def text_cleaning(text):\n",
    "    hangul =  re.compile('[^ ㄱ-ㅣ가-힣]+') #한글의 정규 표현식을 나타냅니다. \n",
    "    result = hangul.sub('', text)\n",
    "    \n",
    "    return result"
   ]
  },
  {
   "cell_type": "code",
   "execution_count": 9,
   "metadata": {},
   "outputs": [
    {
     "data": {
      "text/html": [
       "<div>\n",
       "<style scoped>\n",
       "    .dataframe tbody tr th:only-of-type {\n",
       "        vertical-align: middle;\n",
       "    }\n",
       "\n",
       "    .dataframe tbody tr th {\n",
       "        vertical-align: top;\n",
       "    }\n",
       "\n",
       "    .dataframe thead th {\n",
       "        text-align: right;\n",
       "    }\n",
       "</style>\n",
       "<table border=\"1\" class=\"dataframe\">\n",
       "  <thead>\n",
       "    <tr style=\"text-align: right;\">\n",
       "      <th></th>\n",
       "      <th>created</th>\n",
       "      <th>tweet_text</th>\n",
       "      <th>ko_text</th>\n",
       "    </tr>\n",
       "  </thead>\n",
       "  <tbody>\n",
       "    <tr>\n",
       "      <th>0</th>\n",
       "      <td>2021-06-19 09:07:01</td>\n",
       "      <td>RT @woni_0406: 음중 #브레이브걸스 cut https://t.co/M5L...</td>\n",
       "      <td>음중 브레이브걸스</td>\n",
       "    </tr>\n",
       "    <tr>\n",
       "      <th>1</th>\n",
       "      <td>2021-06-19 09:06:47</td>\n",
       "      <td>RT @MBC_entertain: 210619🔍 [예능연구소 4K 직캠]\\n\\n'브...</td>\n",
       "      <td>예능연구소  직캠브레이브걸스     이찬   쇼음악중심 음중 브레이브걸스</td>\n",
       "    </tr>\n",
       "    <tr>\n",
       "      <th>2</th>\n",
       "      <td>2021-06-19 09:06:40</td>\n",
       "      <td>RT @BraveGirls: [🎥]\\n\\n[예능연구소 4K] 브레이브걸스 직캠 '치...</td>\n",
       "      <td>예능연구소  브레이브걸스 직캠 치맛바람</td>\n",
       "    </tr>\n",
       "    <tr>\n",
       "      <th>3</th>\n",
       "      <td>2021-06-19 09:06:39</td>\n",
       "      <td>RT @onlyunalee: 엔딩요정 모아모아🥰\\n\\n#브레이브걸스 #BraveGi...</td>\n",
       "      <td>엔딩요정 모아모아브레이브걸스</td>\n",
       "    </tr>\n",
       "    <tr>\n",
       "      <th>4</th>\n",
       "      <td>2021-06-19 09:06:35</td>\n",
       "      <td>RT @MBC_entertain: 210619🔍 [예능연구소 4K 직캠]\\n\\n'브...</td>\n",
       "      <td>예능연구소  직캠브레이브걸스  치맛바람     쇼음악중심 음중 브레이브걸스  ...</td>\n",
       "    </tr>\n",
       "  </tbody>\n",
       "</table>\n",
       "</div>"
      ],
      "text/plain": [
       "               created                                         tweet_text  \\\n",
       "0  2021-06-19 09:07:01  RT @woni_0406: 음중 #브레이브걸스 cut https://t.co/M5L...   \n",
       "1  2021-06-19 09:06:47  RT @MBC_entertain: 210619🔍 [예능연구소 4K 직캠]\\n\\n'브...   \n",
       "2  2021-06-19 09:06:40  RT @BraveGirls: [🎥]\\n\\n[예능연구소 4K] 브레이브걸스 직캠 '치...   \n",
       "3  2021-06-19 09:06:39  RT @onlyunalee: 엔딩요정 모아모아🥰\\n\\n#브레이브걸스 #BraveGi...   \n",
       "4  2021-06-19 09:06:35  RT @MBC_entertain: 210619🔍 [예능연구소 4K 직캠]\\n\\n'브...   \n",
       "\n",
       "                                             ko_text  \n",
       "0                                        음중 브레이브걸스    \n",
       "1          예능연구소  직캠브레이브걸스     이찬   쇼음악중심 음중 브레이브걸스   \n",
       "2                    예능연구소  브레이브걸스 직캠 치맛바람            \n",
       "3                                  엔딩요정 모아모아브레이브걸스    \n",
       "4     예능연구소  직캠브레이브걸스  치맛바람     쇼음악중심 음중 브레이브걸스  ...  "
      ]
     },
     "execution_count": 9,
     "metadata": {},
     "output_type": "execute_result"
    }
   ],
   "source": [
    "# tweet_text 피처에 이를 적용합니다. \n",
    "df['ko_text'] = df['tweet_text'].apply(lambda x: text_cleaning(x))\n",
    "df.head()"
   ]
  },
  {
   "cell_type": "markdown",
   "metadata": {},
   "source": [
    "**[konlpy를 이용한 키워드 추출]**"
   ]
  },
  {
   "cell_type": "code",
   "execution_count": 10,
   "metadata": {},
   "outputs": [],
   "source": [
    "from konlpy.tag import Okt\n",
    "from collections import Counter\n",
    "\n",
    "#한국어 약식 불용어 사전 예시 파일\n",
    "korean_stopwords_path = './dataset/data/korean_stopwords.txt'\n",
    "with open(korean_stopwords_path, encoding='utf-8') as f:\n",
    "    stopwords = f.readlines()\n",
    "stopwords = [x.strip() for x in stopwords]\n",
    "\n",
    "def get_nouns(x):\n",
    "    nouns_tagger = Okt()\n",
    "    nouns = nouns_tagger.nouns(x)\n",
    "    \n",
    "    # 한글자 키워드를 제거 합니다. \n",
    "    nouns = [noun for noun in nouns if len(noun) >1]\n",
    "    \n",
    "    # 불용어를 제거합니다. \n",
    "    nouns = [noun for noun in nouns if noun not in stopwords]\n",
    "    \n",
    "    return nouns"
   ]
  },
  {
   "cell_type": "markdown",
   "metadata": {},
   "source": [
    "**ko_text 피처에 이를 적용합니다**"
   ]
  },
  {
   "cell_type": "code",
   "execution_count": 11,
   "metadata": {},
   "outputs": [
    {
     "name": "stdout",
     "output_type": "stream",
     "text": [
      "(285, 4)\n"
     ]
    },
    {
     "data": {
      "text/html": [
       "<div>\n",
       "<style scoped>\n",
       "    .dataframe tbody tr th:only-of-type {\n",
       "        vertical-align: middle;\n",
       "    }\n",
       "\n",
       "    .dataframe tbody tr th {\n",
       "        vertical-align: top;\n",
       "    }\n",
       "\n",
       "    .dataframe thead th {\n",
       "        text-align: right;\n",
       "    }\n",
       "</style>\n",
       "<table border=\"1\" class=\"dataframe\">\n",
       "  <thead>\n",
       "    <tr style=\"text-align: right;\">\n",
       "      <th></th>\n",
       "      <th>created</th>\n",
       "      <th>tweet_text</th>\n",
       "      <th>ko_text</th>\n",
       "      <th>nouns</th>\n",
       "    </tr>\n",
       "  </thead>\n",
       "  <tbody>\n",
       "    <tr>\n",
       "      <th>0</th>\n",
       "      <td>2021-06-19 09:07:01</td>\n",
       "      <td>RT @woni_0406: 음중 #브레이브걸스 cut https://t.co/M5L...</td>\n",
       "      <td>음중 브레이브걸스</td>\n",
       "      <td>[음중, 브레이브걸스]</td>\n",
       "    </tr>\n",
       "    <tr>\n",
       "      <th>1</th>\n",
       "      <td>2021-06-19 09:06:47</td>\n",
       "      <td>RT @MBC_entertain: 210619🔍 [예능연구소 4K 직캠]\\n\\n'브...</td>\n",
       "      <td>예능연구소  직캠브레이브걸스     이찬   쇼음악중심 음중 브레이브걸스</td>\n",
       "      <td>[예능, 연구소, 직캠, 브레이브걸스, 이찬, 쇼음악중심, 음중, 브레이브걸스]</td>\n",
       "    </tr>\n",
       "    <tr>\n",
       "      <th>2</th>\n",
       "      <td>2021-06-19 09:06:40</td>\n",
       "      <td>RT @BraveGirls: [🎥]\\n\\n[예능연구소 4K] 브레이브걸스 직캠 '치...</td>\n",
       "      <td>예능연구소  브레이브걸스 직캠 치맛바람</td>\n",
       "      <td>[예능, 연구소, 브레이브걸스, 직캠, 치맛바람]</td>\n",
       "    </tr>\n",
       "    <tr>\n",
       "      <th>3</th>\n",
       "      <td>2021-06-19 09:06:39</td>\n",
       "      <td>RT @onlyunalee: 엔딩요정 모아모아🥰\\n\\n#브레이브걸스 #BraveGi...</td>\n",
       "      <td>엔딩요정 모아모아브레이브걸스</td>\n",
       "      <td>[엔딩, 요정, 아모, 브레이브걸스]</td>\n",
       "    </tr>\n",
       "    <tr>\n",
       "      <th>4</th>\n",
       "      <td>2021-06-19 09:06:35</td>\n",
       "      <td>RT @MBC_entertain: 210619🔍 [예능연구소 4K 직캠]\\n\\n'브...</td>\n",
       "      <td>예능연구소  직캠브레이브걸스  치맛바람     쇼음악중심 음중 브레이브걸스  ...</td>\n",
       "      <td>[예능, 연구소, 직캠, 브레이브걸스, 치맛바람, 쇼음악중심, 음중, 브레이브걸스,...</td>\n",
       "    </tr>\n",
       "  </tbody>\n",
       "</table>\n",
       "</div>"
      ],
      "text/plain": [
       "               created                                         tweet_text  \\\n",
       "0  2021-06-19 09:07:01  RT @woni_0406: 음중 #브레이브걸스 cut https://t.co/M5L...   \n",
       "1  2021-06-19 09:06:47  RT @MBC_entertain: 210619🔍 [예능연구소 4K 직캠]\\n\\n'브...   \n",
       "2  2021-06-19 09:06:40  RT @BraveGirls: [🎥]\\n\\n[예능연구소 4K] 브레이브걸스 직캠 '치...   \n",
       "3  2021-06-19 09:06:39  RT @onlyunalee: 엔딩요정 모아모아🥰\\n\\n#브레이브걸스 #BraveGi...   \n",
       "4  2021-06-19 09:06:35  RT @MBC_entertain: 210619🔍 [예능연구소 4K 직캠]\\n\\n'브...   \n",
       "\n",
       "                                             ko_text  \\\n",
       "0                                        음중 브레이브걸스     \n",
       "1          예능연구소  직캠브레이브걸스     이찬   쇼음악중심 음중 브레이브걸스    \n",
       "2                    예능연구소  브레이브걸스 직캠 치맛바람             \n",
       "3                                  엔딩요정 모아모아브레이브걸스     \n",
       "4     예능연구소  직캠브레이브걸스  치맛바람     쇼음악중심 음중 브레이브걸스  ...   \n",
       "\n",
       "                                               nouns  \n",
       "0                                       [음중, 브레이브걸스]  \n",
       "1       [예능, 연구소, 직캠, 브레이브걸스, 이찬, 쇼음악중심, 음중, 브레이브걸스]  \n",
       "2                        [예능, 연구소, 브레이브걸스, 직캠, 치맛바람]  \n",
       "3                               [엔딩, 요정, 아모, 브레이브걸스]  \n",
       "4  [예능, 연구소, 직캠, 브레이브걸스, 치맛바람, 쇼음악중심, 음중, 브레이브걸스,...  "
      ]
     },
     "execution_count": 11,
     "metadata": {},
     "output_type": "execute_result"
    }
   ],
   "source": [
    "df['nouns'] = df['ko_text'].apply(lambda x:get_nouns(x))\n",
    "print(df.shape)\n",
    "df.head()"
   ]
  },
  {
   "cell_type": "markdown",
   "metadata": {},
   "source": [
    "## <step3.분석> : 연관 분석을 이용한 키워드 분석\n",
    "**[연관 키워드 분석하기]**"
   ]
  },
  {
   "cell_type": "markdown",
   "metadata": {},
   "source": [
    "**연관 분석 연습, 장바구니 형태의 데이터(트랜젝션 데이터)를 생성합니다.**"
   ]
  },
  {
   "cell_type": "code",
   "execution_count": 13,
   "metadata": {},
   "outputs": [],
   "source": [
    "from apyori import apriori"
   ]
  },
  {
   "cell_type": "code",
   "execution_count": 14,
   "metadata": {},
   "outputs": [
    {
     "name": "stdout",
     "output_type": "stream",
     "text": [
      "RelationRecord(items=frozenset({'브레이브걸스'}), support=1.0, ordered_statistics=[OrderedStatistic(items_base=frozenset(), items_add=frozenset({'브레이브걸스'}), confidence=1.0, lift=1.0)])\n",
      "RelationRecord(items=frozenset({'음악중심'}), support=0.3333333333333333, ordered_statistics=[OrderedStatistic(items_base=frozenset(), items_add=frozenset({'음악중심'}), confidence=0.3333333333333333, lift=1.0)])\n",
      "RelationRecord(items=frozenset({'치맛바람'}), support=0.3333333333333333, ordered_statistics=[OrderedStatistic(items_base=frozenset(), items_add=frozenset({'치맛바람'}), confidence=0.3333333333333333, lift=1.0)])\n",
      "RelationRecord(items=frozenset({'컴백'}), support=0.3333333333333333, ordered_statistics=[OrderedStatistic(items_base=frozenset(), items_add=frozenset({'컴백'}), confidence=0.3333333333333333, lift=1.0)])\n",
      "RelationRecord(items=frozenset({'풀파티'}), support=0.3333333333333333, ordered_statistics=[OrderedStatistic(items_base=frozenset(), items_add=frozenset({'풀파티'}), confidence=0.3333333333333333, lift=1.0)])\n",
      "RelationRecord(items=frozenset({'음악중심', '브레이브걸스'}), support=0.3333333333333333, ordered_statistics=[OrderedStatistic(items_base=frozenset(), items_add=frozenset({'음악중심', '브레이브걸스'}), confidence=0.3333333333333333, lift=1.0), OrderedStatistic(items_base=frozenset({'브레이브걸스'}), items_add=frozenset({'음악중심'}), confidence=0.3333333333333333, lift=1.0), OrderedStatistic(items_base=frozenset({'음악중심'}), items_add=frozenset({'브레이브걸스'}), confidence=1.0, lift=1.0)])\n",
      "RelationRecord(items=frozenset({'치맛바람', '브레이브걸스'}), support=0.3333333333333333, ordered_statistics=[OrderedStatistic(items_base=frozenset(), items_add=frozenset({'치맛바람', '브레이브걸스'}), confidence=0.3333333333333333, lift=1.0), OrderedStatistic(items_base=frozenset({'브레이브걸스'}), items_add=frozenset({'치맛바람'}), confidence=0.3333333333333333, lift=1.0), OrderedStatistic(items_base=frozenset({'치맛바람'}), items_add=frozenset({'브레이브걸스'}), confidence=1.0, lift=1.0)])\n",
      "RelationRecord(items=frozenset({'컴백', '브레이브걸스'}), support=0.3333333333333333, ordered_statistics=[OrderedStatistic(items_base=frozenset(), items_add=frozenset({'컴백', '브레이브걸스'}), confidence=0.3333333333333333, lift=1.0), OrderedStatistic(items_base=frozenset({'브레이브걸스'}), items_add=frozenset({'컴백'}), confidence=0.3333333333333333, lift=1.0), OrderedStatistic(items_base=frozenset({'컴백'}), items_add=frozenset({'브레이브걸스'}), confidence=1.0, lift=1.0)])\n",
      "RelationRecord(items=frozenset({'브레이브걸스', '풀파티'}), support=0.3333333333333333, ordered_statistics=[OrderedStatistic(items_base=frozenset(), items_add=frozenset({'브레이브걸스', '풀파티'}), confidence=0.3333333333333333, lift=1.0), OrderedStatistic(items_base=frozenset({'브레이브걸스'}), items_add=frozenset({'풀파티'}), confidence=0.3333333333333333, lift=1.0), OrderedStatistic(items_base=frozenset({'풀파티'}), items_add=frozenset({'브레이브걸스'}), confidence=1.0, lift=1.0)])\n",
      "RelationRecord(items=frozenset({'음악중심', '풀파티'}), support=0.3333333333333333, ordered_statistics=[OrderedStatistic(items_base=frozenset(), items_add=frozenset({'음악중심', '풀파티'}), confidence=0.3333333333333333, lift=1.0), OrderedStatistic(items_base=frozenset({'음악중심'}), items_add=frozenset({'풀파티'}), confidence=1.0, lift=3.0), OrderedStatistic(items_base=frozenset({'풀파티'}), items_add=frozenset({'음악중심'}), confidence=1.0, lift=3.0)])\n",
      "RelationRecord(items=frozenset({'음악중심', '브레이브걸스', '풀파티'}), support=0.3333333333333333, ordered_statistics=[OrderedStatistic(items_base=frozenset(), items_add=frozenset({'음악중심', '브레이브걸스', '풀파티'}), confidence=0.3333333333333333, lift=1.0), OrderedStatistic(items_base=frozenset({'브레이브걸스'}), items_add=frozenset({'음악중심', '풀파티'}), confidence=0.3333333333333333, lift=1.0), OrderedStatistic(items_base=frozenset({'음악중심'}), items_add=frozenset({'브레이브걸스', '풀파티'}), confidence=1.0, lift=3.0), OrderedStatistic(items_base=frozenset({'풀파티'}), items_add=frozenset({'음악중심', '브레이브걸스'}), confidence=1.0, lift=3.0), OrderedStatistic(items_base=frozenset({'음악중심', '브레이브걸스'}), items_add=frozenset({'풀파티'}), confidence=1.0, lift=3.0), OrderedStatistic(items_base=frozenset({'브레이브걸스', '풀파티'}), items_add=frozenset({'음악중심'}), confidence=1.0, lift=3.0), OrderedStatistic(items_base=frozenset({'음악중심', '풀파티'}), items_add=frozenset({'브레이브걸스'}), confidence=1.0, lift=1.0)])\n"
     ]
    }
   ],
   "source": [
    "transactions = [['브레이브걸스','치맛바람'],\n",
    "               ['브레이브걸스','컴백'],\n",
    "               ['브레이브걸스', '풀파티','음악중심']\n",
    "               ]\n",
    "\n",
    "#연관 분석을 실행합니다. \n",
    "results = list(apriori(transactions))\n",
    "for result in results:\n",
    "    print(result)"
   ]
  },
  {
   "cell_type": "markdown",
   "metadata": {},
   "source": [
    "**지지도0.3, 신뢰도1.0, 향상도 3.0 이상이면서 규칙의 크기가 2이하인 규칙을 추출**"
   ]
  },
  {
   "cell_type": "code",
   "execution_count": 15,
   "metadata": {},
   "outputs": [
    {
     "data": {
      "text/plain": [
       "[RelationRecord(items=frozenset({'음악중심', '풀파티'}), support=0.3333333333333333, ordered_statistics=[OrderedStatistic(items_base=frozenset({'음악중심'}), items_add=frozenset({'풀파티'}), confidence=1.0, lift=3.0), OrderedStatistic(items_base=frozenset({'풀파티'}), items_add=frozenset({'음악중심'}), confidence=1.0, lift=3.0)]),\n",
       " RelationRecord(items=frozenset({'음악중심', '브레이브걸스', '풀파티'}), support=0.3333333333333333, ordered_statistics=[OrderedStatistic(items_base=frozenset({'음악중심'}), items_add=frozenset({'브레이브걸스', '풀파티'}), confidence=1.0, lift=3.0), OrderedStatistic(items_base=frozenset({'풀파티'}), items_add=frozenset({'음악중심', '브레이브걸스'}), confidence=1.0, lift=3.0), OrderedStatistic(items_base=frozenset({'음악중심', '브레이브걸스'}), items_add=frozenset({'풀파티'}), confidence=1.0, lift=3.0), OrderedStatistic(items_base=frozenset({'브레이브걸스', '풀파티'}), items_add=frozenset({'음악중심'}), confidence=1.0, lift=3.0)])]"
      ]
     },
     "execution_count": 15,
     "metadata": {},
     "output_type": "execute_result"
    }
   ],
   "source": [
    "list(apriori(transactions,\n",
    "            min_support = 0.3,\n",
    "            min_confidence = 1.0,\n",
    "            min_lift = 3.0,\n",
    "            amx_length=2))"
   ]
  },
  {
   "cell_type": "markdown",
   "metadata": {},
   "source": [
    "**트위터 연관 키워드 분석**"
   ]
  },
  {
   "cell_type": "markdown",
   "metadata": {},
   "source": [
    "- 오류(IOPub data rate exceeded. The notebook server will temporarily stop sending output to the client in order to avoid crashing it. To change this limit, set the config variable `--NotebookApp.iopub_data_rate_limit`.) 발생 참고 사이트: https://stackoverflow.com/questions/43490495/how-to-set-notebookapp-iopub-data-rate-limit-and-others-notebookapp-settings-in?noredirect=1&lq=1\n",
    "- **트랜젝션 데이터를 추출합니다.** "
   ]
  },
  {
   "cell_type": "code",
   "execution_count": 16,
   "metadata": {
    "scrolled": true
   },
   "outputs": [
    {
     "name": "stdout",
     "output_type": "stream",
     "text": [
      "[['음중', '브레이브걸스'], ['예능', '연구소', '직캠', '브레이브걸스', '이찬', '쇼음악중심', '음중', '브레이브걸스'], ['예능', '연구소', '브레이브걸스', '직캠', '치맛바람'], ['엔딩', '요정', '아모', '브레이브걸스'], ['예능', '연구소', '직캠', '브레이브걸스', '치맛바람', '쇼음악중심', '음중', '브레이브걸스', '치맛바람'], ['예능', '연구소', '직캠', '브레이브걸스', '이찬', '쇼음악중심', '음중', '브레이브걸스'], ['브레이브걸스', '형제', '웃음', '하루', '전지', '참견', '시점', '오늘', '방사', '수전', '브레이브걸스', '민영', '은지'], ['선공', '쁘걸', '신곡', '뮤비', '촬영장', '용형', '여름', '노래', '수기', '정복', '스탠바이', '완료', '전지', '참견', '시점', '토요일', '이영자', '전현무', '송은이', '양세형', '유병재', '브레이브걸스', '용감한형제'], ['예고', '썸머', '쁘걸', '컴백', '신곡', '촬영', '현장', '스케일', '안현모', '일상', '전지', '참견', '전지', '참견', '시점', '토요일', '이영자', '전현무', '송은이', '양세형', '유병재', '브레이브걸스'], ['선공', '쁘걸', '신곡', '뮤비', '촬영장', '용형', '여름', '노래', '수기', '정복', '스탠바이', '완료', '전지', '참견', '시점', '토요일', '이영자', '전현무', '송은이', '양세형', '유병재', '브레이브걸스', '용감한형제'], ['예능', '연구소', '브레이브걸스', '직캠', '치맛바람'], ['예능', '연구소', '직캠', '브레이브걸스', '이찬', '쇼음악중심', '음중', '브레이브걸스'], ['예능', '연구소', '직캠', '브레이브걸스', '치맛바람', '쇼음악중심', '음중', '브레이브걸스', '치맛바람'], ['예고', '썸머', '쁘걸', '컴백', '신곡', '촬영', '현장', '스케일', '안현모', '일상', '전지', '참견', '전지', '참견', '시점', '토요일', '이영자', '전현무', '송은이', '양세형', '유병재', '브레이브걸스'], ['예능', '연구소', '직캠', '브레이브걸스', '이찬', '쇼음악중심', '음중', '브레이브걸스'], ['음중', '브레이브걸스'], ['예능', '연구소', '직캠', '브레이브걸스', '이찬', '쇼음악중심', '음중', '브레이브걸스'], ['예능', '연구소', '브레이브걸스', '직캠', '치맛바람'], ['엔딩', '요정', '아모', '브레이브걸스'], ['예능', '연구소', '직캠', '브레이브걸스', '치맛바람', '쇼음악중심', '음중', '브레이브걸스', '치맛바람'], ['예능', '연구소', '직캠', '브레이브걸스', '이찬', '쇼음악중심', '음중', '브레이브걸스'], ['브레이브걸스', '형제', '웃음', '하루', '전지', '참견', '시점', '오늘', '방사', '수전', '브레이브걸스', '민영', '은지'], ['선공', '쁘걸', '신곡', '뮤비', '촬영장', '용형', '여름', '노래', '수기', '정복', '스탠바이', '완료', '전지', '참견', '시점', '토요일', '이영자', '전현무', '송은이', '양세형', '유병재', '브레이브걸스', '용감한형제'], ['예고', '썸머', '쁘걸', '컴백', '신곡', '촬영', '현장', '스케일', '안현모', '일상', '전지', '참견', '전지', '참견', '시점', '토요일', '이영자', '전현무', '송은이', '양세형', '유병재', '브레이브걸스'], ['선공', '쁘걸', '신곡', '뮤비', '촬영장', '용형', '여름', '노래', '수기', '정복', '스탠바이', '완료', '전지', '참견', '시점', '토요일', '이영자', '전현무', '송은이', '양세형', '유병재', '브레이브걸스', '용감한형제'], ['예능', '연구소', '브레이브걸스', '직캠', '치맛바람'], ['예능', '연구소', '직캠', '브레이브걸스', '이찬', '쇼음악중심', '음중', '브레이브걸스'], ['예능', '연구소', '직캠', '브레이브걸스', '치맛바람', '쇼음악중심', '음중', '브레이브걸스', '치맛바람'], ['예고', '썸머', '쁘걸', '컴백', '신곡', '촬영', '현장', '스케일', '안현모', '일상', '전지', '참견', '전지', '참견', '시점', '토요일', '이영자', '전현무', '송은이', '양세형', '유병재', '브레이브걸스'], ['예능', '연구소', '직캠', '브레이브걸스', '이찬', '쇼음악중심', '음중', '브레이브걸스'], ['음중', '브레이브걸스'], ['예능', '연구소', '직캠', '브레이브걸스', '이찬', '쇼음악중심', '음중', '브레이브걸스'], ['예능', '연구소', '브레이브걸스', '직캠', '치맛바람'], ['엔딩', '요정', '아모', '브레이브걸스'], ['예능', '연구소', '직캠', '브레이브걸스', '치맛바람', '쇼음악중심', '음중', '브레이브걸스', '치맛바람'], ['예능', '연구소', '직캠', '브레이브걸스', '이찬', '쇼음악중심', '음중', '브레이브걸스'], ['브레이브걸스', '형제', '웃음', '하루', '전지', '참견', '시점', '오늘', '방사', '수전', '브레이브걸스', '민영', '은지'], ['선공', '쁘걸', '신곡', '뮤비', '촬영장', '용형', '여름', '노래', '수기', '정복', '스탠바이', '완료', '전지', '참견', '시점', '토요일', '이영자', '전현무', '송은이', '양세형', '유병재', '브레이브걸스', '용감한형제'], ['예고', '썸머', '쁘걸', '컴백', '신곡', '촬영', '현장', '스케일', '안현모', '일상', '전지', '참견', '전지', '참견', '시점', '토요일', '이영자', '전현무', '송은이', '양세형', '유병재', '브레이브걸스'], ['선공', '쁘걸', '신곡', '뮤비', '촬영장', '용형', '여름', '노래', '수기', '정복', '스탠바이', '완료', '전지', '참견', '시점', '토요일', '이영자', '전현무', '송은이', '양세형', '유병재', '브레이브걸스', '용감한형제'], ['예능', '연구소', '브레이브걸스', '직캠', '치맛바람'], ['예능', '연구소', '직캠', '브레이브걸스', '이찬', '쇼음악중심', '음중', '브레이브걸스'], ['예능', '연구소', '직캠', '브레이브걸스', '치맛바람', '쇼음악중심', '음중', '브레이브걸스', '치맛바람'], ['예고', '썸머', '쁘걸', '컴백', '신곡', '촬영', '현장', '스케일', '안현모', '일상', '전지', '참견', '전지', '참견', '시점', '토요일', '이영자', '전현무', '송은이', '양세형', '유병재', '브레이브걸스'], ['예능', '연구소', '직캠', '브레이브걸스', '이찬', '쇼음악중심', '음중', '브레이브걸스'], ['음중', '브레이브걸스'], ['예능', '연구소', '직캠', '브레이브걸스', '이찬', '쇼음악중심', '음중', '브레이브걸스'], ['예능', '연구소', '브레이브걸스', '직캠', '치맛바람'], ['엔딩', '요정', '아모', '브레이브걸스'], ['예능', '연구소', '직캠', '브레이브걸스', '치맛바람', '쇼음악중심', '음중', '브레이브걸스', '치맛바람'], ['예능', '연구소', '직캠', '브레이브걸스', '이찬', '쇼음악중심', '음중', '브레이브걸스'], ['브레이브걸스', '형제', '웃음', '하루', '전지', '참견', '시점', '오늘', '방사', '수전', '브레이브걸스', '민영', '은지'], ['선공', '쁘걸', '신곡', '뮤비', '촬영장', '용형', '여름', '노래', '수기', '정복', '스탠바이', '완료', '전지', '참견', '시점', '토요일', '이영자', '전현무', '송은이', '양세형', '유병재', '브레이브걸스', '용감한형제'], ['예고', '썸머', '쁘걸', '컴백', '신곡', '촬영', '현장', '스케일', '안현모', '일상', '전지', '참견', '전지', '참견', '시점', '토요일', '이영자', '전현무', '송은이', '양세형', '유병재', '브레이브걸스'], ['선공', '쁘걸', '신곡', '뮤비', '촬영장', '용형', '여름', '노래', '수기', '정복', '스탠바이', '완료', '전지', '참견', '시점', '토요일', '이영자', '전현무', '송은이', '양세형', '유병재', '브레이브걸스', '용감한형제'], ['예능', '연구소', '브레이브걸스', '직캠', '치맛바람'], ['예능', '연구소', '직캠', '브레이브걸스', '이찬', '쇼음악중심', '음중', '브레이브걸스'], ['예능', '연구소', '직캠', '브레이브걸스', '치맛바람', '쇼음악중심', '음중', '브레이브걸스', '치맛바람'], ['예고', '썸머', '쁘걸', '컴백', '신곡', '촬영', '현장', '스케일', '안현모', '일상', '전지', '참견', '전지', '참견', '시점', '토요일', '이영자', '전현무', '송은이', '양세형', '유병재', '브레이브걸스'], ['예능', '연구소', '직캠', '브레이브걸스', '이찬', '쇼음악중심', '음중', '브레이브걸스'], ['음중', '브레이브걸스'], ['예능', '연구소', '직캠', '브레이브걸스', '이찬', '쇼음악중심', '음중', '브레이브걸스'], ['예능', '연구소', '브레이브걸스', '직캠', '치맛바람'], ['엔딩', '요정', '아모', '브레이브걸스'], ['예능', '연구소', '직캠', '브레이브걸스', '치맛바람', '쇼음악중심', '음중', '브레이브걸스', '치맛바람'], ['예능', '연구소', '직캠', '브레이브걸스', '이찬', '쇼음악중심', '음중', '브레이브걸스'], ['브레이브걸스', '형제', '웃음', '하루', '전지', '참견', '시점', '오늘', '방사', '수전', '브레이브걸스', '민영', '은지'], ['선공', '쁘걸', '신곡', '뮤비', '촬영장', '용형', '여름', '노래', '수기', '정복', '스탠바이', '완료', '전지', '참견', '시점', '토요일', '이영자', '전현무', '송은이', '양세형', '유병재', '브레이브걸스', '용감한형제'], ['예고', '썸머', '쁘걸', '컴백', '신곡', '촬영', '현장', '스케일', '안현모', '일상', '전지', '참견', '전지', '참견', '시점', '토요일', '이영자', '전현무', '송은이', '양세형', '유병재', '브레이브걸스'], ['선공', '쁘걸', '신곡', '뮤비', '촬영장', '용형', '여름', '노래', '수기', '정복', '스탠바이', '완료', '전지', '참견', '시점', '토요일', '이영자', '전현무', '송은이', '양세형', '유병재', '브레이브걸스', '용감한형제'], ['예능', '연구소', '브레이브걸스', '직캠', '치맛바람'], ['예능', '연구소', '직캠', '브레이브걸스', '이찬', '쇼음악중심', '음중', '브레이브걸스'], ['예능', '연구소', '직캠', '브레이브걸스', '치맛바람', '쇼음악중심', '음중', '브레이브걸스', '치맛바람'], ['예고', '썸머', '쁘걸', '컴백', '신곡', '촬영', '현장', '스케일', '안현모', '일상', '전지', '참견', '전지', '참견', '시점', '토요일', '이영자', '전현무', '송은이', '양세형', '유병재', '브레이브걸스'], ['예능', '연구소', '직캠', '브레이브걸스', '이찬', '쇼음악중심', '음중', '브레이브걸스'], ['음중', '브레이브걸스'], ['예능', '연구소', '직캠', '브레이브걸스', '이찬', '쇼음악중심', '음중', '브레이브걸스'], ['예능', '연구소', '브레이브걸스', '직캠', '치맛바람'], ['엔딩', '요정', '아모', '브레이브걸스'], ['예능', '연구소', '직캠', '브레이브걸스', '치맛바람', '쇼음악중심', '음중', '브레이브걸스', '치맛바람'], ['예능', '연구소', '직캠', '브레이브걸스', '이찬', '쇼음악중심', '음중', '브레이브걸스'], ['브레이브걸스', '형제', '웃음', '하루', '전지', '참견', '시점', '오늘', '방사', '수전', '브레이브걸스', '민영', '은지'], ['선공', '쁘걸', '신곡', '뮤비', '촬영장', '용형', '여름', '노래', '수기', '정복', '스탠바이', '완료', '전지', '참견', '시점', '토요일', '이영자', '전현무', '송은이', '양세형', '유병재', '브레이브걸스', '용감한형제'], ['예고', '썸머', '쁘걸', '컴백', '신곡', '촬영', '현장', '스케일', '안현모', '일상', '전지', '참견', '전지', '참견', '시점', '토요일', '이영자', '전현무', '송은이', '양세형', '유병재', '브레이브걸스'], ['선공', '쁘걸', '신곡', '뮤비', '촬영장', '용형', '여름', '노래', '수기', '정복', '스탠바이', '완료', '전지', '참견', '시점', '토요일', '이영자', '전현무', '송은이', '양세형', '유병재', '브레이브걸스', '용감한형제'], ['예능', '연구소', '브레이브걸스', '직캠', '치맛바람'], ['예능', '연구소', '직캠', '브레이브걸스', '이찬', '쇼음악중심', '음중', '브레이브걸스'], ['예능', '연구소', '직캠', '브레이브걸스', '치맛바람', '쇼음악중심', '음중', '브레이브걸스', '치맛바람'], ['예고', '썸머', '쁘걸', '컴백', '신곡', '촬영', '현장', '스케일', '안현모', '일상', '전지', '참견', '전지', '참견', '시점', '토요일', '이영자', '전현무', '송은이', '양세형', '유병재', '브레이브걸스'], ['예능', '연구소', '직캠', '브레이브걸스', '이찬', '쇼음악중심', '음중', '브레이브걸스'], ['음중', '브레이브걸스'], ['예능', '연구소', '직캠', '브레이브걸스', '이찬', '쇼음악중심', '음중', '브레이브걸스'], ['예능', '연구소', '브레이브걸스', '직캠', '치맛바람'], ['엔딩', '요정', '아모', '브레이브걸스'], ['예능', '연구소', '직캠', '브레이브걸스', '치맛바람', '쇼음악중심', '음중', '브레이브걸스', '치맛바람'], ['예능', '연구소', '직캠', '브레이브걸스', '이찬', '쇼음악중심', '음중', '브레이브걸스'], ['브레이브걸스', '형제', '웃음', '하루', '전지', '참견', '시점', '오늘', '방사', '수전', '브레이브걸스', '민영', '은지'], ['선공', '쁘걸', '신곡', '뮤비', '촬영장', '용형', '여름', '노래', '수기', '정복', '스탠바이', '완료', '전지', '참견', '시점', '토요일', '이영자', '전현무', '송은이', '양세형', '유병재', '브레이브걸스', '용감한형제'], ['예고', '썸머', '쁘걸', '컴백', '신곡', '촬영', '현장', '스케일', '안현모', '일상', '전지', '참견', '전지', '참견', '시점', '토요일', '이영자', '전현무', '송은이', '양세형', '유병재', '브레이브걸스'], ['선공', '쁘걸', '신곡', '뮤비', '촬영장', '용형', '여름', '노래', '수기', '정복', '스탠바이', '완료', '전지', '참견', '시점', '토요일', '이영자', '전현무', '송은이', '양세형', '유병재', '브레이브걸스', '용감한형제'], ['예능', '연구소', '브레이브걸스', '직캠', '치맛바람'], ['예능', '연구소', '직캠', '브레이브걸스', '이찬', '쇼음악중심', '음중', '브레이브걸스'], ['예능', '연구소', '직캠', '브레이브걸스', '치맛바람', '쇼음악중심', '음중', '브레이브걸스', '치맛바람'], ['예고', '썸머', '쁘걸', '컴백', '신곡', '촬영', '현장', '스케일', '안현모', '일상', '전지', '참견', '전지', '참견', '시점', '토요일', '이영자', '전현무', '송은이', '양세형', '유병재', '브레이브걸스'], ['예능', '연구소', '직캠', '브레이브걸스', '이찬', '쇼음악중심', '음중', '브레이브걸스'], ['음중', '브레이브걸스'], ['예능', '연구소', '직캠', '브레이브걸스', '이찬', '쇼음악중심', '음중', '브레이브걸스'], ['예능', '연구소', '브레이브걸스', '직캠', '치맛바람'], ['엔딩', '요정', '아모', '브레이브걸스'], ['예능', '연구소', '직캠', '브레이브걸스', '치맛바람', '쇼음악중심', '음중', '브레이브걸스', '치맛바람'], ['예능', '연구소', '직캠', '브레이브걸스', '이찬', '쇼음악중심', '음중', '브레이브걸스'], ['브레이브걸스', '형제', '웃음', '하루', '전지', '참견', '시점', '오늘', '방사', '수전', '브레이브걸스', '민영', '은지'], ['선공', '쁘걸', '신곡', '뮤비', '촬영장', '용형', '여름', '노래', '수기', '정복', '스탠바이', '완료', '전지', '참견', '시점', '토요일', '이영자', '전현무', '송은이', '양세형', '유병재', '브레이브걸스', '용감한형제'], ['예고', '썸머', '쁘걸', '컴백', '신곡', '촬영', '현장', '스케일', '안현모', '일상', '전지', '참견', '전지', '참견', '시점', '토요일', '이영자', '전현무', '송은이', '양세형', '유병재', '브레이브걸스'], ['선공', '쁘걸', '신곡', '뮤비', '촬영장', '용형', '여름', '노래', '수기', '정복', '스탠바이', '완료', '전지', '참견', '시점', '토요일', '이영자', '전현무', '송은이', '양세형', '유병재', '브레이브걸스', '용감한형제'], ['예능', '연구소', '브레이브걸스', '직캠', '치맛바람'], ['예능', '연구소', '직캠', '브레이브걸스', '이찬', '쇼음악중심', '음중', '브레이브걸스'], ['예능', '연구소', '직캠', '브레이브걸스', '치맛바람', '쇼음악중심', '음중', '브레이브걸스', '치맛바람'], ['예고', '썸머', '쁘걸', '컴백', '신곡', '촬영', '현장', '스케일', '안현모', '일상', '전지', '참견', '전지', '참견', '시점', '토요일', '이영자', '전현무', '송은이', '양세형', '유병재', '브레이브걸스'], ['예능', '연구소', '직캠', '브레이브걸스', '이찬', '쇼음악중심', '음중', '브레이브걸스'], ['음중', '브레이브걸스'], ['예능', '연구소', '직캠', '브레이브걸스', '이찬', '쇼음악중심', '음중', '브레이브걸스'], ['예능', '연구소', '브레이브걸스', '직캠', '치맛바람'], ['엔딩', '요정', '아모', '브레이브걸스'], ['예능', '연구소', '직캠', '브레이브걸스', '치맛바람', '쇼음악중심', '음중', '브레이브걸스', '치맛바람'], ['예능', '연구소', '직캠', '브레이브걸스', '이찬', '쇼음악중심', '음중', '브레이브걸스'], ['브레이브걸스', '형제', '웃음', '하루', '전지', '참견', '시점', '오늘', '방사', '수전', '브레이브걸스', '민영', '은지'], ['선공', '쁘걸', '신곡', '뮤비', '촬영장', '용형', '여름', '노래', '수기', '정복', '스탠바이', '완료', '전지', '참견', '시점', '토요일', '이영자', '전현무', '송은이', '양세형', '유병재', '브레이브걸스', '용감한형제'], ['예고', '썸머', '쁘걸', '컴백', '신곡', '촬영', '현장', '스케일', '안현모', '일상', '전지', '참견', '전지', '참견', '시점', '토요일', '이영자', '전현무', '송은이', '양세형', '유병재', '브레이브걸스'], ['선공', '쁘걸', '신곡', '뮤비', '촬영장', '용형', '여름', '노래', '수기', '정복', '스탠바이', '완료', '전지', '참견', '시점', '토요일', '이영자', '전현무', '송은이', '양세형', '유병재', '브레이브걸스', '용감한형제'], ['예능', '연구소', '브레이브걸스', '직캠', '치맛바람'], ['예능', '연구소', '직캠', '브레이브걸스', '이찬', '쇼음악중심', '음중', '브레이브걸스'], ['예능', '연구소', '직캠', '브레이브걸스', '치맛바람', '쇼음악중심', '음중', '브레이브걸스', '치맛바람'], ['예고', '썸머', '쁘걸', '컴백', '신곡', '촬영', '현장', '스케일', '안현모', '일상', '전지', '참견', '전지', '참견', '시점', '토요일', '이영자', '전현무', '송은이', '양세형', '유병재', '브레이브걸스'], ['예능', '연구소', '직캠', '브레이브걸스', '이찬', '쇼음악중심', '음중', '브레이브걸스'], ['음중', '브레이브걸스'], ['예능', '연구소', '직캠', '브레이브걸스', '이찬', '쇼음악중심', '음중', '브레이브걸스'], ['예능', '연구소', '브레이브걸스', '직캠', '치맛바람'], ['엔딩', '요정', '아모', '브레이브걸스'], ['예능', '연구소', '직캠', '브레이브걸스', '치맛바람', '쇼음악중심', '음중', '브레이브걸스', '치맛바람'], ['예능', '연구소', '직캠', '브레이브걸스', '이찬', '쇼음악중심', '음중', '브레이브걸스'], ['브레이브걸스', '형제', '웃음', '하루', '전지', '참견', '시점', '오늘', '방사', '수전', '브레이브걸스', '민영', '은지'], ['선공', '쁘걸', '신곡', '뮤비', '촬영장', '용형', '여름', '노래', '수기', '정복', '스탠바이', '완료', '전지', '참견', '시점', '토요일', '이영자', '전현무', '송은이', '양세형', '유병재', '브레이브걸스', '용감한형제'], ['예고', '썸머', '쁘걸', '컴백', '신곡', '촬영', '현장', '스케일', '안현모', '일상', '전지', '참견', '전지', '참견', '시점', '토요일', '이영자', '전현무', '송은이', '양세형', '유병재', '브레이브걸스'], ['선공', '쁘걸', '신곡', '뮤비', '촬영장', '용형', '여름', '노래', '수기', '정복', '스탠바이', '완료', '전지', '참견', '시점', '토요일', '이영자', '전현무', '송은이', '양세형', '유병재', '브레이브걸스', '용감한형제'], ['예능', '연구소', '브레이브걸스', '직캠', '치맛바람'], ['예능', '연구소', '직캠', '브레이브걸스', '이찬', '쇼음악중심', '음중', '브레이브걸스'], ['예능', '연구소', '직캠', '브레이브걸스', '치맛바람', '쇼음악중심', '음중', '브레이브걸스', '치맛바람'], ['예고', '썸머', '쁘걸', '컴백', '신곡', '촬영', '현장', '스케일', '안현모', '일상', '전지', '참견', '전지', '참견', '시점', '토요일', '이영자', '전현무', '송은이', '양세형', '유병재', '브레이브걸스'], ['예능', '연구소', '직캠', '브레이브걸스', '이찬', '쇼음악중심', '음중', '브레이브걸스'], ['음중', '브레이브걸스'], ['예능', '연구소', '직캠', '브레이브걸스', '이찬', '쇼음악중심', '음중', '브레이브걸스'], ['예능', '연구소', '브레이브걸스', '직캠', '치맛바람'], ['엔딩', '요정', '아모', '브레이브걸스'], ['예능', '연구소', '직캠', '브레이브걸스', '치맛바람', '쇼음악중심', '음중', '브레이브걸스', '치맛바람'], ['예능', '연구소', '직캠', '브레이브걸스', '이찬', '쇼음악중심', '음중', '브레이브걸스'], ['브레이브걸스', '형제', '웃음', '하루', '전지', '참견', '시점', '오늘', '방사', '수전', '브레이브걸스', '민영', '은지'], ['선공', '쁘걸', '신곡', '뮤비', '촬영장', '용형', '여름', '노래', '수기', '정복', '스탠바이', '완료', '전지', '참견', '시점', '토요일', '이영자', '전현무', '송은이', '양세형', '유병재', '브레이브걸스', '용감한형제'], ['예고', '썸머', '쁘걸', '컴백', '신곡', '촬영', '현장', '스케일', '안현모', '일상', '전지', '참견', '전지', '참견', '시점', '토요일', '이영자', '전현무', '송은이', '양세형', '유병재', '브레이브걸스'], ['선공', '쁘걸', '신곡', '뮤비', '촬영장', '용형', '여름', '노래', '수기', '정복', '스탠바이', '완료', '전지', '참견', '시점', '토요일', '이영자', '전현무', '송은이', '양세형', '유병재', '브레이브걸스', '용감한형제'], ['예능', '연구소', '브레이브걸스', '직캠', '치맛바람'], ['예능', '연구소', '직캠', '브레이브걸스', '이찬', '쇼음악중심', '음중', '브레이브걸스'], ['예능', '연구소', '직캠', '브레이브걸스', '치맛바람', '쇼음악중심', '음중', '브레이브걸스', '치맛바람'], ['예고', '썸머', '쁘걸', '컴백', '신곡', '촬영', '현장', '스케일', '안현모', '일상', '전지', '참견', '전지', '참견', '시점', '토요일', '이영자', '전현무', '송은이', '양세형', '유병재', '브레이브걸스'], ['예능', '연구소', '직캠', '브레이브걸스', '이찬', '쇼음악중심', '음중', '브레이브걸스'], ['음중', '브레이브걸스'], ['예능', '연구소', '직캠', '브레이브걸스', '이찬', '쇼음악중심', '음중', '브레이브걸스'], ['예능', '연구소', '브레이브걸스', '직캠', '치맛바람'], ['엔딩', '요정', '아모', '브레이브걸스'], ['예능', '연구소', '직캠', '브레이브걸스', '치맛바람', '쇼음악중심', '음중', '브레이브걸스', '치맛바람'], ['예능', '연구소', '직캠', '브레이브걸스', '이찬', '쇼음악중심', '음중', '브레이브걸스'], ['브레이브걸스', '형제', '웃음', '하루', '전지', '참견', '시점', '오늘', '방사', '수전', '브레이브걸스', '민영', '은지'], ['선공', '쁘걸', '신곡', '뮤비', '촬영장', '용형', '여름', '노래', '수기', '정복', '스탠바이', '완료', '전지', '참견', '시점', '토요일', '이영자', '전현무', '송은이', '양세형', '유병재', '브레이브걸스', '용감한형제'], ['예고', '썸머', '쁘걸', '컴백', '신곡', '촬영', '현장', '스케일', '안현모', '일상', '전지', '참견', '전지', '참견', '시점', '토요일', '이영자', '전현무', '송은이', '양세형', '유병재', '브레이브걸스'], ['선공', '쁘걸', '신곡', '뮤비', '촬영장', '용형', '여름', '노래', '수기', '정복', '스탠바이', '완료', '전지', '참견', '시점', '토요일', '이영자', '전현무', '송은이', '양세형', '유병재', '브레이브걸스', '용감한형제'], ['예능', '연구소', '브레이브걸스', '직캠', '치맛바람'], ['예능', '연구소', '직캠', '브레이브걸스', '이찬', '쇼음악중심', '음중', '브레이브걸스'], ['예능', '연구소', '직캠', '브레이브걸스', '치맛바람', '쇼음악중심', '음중', '브레이브걸스', '치맛바람'], ['예고', '썸머', '쁘걸', '컴백', '신곡', '촬영', '현장', '스케일', '안현모', '일상', '전지', '참견', '전지', '참견', '시점', '토요일', '이영자', '전현무', '송은이', '양세형', '유병재', '브레이브걸스'], ['예능', '연구소', '직캠', '브레이브걸스', '이찬', '쇼음악중심', '음중', '브레이브걸스'], ['음중', '브레이브걸스'], ['예능', '연구소', '직캠', '브레이브걸스', '이찬', '쇼음악중심', '음중', '브레이브걸스'], ['예능', '연구소', '브레이브걸스', '직캠', '치맛바람'], ['엔딩', '요정', '아모', '브레이브걸스'], ['예능', '연구소', '직캠', '브레이브걸스', '치맛바람', '쇼음악중심', '음중', '브레이브걸스', '치맛바람'], ['예능', '연구소', '직캠', '브레이브걸스', '이찬', '쇼음악중심', '음중', '브레이브걸스'], ['브레이브걸스', '형제', '웃음', '하루', '전지', '참견', '시점', '오늘', '방사', '수전', '브레이브걸스', '민영', '은지'], ['선공', '쁘걸', '신곡', '뮤비', '촬영장', '용형', '여름', '노래', '수기', '정복', '스탠바이', '완료', '전지', '참견', '시점', '토요일', '이영자', '전현무', '송은이', '양세형', '유병재', '브레이브걸스', '용감한형제'], ['예고', '썸머', '쁘걸', '컴백', '신곡', '촬영', '현장', '스케일', '안현모', '일상', '전지', '참견', '전지', '참견', '시점', '토요일', '이영자', '전현무', '송은이', '양세형', '유병재', '브레이브걸스'], ['선공', '쁘걸', '신곡', '뮤비', '촬영장', '용형', '여름', '노래', '수기', '정복', '스탠바이', '완료', '전지', '참견', '시점', '토요일', '이영자', '전현무', '송은이', '양세형', '유병재', '브레이브걸스', '용감한형제'], ['예능', '연구소', '브레이브걸스', '직캠', '치맛바람'], ['예능', '연구소', '직캠', '브레이브걸스', '이찬', '쇼음악중심', '음중', '브레이브걸스'], ['예능', '연구소', '직캠', '브레이브걸스', '치맛바람', '쇼음악중심', '음중', '브레이브걸스', '치맛바람'], ['예고', '썸머', '쁘걸', '컴백', '신곡', '촬영', '현장', '스케일', '안현모', '일상', '전지', '참견', '전지', '참견', '시점', '토요일', '이영자', '전현무', '송은이', '양세형', '유병재', '브레이브걸스'], ['예능', '연구소', '직캠', '브레이브걸스', '이찬', '쇼음악중심', '음중', '브레이브걸스'], ['음중', '브레이브걸스'], ['예능', '연구소', '직캠', '브레이브걸스', '이찬', '쇼음악중심', '음중', '브레이브걸스'], ['예능', '연구소', '브레이브걸스', '직캠', '치맛바람'], ['엔딩', '요정', '아모', '브레이브걸스'], ['예능', '연구소', '직캠', '브레이브걸스', '치맛바람', '쇼음악중심', '음중', '브레이브걸스', '치맛바람'], ['예능', '연구소', '직캠', '브레이브걸스', '이찬', '쇼음악중심', '음중', '브레이브걸스'], ['브레이브걸스', '형제', '웃음', '하루', '전지', '참견', '시점', '오늘', '방사', '수전', '브레이브걸스', '민영', '은지'], ['선공', '쁘걸', '신곡', '뮤비', '촬영장', '용형', '여름', '노래', '수기', '정복', '스탠바이', '완료', '전지', '참견', '시점', '토요일', '이영자', '전현무', '송은이', '양세형', '유병재', '브레이브걸스', '용감한형제'], ['예고', '썸머', '쁘걸', '컴백', '신곡', '촬영', '현장', '스케일', '안현모', '일상', '전지', '참견', '전지', '참견', '시점', '토요일', '이영자', '전현무', '송은이', '양세형', '유병재', '브레이브걸스'], ['선공', '쁘걸', '신곡', '뮤비', '촬영장', '용형', '여름', '노래', '수기', '정복', '스탠바이', '완료', '전지', '참견', '시점', '토요일', '이영자', '전현무', '송은이', '양세형', '유병재', '브레이브걸스', '용감한형제'], ['예능', '연구소', '브레이브걸스', '직캠', '치맛바람'], ['예능', '연구소', '직캠', '브레이브걸스', '이찬', '쇼음악중심', '음중', '브레이브걸스'], ['예능', '연구소', '직캠', '브레이브걸스', '치맛바람', '쇼음악중심', '음중', '브레이브걸스', '치맛바람'], ['예고', '썸머', '쁘걸', '컴백', '신곡', '촬영', '현장', '스케일', '안현모', '일상', '전지', '참견', '전지', '참견', '시점', '토요일', '이영자', '전현무', '송은이', '양세형', '유병재', '브레이브걸스'], ['예능', '연구소', '직캠', '브레이브걸스', '이찬', '쇼음악중심', '음중', '브레이브걸스'], ['음중', '브레이브걸스'], ['예능', '연구소', '직캠', '브레이브걸스', '이찬', '쇼음악중심', '음중', '브레이브걸스'], ['예능', '연구소', '브레이브걸스', '직캠', '치맛바람'], ['엔딩', '요정', '아모', '브레이브걸스'], ['예능', '연구소', '직캠', '브레이브걸스', '치맛바람', '쇼음악중심', '음중', '브레이브걸스', '치맛바람'], ['예능', '연구소', '직캠', '브레이브걸스', '이찬', '쇼음악중심', '음중', '브레이브걸스'], ['브레이브걸스', '형제', '웃음', '하루', '전지', '참견', '시점', '오늘', '방사', '수전', '브레이브걸스', '민영', '은지'], ['선공', '쁘걸', '신곡', '뮤비', '촬영장', '용형', '여름', '노래', '수기', '정복', '스탠바이', '완료', '전지', '참견', '시점', '토요일', '이영자', '전현무', '송은이', '양세형', '유병재', '브레이브걸스', '용감한형제'], ['예고', '썸머', '쁘걸', '컴백', '신곡', '촬영', '현장', '스케일', '안현모', '일상', '전지', '참견', '전지', '참견', '시점', '토요일', '이영자', '전현무', '송은이', '양세형', '유병재', '브레이브걸스'], ['선공', '쁘걸', '신곡', '뮤비', '촬영장', '용형', '여름', '노래', '수기', '정복', '스탠바이', '완료', '전지', '참견', '시점', '토요일', '이영자', '전현무', '송은이', '양세형', '유병재', '브레이브걸스', '용감한형제'], ['예능', '연구소', '브레이브걸스', '직캠', '치맛바람'], ['예능', '연구소', '직캠', '브레이브걸스', '이찬', '쇼음악중심', '음중', '브레이브걸스'], ['예능', '연구소', '직캠', '브레이브걸스', '치맛바람', '쇼음악중심', '음중', '브레이브걸스', '치맛바람'], ['예고', '썸머', '쁘걸', '컴백', '신곡', '촬영', '현장', '스케일', '안현모', '일상', '전지', '참견', '전지', '참견', '시점', '토요일', '이영자', '전현무', '송은이', '양세형', '유병재', '브레이브걸스'], ['예능', '연구소', '직캠', '브레이브걸스', '이찬', '쇼음악중심', '음중', '브레이브걸스'], ['음중', '브레이브걸스'], ['예능', '연구소', '직캠', '브레이브걸스', '이찬', '쇼음악중심', '음중', '브레이브걸스'], ['예능', '연구소', '브레이브걸스', '직캠', '치맛바람'], ['엔딩', '요정', '아모', '브레이브걸스'], ['예능', '연구소', '직캠', '브레이브걸스', '치맛바람', '쇼음악중심', '음중', '브레이브걸스', '치맛바람'], ['예능', '연구소', '직캠', '브레이브걸스', '이찬', '쇼음악중심', '음중', '브레이브걸스'], ['브레이브걸스', '형제', '웃음', '하루', '전지', '참견', '시점', '오늘', '방사', '수전', '브레이브걸스', '민영', '은지'], ['선공', '쁘걸', '신곡', '뮤비', '촬영장', '용형', '여름', '노래', '수기', '정복', '스탠바이', '완료', '전지', '참견', '시점', '토요일', '이영자', '전현무', '송은이', '양세형', '유병재', '브레이브걸스', '용감한형제'], ['예고', '썸머', '쁘걸', '컴백', '신곡', '촬영', '현장', '스케일', '안현모', '일상', '전지', '참견', '전지', '참견', '시점', '토요일', '이영자', '전현무', '송은이', '양세형', '유병재', '브레이브걸스'], ['선공', '쁘걸', '신곡', '뮤비', '촬영장', '용형', '여름', '노래', '수기', '정복', '스탠바이', '완료', '전지', '참견', '시점', '토요일', '이영자', '전현무', '송은이', '양세형', '유병재', '브레이브걸스', '용감한형제'], ['예능', '연구소', '브레이브걸스', '직캠', '치맛바람'], ['예능', '연구소', '직캠', '브레이브걸스', '이찬', '쇼음악중심', '음중', '브레이브걸스'], ['예능', '연구소', '직캠', '브레이브걸스', '치맛바람', '쇼음악중심', '음중', '브레이브걸스', '치맛바람'], ['예고', '썸머', '쁘걸', '컴백', '신곡', '촬영', '현장', '스케일', '안현모', '일상', '전지', '참견', '전지', '참견', '시점', '토요일', '이영자', '전현무', '송은이', '양세형', '유병재', '브레이브걸스'], ['예능', '연구소', '직캠', '브레이브걸스', '이찬', '쇼음악중심', '음중', '브레이브걸스'], ['과즙', '브레이브걸스', '뮤비', '촬영장', '현장', '프로미', '뿜뿜', '안현모', '반전', '일상', '공개', '전지', '참견', '시점', '오늘', '방송', '방송'], ['몬스타', '엑스', '겜블러', '모든', '베팅', '쇼음악중심', '라인업', '공개', '트와이스', '브레이브걸스', '김현철', '뱀뱀', '유겸', '텐션'], ['음중', '브레이브걸스'], ['예능', '연구소', '직캠', '브레이브걸스', '이찬', '쇼음악중심', '음중', '브레이브걸스'], ['예능', '연구소', '브레이브걸스', '직캠', '치맛바람'], ['엔딩', '요정', '아모', '브레이브걸스'], ['예능', '연구소', '직캠', '브레이브걸스', '치맛바람', '쇼음악중심', '음중', '브레이브걸스', '치맛바람'], ['예능', '연구소', '직캠', '브레이브걸스', '이찬', '쇼음악중심', '음중', '브레이브걸스'], ['브레이브걸스', '형제', '웃음', '하루', '전지', '참견', '시점', '오늘', '방사', '수전', '브레이브걸스', '민영', '은지'], ['선공', '쁘걸', '신곡', '뮤비', '촬영장', '용형', '여름', '노래', '수기', '정복', '스탠바이', '완료', '전지', '참견', '시점', '토요일', '이영자', '전현무', '송은이', '양세형', '유병재', '브레이브걸스', '용감한형제'], ['예고', '썸머', '쁘걸', '컴백', '신곡', '촬영', '현장', '스케일', '안현모', '일상', '전지', '참견', '전지', '참견', '시점', '토요일', '이영자', '전현무', '송은이', '양세형', '유병재', '브레이브걸스'], ['선공', '쁘걸', '신곡', '뮤비', '촬영장', '용형', '여름', '노래', '수기', '정복', '스탠바이', '완료', '전지', '참견', '시점', '토요일', '이영자', '전현무', '송은이', '양세형', '유병재', '브레이브걸스', '용감한형제'], ['예능', '연구소', '브레이브걸스', '직캠', '치맛바람'], ['예능', '연구소', '직캠', '브레이브걸스', '이찬', '쇼음악중심', '음중', '브레이브걸스'], ['예능', '연구소', '직캠', '브레이브걸스', '치맛바람', '쇼음악중심', '음중', '브레이브걸스', '치맛바람'], ['과즙', '브레이브걸스', '뮤비', '촬영장', '현장', '프로미', '뿜뿜', '안현모', '반전', '일상', '공개', '전지', '참견', '시점', '오늘', '방송', '방송'], ['몬스타', '엑스', '겜블러', '모든', '베팅', '쇼음악중심', '라인업', '공개', '트와이스', '브레이브걸스', '김현철', '뱀뱀', '유겸', '텐션'], ['음중', '브레이브걸스'], ['예능', '연구소', '직캠', '브레이브걸스', '이찬', '쇼음악중심', '음중', '브레이브걸스'], ['예능', '연구소', '브레이브걸스', '직캠', '치맛바람'], ['엔딩', '요정', '아모', '브레이브걸스'], ['예능', '연구소', '직캠', '브레이브걸스', '치맛바람', '쇼음악중심', '음중', '브레이브걸스', '치맛바람'], ['예능', '연구소', '직캠', '브레이브걸스', '이찬', '쇼음악중심', '음중', '브레이브걸스'], ['브레이브걸스', '형제', '웃음', '하루', '전지', '참견', '시점', '오늘', '방사', '수전', '브레이브걸스', '민영', '은지'], ['선공', '쁘걸', '신곡', '뮤비', '촬영장', '용형', '여름', '노래', '수기', '정복', '스탠바이', '완료', '전지', '참견', '시점', '토요일', '이영자', '전현무', '송은이', '양세형', '유병재', '브레이브걸스', '용감한형제'], ['예고', '썸머', '쁘걸', '컴백', '신곡', '촬영', '현장', '스케일', '안현모', '일상', '전지', '참견', '전지', '참견', '시점', '토요일', '이영자', '전현무', '송은이', '양세형', '유병재', '브레이브걸스'], ['선공', '쁘걸', '신곡', '뮤비', '촬영장', '용형', '여름', '노래', '수기', '정복', '스탠바이', '완료', '전지', '참견', '시점', '토요일', '이영자', '전현무', '송은이', '양세형', '유병재', '브레이브걸스', '용감한형제'], ['예능', '연구소', '브레이브걸스', '직캠', '치맛바람'], ['예능', '연구소', '직캠', '브레이브걸스', '이찬', '쇼음악중심', '음중', '브레이브걸스'], ['예능', '연구소', '직캠', '브레이브걸스', '치맛바람', '쇼음악중심', '음중', '브레이브걸스', '치맛바람'], ['과즙', '브레이브걸스', '뮤비', '촬영장', '현장', '프로미', '뿜뿜', '안현모', '반전', '일상', '공개', '전지', '참견', '시점', '오늘', '방송', '방송'], ['몬스타', '엑스', '겜블러', '모든', '베팅', '쇼음악중심', '라인업', '공개', '트와이스', '브레이브걸스', '김현철', '뱀뱀', '유겸', '텐션'], ['음중', '브레이브걸스'], ['예능', '연구소', '직캠', '브레이브걸스', '이찬', '쇼음악중심', '음중', '브레이브걸스'], ['예능', '연구소', '브레이브걸스', '직캠', '치맛바람'], ['엔딩', '요정', '아모', '브레이브걸스'], ['예능', '연구소', '직캠', '브레이브걸스', '치맛바람', '쇼음악중심', '음중', '브레이브걸스', '치맛바람'], ['예능', '연구소', '직캠', '브레이브걸스', '이찬', '쇼음악중심', '음중', '브레이브걸스'], ['브레이브걸스', '형제', '웃음', '하루', '전지', '참견', '시점', '오늘', '방사', '수전', '브레이브걸스', '민영', '은지'], ['선공', '쁘걸', '신곡', '뮤비', '촬영장', '용형', '여름', '노래', '수기', '정복', '스탠바이', '완료', '전지', '참견', '시점', '토요일', '이영자', '전현무', '송은이', '양세형', '유병재', '브레이브걸스', '용감한형제'], ['예고', '썸머', '쁘걸', '컴백', '신곡', '촬영', '현장', '스케일', '안현모', '일상', '전지', '참견', '전지', '참견', '시점', '토요일', '이영자', '전현무', '송은이', '양세형', '유병재', '브레이브걸스'], ['선공', '쁘걸', '신곡', '뮤비', '촬영장', '용형', '여름', '노래', '수기', '정복', '스탠바이', '완료', '전지', '참견', '시점', '토요일', '이영자', '전현무', '송은이', '양세형', '유병재', '브레이브걸스', '용감한형제'], ['예능', '연구소', '브레이브걸스', '직캠', '치맛바람'], ['예능', '연구소', '직캠', '브레이브걸스', '이찬', '쇼음악중심', '음중', '브레이브걸스'], ['예능', '연구소', '직캠', '브레이브걸스', '치맛바람', '쇼음악중심', '음중', '브레이브걸스', '치맛바람']]\n"
     ]
    }
   ],
   "source": [
    "transactions = df['nouns'].tolist()\n",
    "transactions = [transaction for transaction in transactions if transaction ] # 공백문자열을 방지\n",
    "print(transactions)"
   ]
  },
  {
   "cell_type": "markdown",
   "metadata": {},
   "source": [
    "**연관분석을 수행합니다.**"
   ]
  },
  {
   "cell_type": "code",
   "execution_count": 19,
   "metadata": {},
   "outputs": [
    {
     "name": "stdout",
     "output_type": "stream",
     "text": [
      "[RelationRecord(items=frozenset({'노래', '뮤비'}), support=0.13333333333333333, ordered_statistics=[OrderedStatistic(items_base=frozenset({'노래'}), items_add=frozenset({'뮤비'}), confidence=1.0, lift=6.951219512195122), OrderedStatistic(items_base=frozenset({'뮤비'}), items_add=frozenset({'노래'}), confidence=0.9268292682926829, lift=6.951219512195122)]), RelationRecord(items=frozenset({'노래', '선공'}), support=0.13333333333333333, ordered_statistics=[OrderedStatistic(items_base=frozenset({'노래'}), items_add=frozenset({'선공'}), confidence=1.0, lift=7.5), OrderedStatistic(items_base=frozenset({'선공'}), items_add=frozenset({'노래'}), confidence=1.0, lift=7.5)]), RelationRecord(items=frozenset({'노래', '수기'}), support=0.13333333333333333, ordered_statistics=[OrderedStatistic(items_base=frozenset({'노래'}), items_add=frozenset({'수기'}), confidence=1.0, lift=7.5), OrderedStatistic(items_base=frozenset({'수기'}), items_add=frozenset({'노래'}), confidence=1.0, lift=7.5)]), RelationRecord(items=frozenset({'노래', '스탠바이'}), support=0.13333333333333333, ordered_statistics=[OrderedStatistic(items_base=frozenset({'노래'}), items_add=frozenset({'스탠바이'}), confidence=1.0, lift=7.5), OrderedStatistic(items_base=frozenset({'스탠바이'}), items_add=frozenset({'노래'}), confidence=1.0, lift=7.5)]), RelationRecord(items=frozenset({'노래', '여름'}), support=0.13333333333333333, ordered_statistics=[OrderedStatistic(items_base=frozenset({'노래'}), items_add=frozenset({'여름'}), confidence=1.0, lift=7.5), OrderedStatistic(items_base=frozenset({'여름'}), items_add=frozenset({'노래'}), confidence=1.0, lift=7.5)]), RelationRecord(items=frozenset({'노래', '완료'}), support=0.13333333333333333, ordered_statistics=[OrderedStatistic(items_base=frozenset({'노래'}), items_add=frozenset({'완료'}), confidence=1.0, lift=7.5), OrderedStatistic(items_base=frozenset({'완료'}), items_add=frozenset({'노래'}), confidence=1.0, lift=7.5)]), RelationRecord(items=frozenset({'노래', '용감한형제'}), support=0.13333333333333333, ordered_statistics=[OrderedStatistic(items_base=frozenset({'노래'}), items_add=frozenset({'용감한형제'}), confidence=1.0, lift=7.5), OrderedStatistic(items_base=frozenset({'용감한형제'}), items_add=frozenset({'노래'}), confidence=1.0, lift=7.5)]), RelationRecord(items=frozenset({'노래', '용형'}), support=0.13333333333333333, ordered_statistics=[OrderedStatistic(items_base=frozenset({'노래'}), items_add=frozenset({'용형'}), confidence=1.0, lift=7.5), OrderedStatistic(items_base=frozenset({'용형'}), items_add=frozenset({'노래'}), confidence=1.0, lift=7.5)]), RelationRecord(items=frozenset({'노래', '정복'}), support=0.13333333333333333, ordered_statistics=[OrderedStatistic(items_base=frozenset({'노래'}), items_add=frozenset({'정복'}), confidence=1.0, lift=7.5), OrderedStatistic(items_base=frozenset({'정복'}), items_add=frozenset({'노래'}), confidence=1.0, lift=7.5)]), RelationRecord(items=frozenset({'노래', '촬영장'}), support=0.13333333333333333, ordered_statistics=[OrderedStatistic(items_base=frozenset({'노래'}), items_add=frozenset({'촬영장'}), confidence=1.0, lift=6.951219512195122), OrderedStatistic(items_base=frozenset({'촬영장'}), items_add=frozenset({'노래'}), confidence=0.9268292682926829, lift=6.951219512195122)]), RelationRecord(items=frozenset({'뮤비', '선공'}), support=0.13333333333333333, ordered_statistics=[OrderedStatistic(items_base=frozenset({'뮤비'}), items_add=frozenset({'선공'}), confidence=0.9268292682926829, lift=6.951219512195122), OrderedStatistic(items_base=frozenset({'선공'}), items_add=frozenset({'뮤비'}), confidence=1.0, lift=6.951219512195122)]), RelationRecord(items=frozenset({'수기', '뮤비'}), support=0.13333333333333333, ordered_statistics=[OrderedStatistic(items_base=frozenset({'뮤비'}), items_add=frozenset({'수기'}), confidence=0.9268292682926829, lift=6.951219512195122), OrderedStatistic(items_base=frozenset({'수기'}), items_add=frozenset({'뮤비'}), confidence=1.0, lift=6.951219512195122)]), RelationRecord(items=frozenset({'스탠바이', '뮤비'}), support=0.13333333333333333, ordered_statistics=[OrderedStatistic(items_base=frozenset({'뮤비'}), items_add=frozenset({'스탠바이'}), confidence=0.9268292682926829, lift=6.951219512195122), OrderedStatistic(items_base=frozenset({'스탠바이'}), items_add=frozenset({'뮤비'}), confidence=1.0, lift=6.951219512195122)]), RelationRecord(items=frozenset({'뮤비', '여름'}), support=0.13333333333333333, ordered_statistics=[OrderedStatistic(items_base=frozenset({'뮤비'}), items_add=frozenset({'여름'}), confidence=0.9268292682926829, lift=6.951219512195122), OrderedStatistic(items_base=frozenset({'여름'}), items_add=frozenset({'뮤비'}), confidence=1.0, lift=6.951219512195122)]), RelationRecord(items=frozenset({'뮤비', '완료'}), support=0.13333333333333333, ordered_statistics=[OrderedStatistic(items_base=frozenset({'뮤비'}), items_add=frozenset({'완료'}), confidence=0.9268292682926829, lift=6.951219512195122), OrderedStatistic(items_base=frozenset({'완료'}), items_add=frozenset({'뮤비'}), confidence=1.0, lift=6.951219512195122)]), RelationRecord(items=frozenset({'용감한형제', '뮤비'}), support=0.13333333333333333, ordered_statistics=[OrderedStatistic(items_base=frozenset({'뮤비'}), items_add=frozenset({'용감한형제'}), confidence=0.9268292682926829, lift=6.951219512195122), OrderedStatistic(items_base=frozenset({'용감한형제'}), items_add=frozenset({'뮤비'}), confidence=1.0, lift=6.951219512195122)]), RelationRecord(items=frozenset({'용형', '뮤비'}), support=0.13333333333333333, ordered_statistics=[OrderedStatistic(items_base=frozenset({'뮤비'}), items_add=frozenset({'용형'}), confidence=0.9268292682926829, lift=6.951219512195122), OrderedStatistic(items_base=frozenset({'용형'}), items_add=frozenset({'뮤비'}), confidence=1.0, lift=6.951219512195122)]), RelationRecord(items=frozenset({'정복', '뮤비'}), support=0.13333333333333333, ordered_statistics=[OrderedStatistic(items_base=frozenset({'뮤비'}), items_add=frozenset({'정복'}), confidence=0.9268292682926829, lift=6.951219512195122), OrderedStatistic(items_base=frozenset({'정복'}), items_add=frozenset({'뮤비'}), confidence=1.0, lift=6.951219512195122)]), RelationRecord(items=frozenset({'촬영장', '뮤비'}), support=0.14385964912280702, ordered_statistics=[OrderedStatistic(items_base=frozenset({'뮤비'}), items_add=frozenset({'촬영장'}), confidence=1.0, lift=6.951219512195122), OrderedStatistic(items_base=frozenset({'촬영장'}), items_add=frozenset({'뮤비'}), confidence=1.0, lift=6.951219512195122)]), RelationRecord(items=frozenset({'수기', '선공'}), support=0.13333333333333333, ordered_statistics=[OrderedStatistic(items_base=frozenset({'선공'}), items_add=frozenset({'수기'}), confidence=1.0, lift=7.5), OrderedStatistic(items_base=frozenset({'수기'}), items_add=frozenset({'선공'}), confidence=1.0, lift=7.5)]), RelationRecord(items=frozenset({'스탠바이', '선공'}), support=0.13333333333333333, ordered_statistics=[OrderedStatistic(items_base=frozenset({'선공'}), items_add=frozenset({'스탠바이'}), confidence=1.0, lift=7.5), OrderedStatistic(items_base=frozenset({'스탠바이'}), items_add=frozenset({'선공'}), confidence=1.0, lift=7.5)]), RelationRecord(items=frozenset({'여름', '선공'}), support=0.13333333333333333, ordered_statistics=[OrderedStatistic(items_base=frozenset({'선공'}), items_add=frozenset({'여름'}), confidence=1.0, lift=7.5), OrderedStatistic(items_base=frozenset({'여름'}), items_add=frozenset({'선공'}), confidence=1.0, lift=7.5)]), RelationRecord(items=frozenset({'완료', '선공'}), support=0.13333333333333333, ordered_statistics=[OrderedStatistic(items_base=frozenset({'선공'}), items_add=frozenset({'완료'}), confidence=1.0, lift=7.5), OrderedStatistic(items_base=frozenset({'완료'}), items_add=frozenset({'선공'}), confidence=1.0, lift=7.5)]), RelationRecord(items=frozenset({'용감한형제', '선공'}), support=0.13333333333333333, ordered_statistics=[OrderedStatistic(items_base=frozenset({'선공'}), items_add=frozenset({'용감한형제'}), confidence=1.0, lift=7.5), OrderedStatistic(items_base=frozenset({'용감한형제'}), items_add=frozenset({'선공'}), confidence=1.0, lift=7.5)]), RelationRecord(items=frozenset({'용형', '선공'}), support=0.13333333333333333, ordered_statistics=[OrderedStatistic(items_base=frozenset({'선공'}), items_add=frozenset({'용형'}), confidence=1.0, lift=7.5), OrderedStatistic(items_base=frozenset({'용형'}), items_add=frozenset({'선공'}), confidence=1.0, lift=7.5)]), RelationRecord(items=frozenset({'정복', '선공'}), support=0.13333333333333333, ordered_statistics=[OrderedStatistic(items_base=frozenset({'선공'}), items_add=frozenset({'정복'}), confidence=1.0, lift=7.5), OrderedStatistic(items_base=frozenset({'정복'}), items_add=frozenset({'선공'}), confidence=1.0, lift=7.5)]), RelationRecord(items=frozenset({'촬영장', '선공'}), support=0.13333333333333333, ordered_statistics=[OrderedStatistic(items_base=frozenset({'선공'}), items_add=frozenset({'촬영장'}), confidence=1.0, lift=6.951219512195122), OrderedStatistic(items_base=frozenset({'촬영장'}), items_add=frozenset({'선공'}), confidence=0.9268292682926829, lift=6.951219512195122)]), RelationRecord(items=frozenset({'스탠바이', '수기'}), support=0.13333333333333333, ordered_statistics=[OrderedStatistic(items_base=frozenset({'수기'}), items_add=frozenset({'스탠바이'}), confidence=1.0, lift=7.5), OrderedStatistic(items_base=frozenset({'스탠바이'}), items_add=frozenset({'수기'}), confidence=1.0, lift=7.5)]), RelationRecord(items=frozenset({'수기', '여름'}), support=0.13333333333333333, ordered_statistics=[OrderedStatistic(items_base=frozenset({'수기'}), items_add=frozenset({'여름'}), confidence=1.0, lift=7.5), OrderedStatistic(items_base=frozenset({'여름'}), items_add=frozenset({'수기'}), confidence=1.0, lift=7.5)]), RelationRecord(items=frozenset({'수기', '완료'}), support=0.13333333333333333, ordered_statistics=[OrderedStatistic(items_base=frozenset({'수기'}), items_add=frozenset({'완료'}), confidence=1.0, lift=7.5), OrderedStatistic(items_base=frozenset({'완료'}), items_add=frozenset({'수기'}), confidence=1.0, lift=7.5)]), RelationRecord(items=frozenset({'용감한형제', '수기'}), support=0.13333333333333333, ordered_statistics=[OrderedStatistic(items_base=frozenset({'수기'}), items_add=frozenset({'용감한형제'}), confidence=1.0, lift=7.5), OrderedStatistic(items_base=frozenset({'용감한형제'}), items_add=frozenset({'수기'}), confidence=1.0, lift=7.5)]), RelationRecord(items=frozenset({'용형', '수기'}), support=0.13333333333333333, ordered_statistics=[OrderedStatistic(items_base=frozenset({'수기'}), items_add=frozenset({'용형'}), confidence=1.0, lift=7.5), OrderedStatistic(items_base=frozenset({'용형'}), items_add=frozenset({'수기'}), confidence=1.0, lift=7.5)]), RelationRecord(items=frozenset({'정복', '수기'}), support=0.13333333333333333, ordered_statistics=[OrderedStatistic(items_base=frozenset({'수기'}), items_add=frozenset({'정복'}), confidence=1.0, lift=7.5), OrderedStatistic(items_base=frozenset({'정복'}), items_add=frozenset({'수기'}), confidence=1.0, lift=7.5)]), RelationRecord(items=frozenset({'촬영장', '수기'}), support=0.13333333333333333, ordered_statistics=[OrderedStatistic(items_base=frozenset({'수기'}), items_add=frozenset({'촬영장'}), confidence=1.0, lift=6.951219512195122), OrderedStatistic(items_base=frozenset({'촬영장'}), items_add=frozenset({'수기'}), confidence=0.9268292682926829, lift=6.951219512195122)]), RelationRecord(items=frozenset({'썸머', '스케일'}), support=0.12280701754385964, ordered_statistics=[OrderedStatistic(items_base=frozenset({'스케일'}), items_add=frozenset({'썸머'}), confidence=1.0, lift=8.142857142857144), OrderedStatistic(items_base=frozenset({'썸머'}), items_add=frozenset({'스케일'}), confidence=1.0, lift=8.142857142857144)]), RelationRecord(items=frozenset({'안현모', '스케일'}), support=0.12280701754385964, ordered_statistics=[OrderedStatistic(items_base=frozenset({'스케일'}), items_add=frozenset({'안현모'}), confidence=1.0, lift=7.5), OrderedStatistic(items_base=frozenset({'안현모'}), items_add=frozenset({'스케일'}), confidence=0.9210526315789473, lift=7.5)]), RelationRecord(items=frozenset({'예고', '스케일'}), support=0.12280701754385964, ordered_statistics=[OrderedStatistic(items_base=frozenset({'스케일'}), items_add=frozenset({'예고'}), confidence=1.0, lift=8.142857142857144), OrderedStatistic(items_base=frozenset({'예고'}), items_add=frozenset({'스케일'}), confidence=1.0, lift=8.142857142857144)]), RelationRecord(items=frozenset({'일상', '스케일'}), support=0.12280701754385964, ordered_statistics=[OrderedStatistic(items_base=frozenset({'스케일'}), items_add=frozenset({'일상'}), confidence=1.0, lift=7.5), OrderedStatistic(items_base=frozenset({'일상'}), items_add=frozenset({'스케일'}), confidence=0.9210526315789473, lift=7.5)]), RelationRecord(items=frozenset({'촬영', '스케일'}), support=0.12280701754385964, ordered_statistics=[OrderedStatistic(items_base=frozenset({'스케일'}), items_add=frozenset({'촬영'}), confidence=1.0, lift=8.142857142857144), OrderedStatistic(items_base=frozenset({'촬영'}), items_add=frozenset({'스케일'}), confidence=1.0, lift=8.142857142857144)]), RelationRecord(items=frozenset({'컴백', '스케일'}), support=0.12280701754385964, ordered_statistics=[OrderedStatistic(items_base=frozenset({'스케일'}), items_add=frozenset({'컴백'}), confidence=1.0, lift=8.142857142857144), OrderedStatistic(items_base=frozenset({'컴백'}), items_add=frozenset({'스케일'}), confidence=1.0, lift=8.142857142857144)]), RelationRecord(items=frozenset({'현장', '스케일'}), support=0.12280701754385964, ordered_statistics=[OrderedStatistic(items_base=frozenset({'스케일'}), items_add=frozenset({'현장'}), confidence=1.0, lift=7.5), OrderedStatistic(items_base=frozenset({'현장'}), items_add=frozenset({'스케일'}), confidence=0.9210526315789473, lift=7.5)]), RelationRecord(items=frozenset({'스탠바이', '여름'}), support=0.13333333333333333, ordered_statistics=[OrderedStatistic(items_base=frozenset({'스탠바이'}), items_add=frozenset({'여름'}), confidence=1.0, lift=7.5), OrderedStatistic(items_base=frozenset({'여름'}), items_add=frozenset({'스탠바이'}), confidence=1.0, lift=7.5)]), RelationRecord(items=frozenset({'스탠바이', '완료'}), support=0.13333333333333333, ordered_statistics=[OrderedStatistic(items_base=frozenset({'스탠바이'}), items_add=frozenset({'완료'}), confidence=1.0, lift=7.5), OrderedStatistic(items_base=frozenset({'완료'}), items_add=frozenset({'스탠바이'}), confidence=1.0, lift=7.5)]), RelationRecord(items=frozenset({'스탠바이', '용감한형제'}), support=0.13333333333333333, ordered_statistics=[OrderedStatistic(items_base=frozenset({'스탠바이'}), items_add=frozenset({'용감한형제'}), confidence=1.0, lift=7.5), OrderedStatistic(items_base=frozenset({'용감한형제'}), items_add=frozenset({'스탠바이'}), confidence=1.0, lift=7.5)]), RelationRecord(items=frozenset({'용형', '스탠바이'}), support=0.13333333333333333, ordered_statistics=[OrderedStatistic(items_base=frozenset({'스탠바이'}), items_add=frozenset({'용형'}), confidence=1.0, lift=7.5), OrderedStatistic(items_base=frozenset({'용형'}), items_add=frozenset({'스탠바이'}), confidence=1.0, lift=7.5)]), RelationRecord(items=frozenset({'스탠바이', '정복'}), support=0.13333333333333333, ordered_statistics=[OrderedStatistic(items_base=frozenset({'스탠바이'}), items_add=frozenset({'정복'}), confidence=1.0, lift=7.5), OrderedStatistic(items_base=frozenset({'정복'}), items_add=frozenset({'스탠바이'}), confidence=1.0, lift=7.5)]), RelationRecord(items=frozenset({'스탠바이', '촬영장'}), support=0.13333333333333333, ordered_statistics=[OrderedStatistic(items_base=frozenset({'스탠바이'}), items_add=frozenset({'촬영장'}), confidence=1.0, lift=6.951219512195122), OrderedStatistic(items_base=frozenset({'촬영장'}), items_add=frozenset({'스탠바이'}), confidence=0.9268292682926829, lift=6.951219512195122)]), RelationRecord(items=frozenset({'썸머', '안현모'}), support=0.12280701754385964, ordered_statistics=[OrderedStatistic(items_base=frozenset({'썸머'}), items_add=frozenset({'안현모'}), confidence=1.0, lift=7.5), OrderedStatistic(items_base=frozenset({'안현모'}), items_add=frozenset({'썸머'}), confidence=0.9210526315789473, lift=7.5)]), RelationRecord(items=frozenset({'썸머', '예고'}), support=0.12280701754385964, ordered_statistics=[OrderedStatistic(items_base=frozenset({'썸머'}), items_add=frozenset({'예고'}), confidence=1.0, lift=8.142857142857144), OrderedStatistic(items_base=frozenset({'예고'}), items_add=frozenset({'썸머'}), confidence=1.0, lift=8.142857142857144)]), RelationRecord(items=frozenset({'썸머', '일상'}), support=0.12280701754385964, ordered_statistics=[OrderedStatistic(items_base=frozenset({'썸머'}), items_add=frozenset({'일상'}), confidence=1.0, lift=7.5), OrderedStatistic(items_base=frozenset({'일상'}), items_add=frozenset({'썸머'}), confidence=0.9210526315789473, lift=7.5)]), RelationRecord(items=frozenset({'썸머', '촬영'}), support=0.12280701754385964, ordered_statistics=[OrderedStatistic(items_base=frozenset({'썸머'}), items_add=frozenset({'촬영'}), confidence=1.0, lift=8.142857142857144), OrderedStatistic(items_base=frozenset({'촬영'}), items_add=frozenset({'썸머'}), confidence=1.0, lift=8.142857142857144)]), RelationRecord(items=frozenset({'컴백', '썸머'}), support=0.12280701754385964, ordered_statistics=[OrderedStatistic(items_base=frozenset({'썸머'}), items_add=frozenset({'컴백'}), confidence=1.0, lift=8.142857142857144), OrderedStatistic(items_base=frozenset({'컴백'}), items_add=frozenset({'썸머'}), confidence=1.0, lift=8.142857142857144)]), RelationRecord(items=frozenset({'썸머', '현장'}), support=0.12280701754385964, ordered_statistics=[OrderedStatistic(items_base=frozenset({'썸머'}), items_add=frozenset({'현장'}), confidence=1.0, lift=7.5), OrderedStatistic(items_base=frozenset({'현장'}), items_add=frozenset({'썸머'}), confidence=0.9210526315789473, lift=7.5)]), RelationRecord(items=frozenset({'안현모', '예고'}), support=0.12280701754385964, ordered_statistics=[OrderedStatistic(items_base=frozenset({'안현모'}), items_add=frozenset({'예고'}), confidence=0.9210526315789473, lift=7.5), OrderedStatistic(items_base=frozenset({'예고'}), items_add=frozenset({'안현모'}), confidence=1.0, lift=7.5)]), RelationRecord(items=frozenset({'일상', '안현모'}), support=0.13333333333333333, ordered_statistics=[OrderedStatistic(items_base=frozenset({'안현모'}), items_add=frozenset({'일상'}), confidence=1.0, lift=7.5), OrderedStatistic(items_base=frozenset({'일상'}), items_add=frozenset({'안현모'}), confidence=1.0, lift=7.5)]), RelationRecord(items=frozenset({'촬영', '안현모'}), support=0.12280701754385964, ordered_statistics=[OrderedStatistic(items_base=frozenset({'안현모'}), items_add=frozenset({'촬영'}), confidence=0.9210526315789473, lift=7.5), OrderedStatistic(items_base=frozenset({'촬영'}), items_add=frozenset({'안현모'}), confidence=1.0, lift=7.5)]), RelationRecord(items=frozenset({'컴백', '안현모'}), support=0.12280701754385964, ordered_statistics=[OrderedStatistic(items_base=frozenset({'안현모'}), items_add=frozenset({'컴백'}), confidence=0.9210526315789473, lift=7.5), OrderedStatistic(items_base=frozenset({'컴백'}), items_add=frozenset({'안현모'}), confidence=1.0, lift=7.5)]), RelationRecord(items=frozenset({'안현모', '현장'}), support=0.13333333333333333, ordered_statistics=[OrderedStatistic(items_base=frozenset({'안현모'}), items_add=frozenset({'현장'}), confidence=1.0, lift=7.5), OrderedStatistic(items_base=frozenset({'현장'}), items_add=frozenset({'안현모'}), confidence=1.0, lift=7.5)]), RelationRecord(items=frozenset({'완료', '여름'}), support=0.13333333333333333, ordered_statistics=[OrderedStatistic(items_base=frozenset({'여름'}), items_add=frozenset({'완료'}), confidence=1.0, lift=7.5), OrderedStatistic(items_base=frozenset({'완료'}), items_add=frozenset({'여름'}), confidence=1.0, lift=7.5)]), RelationRecord(items=frozenset({'용감한형제', '여름'}), support=0.13333333333333333, ordered_statistics=[OrderedStatistic(items_base=frozenset({'여름'}), items_add=frozenset({'용감한형제'}), confidence=1.0, lift=7.5), OrderedStatistic(items_base=frozenset({'용감한형제'}), items_add=frozenset({'여름'}), confidence=1.0, lift=7.5)]), RelationRecord(items=frozenset({'용형', '여름'}), support=0.13333333333333333, ordered_statistics=[OrderedStatistic(items_base=frozenset({'여름'}), items_add=frozenset({'용형'}), confidence=1.0, lift=7.5), OrderedStatistic(items_base=frozenset({'용형'}), items_add=frozenset({'여름'}), confidence=1.0, lift=7.5)]), RelationRecord(items=frozenset({'정복', '여름'}), support=0.13333333333333333, ordered_statistics=[OrderedStatistic(items_base=frozenset({'여름'}), items_add=frozenset({'정복'}), confidence=1.0, lift=7.5), OrderedStatistic(items_base=frozenset({'정복'}), items_add=frozenset({'여름'}), confidence=1.0, lift=7.5)]), RelationRecord(items=frozenset({'촬영장', '여름'}), support=0.13333333333333333, ordered_statistics=[OrderedStatistic(items_base=frozenset({'여름'}), items_add=frozenset({'촬영장'}), confidence=1.0, lift=6.951219512195122), OrderedStatistic(items_base=frozenset({'촬영장'}), items_add=frozenset({'여름'}), confidence=0.9268292682926829, lift=6.951219512195122)]), RelationRecord(items=frozenset({'일상', '예고'}), support=0.12280701754385964, ordered_statistics=[OrderedStatistic(items_base=frozenset({'예고'}), items_add=frozenset({'일상'}), confidence=1.0, lift=7.5), OrderedStatistic(items_base=frozenset({'일상'}), items_add=frozenset({'예고'}), confidence=0.9210526315789473, lift=7.5)]), RelationRecord(items=frozenset({'촬영', '예고'}), support=0.12280701754385964, ordered_statistics=[OrderedStatistic(items_base=frozenset({'예고'}), items_add=frozenset({'촬영'}), confidence=1.0, lift=8.142857142857144), OrderedStatistic(items_base=frozenset({'촬영'}), items_add=frozenset({'예고'}), confidence=1.0, lift=8.142857142857144)]), RelationRecord(items=frozenset({'컴백', '예고'}), support=0.12280701754385964, ordered_statistics=[OrderedStatistic(items_base=frozenset({'예고'}), items_add=frozenset({'컴백'}), confidence=1.0, lift=8.142857142857144), OrderedStatistic(items_base=frozenset({'컴백'}), items_add=frozenset({'예고'}), confidence=1.0, lift=8.142857142857144)]), RelationRecord(items=frozenset({'예고', '현장'}), support=0.12280701754385964, ordered_statistics=[OrderedStatistic(items_base=frozenset({'예고'}), items_add=frozenset({'현장'}), confidence=1.0, lift=7.5), OrderedStatistic(items_base=frozenset({'현장'}), items_add=frozenset({'예고'}), confidence=0.9210526315789473, lift=7.5)]), RelationRecord(items=frozenset({'용감한형제', '완료'}), support=0.13333333333333333, ordered_statistics=[OrderedStatistic(items_base=frozenset({'완료'}), items_add=frozenset({'용감한형제'}), confidence=1.0, lift=7.5), OrderedStatistic(items_base=frozenset({'용감한형제'}), items_add=frozenset({'완료'}), confidence=1.0, lift=7.5)]), RelationRecord(items=frozenset({'용형', '완료'}), support=0.13333333333333333, ordered_statistics=[OrderedStatistic(items_base=frozenset({'완료'}), items_add=frozenset({'용형'}), confidence=1.0, lift=7.5), OrderedStatistic(items_base=frozenset({'용형'}), items_add=frozenset({'완료'}), confidence=1.0, lift=7.5)]), RelationRecord(items=frozenset({'정복', '완료'}), support=0.13333333333333333, ordered_statistics=[OrderedStatistic(items_base=frozenset({'완료'}), items_add=frozenset({'정복'}), confidence=1.0, lift=7.5), OrderedStatistic(items_base=frozenset({'정복'}), items_add=frozenset({'완료'}), confidence=1.0, lift=7.5)]), RelationRecord(items=frozenset({'촬영장', '완료'}), support=0.13333333333333333, ordered_statistics=[OrderedStatistic(items_base=frozenset({'완료'}), items_add=frozenset({'촬영장'}), confidence=1.0, lift=6.951219512195122), OrderedStatistic(items_base=frozenset({'촬영장'}), items_add=frozenset({'완료'}), confidence=0.9268292682926829, lift=6.951219512195122)]), RelationRecord(items=frozenset({'용형', '용감한형제'}), support=0.13333333333333333, ordered_statistics=[OrderedStatistic(items_base=frozenset({'용감한형제'}), items_add=frozenset({'용형'}), confidence=1.0, lift=7.5), OrderedStatistic(items_base=frozenset({'용형'}), items_add=frozenset({'용감한형제'}), confidence=1.0, lift=7.5)]), RelationRecord(items=frozenset({'용감한형제', '정복'}), support=0.13333333333333333, ordered_statistics=[OrderedStatistic(items_base=frozenset({'용감한형제'}), items_add=frozenset({'정복'}), confidence=1.0, lift=7.5), OrderedStatistic(items_base=frozenset({'정복'}), items_add=frozenset({'용감한형제'}), confidence=1.0, lift=7.5)]), RelationRecord(items=frozenset({'용감한형제', '촬영장'}), support=0.13333333333333333, ordered_statistics=[OrderedStatistic(items_base=frozenset({'용감한형제'}), items_add=frozenset({'촬영장'}), confidence=1.0, lift=6.951219512195122), OrderedStatistic(items_base=frozenset({'촬영장'}), items_add=frozenset({'용감한형제'}), confidence=0.9268292682926829, lift=6.951219512195122)]), RelationRecord(items=frozenset({'용형', '정복'}), support=0.13333333333333333, ordered_statistics=[OrderedStatistic(items_base=frozenset({'용형'}), items_add=frozenset({'정복'}), confidence=1.0, lift=7.5), OrderedStatistic(items_base=frozenset({'정복'}), items_add=frozenset({'용형'}), confidence=1.0, lift=7.5)]), RelationRecord(items=frozenset({'용형', '촬영장'}), support=0.13333333333333333, ordered_statistics=[OrderedStatistic(items_base=frozenset({'용형'}), items_add=frozenset({'촬영장'}), confidence=1.0, lift=6.951219512195122), OrderedStatistic(items_base=frozenset({'촬영장'}), items_add=frozenset({'용형'}), confidence=0.9268292682926829, lift=6.951219512195122)]), RelationRecord(items=frozenset({'촬영', '일상'}), support=0.12280701754385964, ordered_statistics=[OrderedStatistic(items_base=frozenset({'일상'}), items_add=frozenset({'촬영'}), confidence=0.9210526315789473, lift=7.5), OrderedStatistic(items_base=frozenset({'촬영'}), items_add=frozenset({'일상'}), confidence=1.0, lift=7.5)]), RelationRecord(items=frozenset({'컴백', '일상'}), support=0.12280701754385964, ordered_statistics=[OrderedStatistic(items_base=frozenset({'일상'}), items_add=frozenset({'컴백'}), confidence=0.9210526315789473, lift=7.5), OrderedStatistic(items_base=frozenset({'컴백'}), items_add=frozenset({'일상'}), confidence=1.0, lift=7.5)]), RelationRecord(items=frozenset({'일상', '현장'}), support=0.13333333333333333, ordered_statistics=[OrderedStatistic(items_base=frozenset({'일상'}), items_add=frozenset({'현장'}), confidence=1.0, lift=7.5), OrderedStatistic(items_base=frozenset({'현장'}), items_add=frozenset({'일상'}), confidence=1.0, lift=7.5)]), RelationRecord(items=frozenset({'정복', '촬영장'}), support=0.13333333333333333, ordered_statistics=[OrderedStatistic(items_base=frozenset({'정복'}), items_add=frozenset({'촬영장'}), confidence=1.0, lift=6.951219512195122), OrderedStatistic(items_base=frozenset({'촬영장'}), items_add=frozenset({'정복'}), confidence=0.9268292682926829, lift=6.951219512195122)]), RelationRecord(items=frozenset({'컴백', '촬영'}), support=0.12280701754385964, ordered_statistics=[OrderedStatistic(items_base=frozenset({'촬영'}), items_add=frozenset({'컴백'}), confidence=1.0, lift=8.142857142857144), OrderedStatistic(items_base=frozenset({'컴백'}), items_add=frozenset({'촬영'}), confidence=1.0, lift=8.142857142857144)]), RelationRecord(items=frozenset({'촬영', '현장'}), support=0.12280701754385964, ordered_statistics=[OrderedStatistic(items_base=frozenset({'촬영'}), items_add=frozenset({'현장'}), confidence=1.0, lift=7.5), OrderedStatistic(items_base=frozenset({'현장'}), items_add=frozenset({'촬영'}), confidence=0.9210526315789473, lift=7.5)]), RelationRecord(items=frozenset({'컴백', '현장'}), support=0.12280701754385964, ordered_statistics=[OrderedStatistic(items_base=frozenset({'컴백'}), items_add=frozenset({'현장'}), confidence=1.0, lift=7.5), OrderedStatistic(items_base=frozenset({'현장'}), items_add=frozenset({'컴백'}), confidence=0.9210526315789473, lift=7.5)])]\n"
     ]
    }
   ],
   "source": [
    "results = list (apriori(transactions,\n",
    "                       min_support=0.1,\n",
    "                       min_confidence=0.2,\n",
    "                       min_lift=5,\n",
    "                       max_length=2))\n",
    "print(results)"
   ]
  },
  {
   "cell_type": "markdown",
   "metadata": {},
   "source": [
    "**데이터 프레임 형태러 정리합니다.**"
   ]
  },
  {
   "cell_type": "code",
   "execution_count": 20,
   "metadata": {},
   "outputs": [
    {
     "data": {
      "text/html": [
       "<div>\n",
       "<style scoped>\n",
       "    .dataframe tbody tr th:only-of-type {\n",
       "        vertical-align: middle;\n",
       "    }\n",
       "\n",
       "    .dataframe tbody tr th {\n",
       "        vertical-align: top;\n",
       "    }\n",
       "\n",
       "    .dataframe thead th {\n",
       "        text-align: right;\n",
       "    }\n",
       "</style>\n",
       "<table border=\"1\" class=\"dataframe\">\n",
       "  <thead>\n",
       "    <tr style=\"text-align: right;\">\n",
       "      <th></th>\n",
       "      <th>source</th>\n",
       "      <th>target</th>\n",
       "      <th>support</th>\n",
       "    </tr>\n",
       "  </thead>\n",
       "  <tbody>\n",
       "    <tr>\n",
       "      <th>0</th>\n",
       "      <td>노래</td>\n",
       "      <td>뮤비</td>\n",
       "      <td>0.133333</td>\n",
       "    </tr>\n",
       "    <tr>\n",
       "      <th>1</th>\n",
       "      <td>노래</td>\n",
       "      <td>선공</td>\n",
       "      <td>0.133333</td>\n",
       "    </tr>\n",
       "    <tr>\n",
       "      <th>2</th>\n",
       "      <td>노래</td>\n",
       "      <td>수기</td>\n",
       "      <td>0.133333</td>\n",
       "    </tr>\n",
       "    <tr>\n",
       "      <th>3</th>\n",
       "      <td>노래</td>\n",
       "      <td>스탠바이</td>\n",
       "      <td>0.133333</td>\n",
       "    </tr>\n",
       "    <tr>\n",
       "      <th>4</th>\n",
       "      <td>노래</td>\n",
       "      <td>여름</td>\n",
       "      <td>0.133333</td>\n",
       "    </tr>\n",
       "  </tbody>\n",
       "</table>\n",
       "</div>"
      ],
      "text/plain": [
       "  source target   support\n",
       "0     노래     뮤비  0.133333\n",
       "1     노래     선공  0.133333\n",
       "2     노래     수기  0.133333\n",
       "3     노래   스탠바이  0.133333\n",
       "4     노래     여름  0.133333"
      ]
     },
     "execution_count": 20,
     "metadata": {},
     "output_type": "execute_result"
    }
   ],
   "source": [
    "columns = ['source','target','support']\n",
    "network_df = pd.DataFrame(columns=columns)\n",
    "\n",
    "# 규칙의 조건절을 source, 결과절을 target, 지지도를 sipport로 지정\n",
    "for result in results:\n",
    "    if len(result.items) ==2:\n",
    "        items = [x for x in result.items]\n",
    "        row = [items[0], items[1], result.support]\n",
    "        series = pd.Series(row, index=network_df.columns)\n",
    "        network_df = network_df.append(series, ignore_index=True)\n",
    "        \n",
    "network_df.head()"
   ]
  },
  {
   "cell_type": "markdown",
   "metadata": {},
   "source": [
    "**[단어 빈도 추출하기]**\n",
    "**말믕치 추출**"
   ]
  },
  {
   "cell_type": "code",
   "execution_count": 21,
   "metadata": {},
   "outputs": [
    {
     "name": "stdout",
     "output_type": "stream",
     "text": [
      "  음중 브레이브걸스     예능연구소  직캠브레이브걸스     이찬   쇼음악중심 음중 브레이브걸스   예능연구소  브레이브걸스 직캠 치맛바람            엔딩요정 모아모아브레이브걸스     예능연구소  직캠브레이브걸스  치맛바람     쇼음악중심 음중 브레이브걸스  치맛바람   예능연구소  직캠브레이브걸스     이찬   쇼음악중심 음중 브레이브걸스   브레이브걸스와 용감한 형제의 웃음 넘치는 하루 전지적참견시점 오늘 밤 시 분 본방사수전참시 브레이브걸스 민영 은지   선공개 쁘걸 신곡 뮤비 촬영장을 찾은 용형 여름 노래 성수기  정복 스탠바이 완료  전지적참견시점토요일 밤 시 분이영자 전현무 송은이 양세형 유병재 브레이브걸스 용감한형제  예고 썸머퀸 쁘걸 컴백 신곡  촬영 현장  스케일 남다른 안현모의 일상 전지적 참견하기 전지적참견시점토요일 밤 시 분이영자 전현무 송은이 양세형 유병재 브레이브걸스   선공개 쁘걸 신곡 뮤비 촬영장을 찾은 용형 여름 노래 성수기  정복 스탠바이 완료  전지적참견시점토요일 밤 시 분이영자 전현무 송은이 양세형 유병재 브레이브걸스 용감한형제  예능연구소  브레이브걸스 직캠 치맛바람             예능연구소  직캠브레이브걸스     이찬   쇼음악중심 음중 브레이브걸스    예능연구소  직캠브레이브걸스  치맛바람     쇼음악중심 음중 브레이브걸스  치맛바람  예고 썸머퀸 쁘걸 컴백 신곡  촬영 현장  스케일 남다른 안현모의 일상 전지적 참견하기 전지적참견시점토요일 밤 시 분이영자 전현무 송은이 양세형 유병재 브레이브걸스    예능연구소  직캠브레이브걸스     이찬   쇼음악중심 음중 브레이브걸스   음중 브레이브걸스     예능연구소  직캠브레이브걸스     이찬   쇼음악중심 음중 브레이브걸스   예능연구소  브레이브걸스 직캠 치맛바람            엔딩요정 모아모아브레이브걸스     예능연구소  직캠브레이브걸스  치맛바람     쇼음악중심 음중 브레이브걸스  치맛바람   예능연구소  직캠브레이브걸스     이찬   쇼음악중심 음중 브레이브걸스   브레이브걸스와 용감한 형제의 웃음 넘치는 하루 전지적참견시점 오늘 밤 시 분 본방사수전참시 브레이브걸스 민영 은지   선공개 쁘걸 신곡 뮤비 촬영장을 찾은 용형 여름 노래 성수기  정복 스탠바이 완료  전지적참견시점토요일 밤 시 분이영자 전현무 송은이 양세형 유병재 브레이브걸스 용감한형제  예고 썸머퀸 쁘걸 컴백 신곡  촬영 현장  스케일 남다른 안현모의 일상 전지적 참견하기 전지적참견시점토요일 밤 시 분이영자 전현무 송은이 양세형 유병재 브레이브걸스   선공개 쁘걸 신곡 뮤비 촬영장을 찾은 용형 여름 노래 성수기  정복 스탠바이 완료  전지적참견시점토요일 밤 시 분이영자 전현무 송은이 양세형 유병재 브레이브걸스 용감한형제  예능연구소  브레이브걸스 직캠 치맛바람             예능연구소  직캠브레이브걸스     이찬   쇼음악중심 음중 브레이브걸스    예능연구소  직캠브레이브걸스  치맛바람     쇼음악중심 음중 브레이브걸스  치맛바람  예고 썸머퀸 쁘걸 컴백 신곡  촬영 현장  스케일 남다른 안현모의 일상 전지적 참견하기 전지적참견시점토요일 밤 시 분이영자 전현무 송은이 양세형 유병재 브레이브걸스    예능연구소  직캠브레이브걸스     이찬   쇼음악중심 음중 브레이브걸스   음중 브레이브걸스     예능연구소  직캠브레이브걸스     이찬   쇼음악중심 음중 브레이브걸스   예능연구소  브레이브걸스 직캠 치맛바람            엔딩요정 모아모아브레이브걸스     예능연구소  직캠브레이브걸스  치맛바람     쇼음악중심 음중 브레이브걸스  치맛바람   예능연구소  직캠브레이브걸스     이찬   쇼음악중심 음중 브레이브걸스   브레이브걸스와 용감한 형제의 웃음 넘치는 하루 전지적참견시점 오늘 밤 시 분 본방사수전참시 브레이브걸스 민영 은지   선공개 쁘걸 신곡 뮤비 촬영장을 찾은 용형 여름 노래 성수기  정복 스탠바이 완료  전지적참견시점토요일 밤 시 분이영자 전현무 송은이 양세형 유병재 브레이브걸스 용감한형제  예고 썸머퀸 쁘걸 컴백 신곡  촬영 현장  스케일 남다른 안현모의 일상 전지적 참견하기 전지적참견시점토요일 밤 시 분이영자 전현무 송은이 양세형 유병재 브레이브걸스   선공개 쁘걸 신곡 뮤비 촬영장을 찾은 용형 여름 노래 성수기  정복 스탠바이 완료  전지적참견시점토요일 밤 시 분이영자 전현무 송은이 양세형 유병재 브레이브걸스 용감한형제  예능연구소  브레이브걸스 직캠 치맛바람             예능연구소  직캠브레이브걸스     이찬   쇼음악중심 음중 브레이브걸스    예능연구소  직캠브레이브걸스  치맛바람     쇼음악중심 음중 브레이브걸스  치맛바람  예고 썸머퀸 쁘걸 컴백 신곡  촬영 현장  스케일 남다른 안현모의 일상 전지적 참견하기 전지적참견시점토요일 밤 시 분이영자 전현무 송은이 양세형 유병재 브레이브걸스    예능연구소  직캠브레이브걸스     이찬   쇼음악중심 음중 브레이브걸스   음중 브레이브걸스     예능연구소  직캠브레이브걸스     이찬   쇼음악중심 음중 브레이브걸스   예능연구소  브레이브걸스 직캠 치맛바람            엔딩요정 모아모아브레이브걸스     예능연구소  직캠브레이브걸스  치맛바람     쇼음악중심 음중 브레이브걸스  치맛바람   예능연구소  직캠브레이브걸스     이찬   쇼음악중심 음중 브레이브걸스   브레이브걸스와 용감한 형제의 웃음 넘치는 하루 전지적참견시점 오늘 밤 시 분 본방사수전참시 브레이브걸스 민영 은지   선공개 쁘걸 신곡 뮤비 촬영장을 찾은 용형 여름 노래 성수기  정복 스탠바이 완료  전지적참견시점토요일 밤 시 분이영자 전현무 송은이 양세형 유병재 브레이브걸스 용감한형제  예고 썸머퀸 쁘걸 컴백 신곡  촬영 현장  스케일 남다른 안현모의 일상 전지적 참견하기 전지적참견시점토요일 밤 시 분이영자 전현무 송은이 양세형 유병재 브레이브걸스   선공개 쁘걸 신곡 뮤비 촬영장을 찾은 용형 여름 노래 성수기  정복 스탠바이 완료  전지적참견시점토요일 밤 시 분이영자 전현무 송은이 양세형 유병재 브레이브걸스 용감한형제  예능연구소  브레이브걸스 직캠 치맛바람             예능연구소  직캠브레이브걸스     이찬   쇼음악중심 음중 브레이브걸스    예능연구소  직캠브레이브걸스  치맛바람     쇼음악중심 음중 브레이브걸스  치맛바람  예고 썸머퀸 쁘걸 컴백 신곡  촬영 현장  스케일 남다른 안현모의 일상 전지적 참견하기 전지적참견시점토요일 밤 시 분이영자 전현무 송은이 양세형 유병재 브레이브걸스    예능연구소  직캠브레이브걸스     이찬   쇼음악중심 음중 브레이브걸스   음중 브레이브걸스     예능연구소  직캠브레이브걸스     이찬   쇼음악중심 음중 브레이브걸스   예능연구소  브레이브걸스 직캠 치맛바람            엔딩요정 모아모아브레이브걸스     예능연구소  직캠브레이브걸스  치맛바람     쇼음악중심 음중 브레이브걸스  치맛바람   예능연구소  직캠브레이브걸스     이찬   쇼음악중심 음중 브레이브걸스   브레이브걸스와 용감한 형제의 웃음 넘치는 하루 전지적참견시점 오늘 밤 시 분 본방사수전참시 브레이브걸스 민영 은지   선공개 쁘걸 신곡 뮤비 촬영장을 찾은 용형 여름 노래 성수기  정복 스탠바이 완료  전지적참견시점토요일 밤 시 분이영자 전현무 송은이 양세형 유병재 브레이브걸스 용감한형제  예고 썸머퀸 쁘걸 컴백 신곡  촬영 현장  스케일 남다른 안현모의 일상 전지적 참견하기 전지적참견시점토요일 밤 시 분이영자 전현무 송은이 양세형 유병재 브레이브걸스   선공개 쁘걸 신곡 뮤비 촬영장을 찾은 용형 여름 노래 성수기  정복 스탠바이 완료  전지적참견시점토요일 밤 시 분이영자 전현무 송은이 양세형 유병재 브레이브걸스 용감한형제  예능연구소  브레이브걸스 직캠 치맛바람             예능연구소  직캠브레이브걸스     이찬   쇼음악중심 음중 브레이브걸스    예능연구소  직캠브레이브걸스  치맛바람     쇼음악중심 음중 브레이브걸스  치맛바람  예고 썸머퀸 쁘걸 컴백 신곡  촬영 현장  스케일 남다른 안현모의 일상 전지적 참견하기 전지적참견시점토요일 밤 시 분이영자 전현무 송은이 양세형 유병재 브레이브걸스    예능연구소  직캠브레이브걸스     이찬   쇼음악중심 음중 브레이브걸스   음중 브레이브걸스     예능연구소  직캠브레이브걸스     이찬   쇼음악중심 음중 브레이브걸스   예능연구소  브레이브걸스 직캠 치맛바람            엔딩요정 모아모아브레이브걸스     예능연구소  직캠브레이브걸스  치맛바람     쇼음악중심 음중 브레이브걸스  치맛바람   예능연구소  직캠브레이브걸스     이찬   쇼음악중심 음중 브레이브걸스   브레이브걸스와 용감한 형제의 웃음 넘치는 하루 전지적참견시점 오늘 밤 시 분 본방사수전참시 브레이브걸스 민영 은지   선공개 쁘걸 신곡 뮤비 촬영장을 찾은 용형 여름 노래 성수기  정복 스탠바이 완료  전지적참견시점토요일 밤 시 분이영자 전현무 송은이 양세형 유병재 브레이브걸스 용감한형제  예고 썸머퀸 쁘걸 컴백 신곡  촬영 현장  스케일 남다른 안현모의 일상 전지적 참견하기 전지적참견시점토요일 밤 시 분이영자 전현무 송은이 양세형 유병재 브레이브걸스   선공개 쁘걸 신곡 뮤비 촬영장을 찾은 용형 여름 노래 성수기  정복 스탠바이 완료  전지적참견시점토요일 밤 시 분이영자 전현무 송은이 양세형 유병재 브레이브걸스 용감한형제  예능연구소  브레이브걸스 직캠 치맛바람             예능연구소  직캠브레이브걸스     이찬   쇼음악중심 음중 브레이브걸스    예능연구소  직캠브레이브걸스  치맛바람     쇼음악중심 음중 브레이브걸스  치맛바람  예고 썸머퀸 쁘걸 컴백 신곡  촬영 현장  스케일 남다른 안현모의 일상 전지적 참견하기 전지적참견시점토요일 밤 시 분이영자 전현무 송은이 양세형 유병재 브레이브걸스    예능연구소  직캠브레이브걸스     이찬   쇼음악중심 음중 브레이브걸스   음중 브레이브걸스     예능연구소  직캠브레이브걸스     이찬   쇼음악중심 음중 브레이브걸스   예능연구소  브레이브걸스 직캠 치맛바람            엔딩요정 모아모아브레이브걸스     예능연구소  직캠브레이브걸스  치맛바람     쇼음악중심 음중 브레이브걸스  치맛바람   예능연구소  직캠브레이브걸스     이찬   쇼음악중심 음중 브레이브걸스   브레이브걸스와 용감한 형제의 웃음 넘치는 하루 전지적참견시점 오늘 밤 시 분 본방사수전참시 브레이브걸스 민영 은지   선공개 쁘걸 신곡 뮤비 촬영장을 찾은 용형 여름 노래 성수기  정복 스탠바이 완료  전지적참견시점토요일 밤 시 분이영자 전현무 송은이 양세형 유병재 브레이브걸스 용감한형제  예고 썸머퀸 쁘걸 컴백 신곡  촬영 현장  스케일 남다른 안현모의 일상 전지적 참견하기 전지적참견시점토요일 밤 시 분이영자 전현무 송은이 양세형 유병재 브레이브걸스   선공개 쁘걸 신곡 뮤비 촬영장을 찾은 용형 여름 노래 성수기  정복 스탠바이 완료  전지적참견시점토요일 밤 시 분이영자 전현무 송은이 양세형 유병재 브레이브걸스 용감한형제  예능연구소  브레이브걸스 직캠 치맛바람             예능연구소  직캠브레이브걸스     이찬   쇼음악중심 음중 브레이브걸스    예능연구소  직캠브레이브걸스  치맛바람     쇼음악중심 음중 브레이브걸스  치맛바람  예고 썸머퀸 쁘걸 컴백 신곡  촬영 현장  스케일 남다른 안현모의 일상 전지적 참견하기 전지적참견시점토요일 밤 시 분이영자 전현무 송은이 양세형 유병재 브레이브걸스    예능연구소  직캠브레이브걸스     이찬   쇼음악중심 음중 브레이브걸스   음중 브레이브걸스     예능연구소  직캠브레이브걸스     이찬   쇼음악중심 음중 브레이브걸스   예능연구소  브레이브걸스 직캠 치맛바람            엔딩요정 모아모아브레이브걸스     예능연구소  직캠브레이브걸스  치맛바람     쇼음악중심 음중 브레이브걸스  치맛바람   예능연구소  직캠브레이브걸스     이찬   쇼음악중심 음중 브레이브걸스   브레이브걸스와 용감한 형제의 웃음 넘치는 하루 전지적참견시점 오늘 밤 시 분 본방사수전참시 브레이브걸스 민영 은지   선공개 쁘걸 신곡 뮤비 촬영장을 찾은 용형 여름 노래 성수기  정복 스탠바이 완료  전지적참견시점토요일 밤 시 분이영자 전현무 송은이 양세형 유병재 브레이브걸스 용감한형제  예고 썸머퀸 쁘걸 컴백 신곡  촬영 현장  스케일 남다른 안현모의 일상 전지적 참견하기 전지적참견시점토요일 밤 시 분이영자 전현무 송은이 양세형 유병재 브레이브걸스   선공개 쁘걸 신곡 뮤비 촬영장을 찾은 용형 여름 노래 성수기  정복 스탠바이 완료  전지적참견시점토요일 밤 시 분이영자 전현무 송은이 양세형 유병재 브레이브걸스 용감한형제  예능연구소  브레이브걸스 직캠 치맛바람             예능연구소  직캠브레이브걸스     이찬   쇼음악중심 음중 브레이브걸스    예능연구소  직캠브레이브걸스  치맛바람     쇼음악중심 음중 브레이브걸스  치맛바람  예고 썸머퀸 쁘걸 컴백 신곡  촬영 현장  스케일 남다른 안현모의 일상 전지적 참견하기 전지적참견시점토요일 밤 시 분이영자 전현무 송은이 양세형 유병재 브레이브걸스    예능연구소  직캠브레이브걸스     이찬   쇼음악중심 음중 브레이브걸스   음중 브레이브걸스     예능연구소  직캠브레이브걸스     이찬   쇼음악중심 음중 브레이브걸스   예능연구소  브레이브걸스 직캠 치맛바람            엔딩요정 모아모아브레이브걸스     예능연구소  직캠브레이브걸스  치맛바람     쇼음악중심 음중 브레이브걸스  치맛바람   예능연구소  직캠브레이브걸스     이찬   쇼음악중심 음중 브레이브걸스   브레이브걸스와 용감한 형제의 웃음 넘치는 하루 전지적참견시점 오늘 밤 시 분 본방사수전참시 브레이브걸스 민영 은지   선공개 쁘걸 신곡 뮤비 촬영장을 찾은 용형 여름 노래 성수기  정복 스탠바이 완료  전지적참견시점토요일 밤 시 분이영자 전현무 송은이 양세형 유병재 브레이브걸스 용감한형제  예고 썸머퀸 쁘걸 컴백 신곡  촬영 현장  스케일 남다른 안현모의 일상 전지적 참견하기 전지적참견시점토요일 밤 시 분이영자 전현무 송은이 양세형 유병재 브레이브걸스   선공개 쁘걸 신곡 뮤비 촬영장을 찾은 용형 여름 노래 성수기  정복 스탠바이 완료  전지적참견시점토요일 밤 시 분이영자 전현무 송은이 양세형 유병재 브레이브걸스 용감한형제  예능연구소  브레이브걸스 직캠 치맛바람             예능연구소  직캠브레이브걸스     이찬   쇼음악중심 음중 브레이브걸스    예능연구소  직캠브레이브걸스  치맛바람     쇼음악중심 음중 브레이브걸스  치맛바람  예고 썸머퀸 쁘걸 컴백 신곡  촬영 현장  스케일 남다른 안현모의 일상 전지적 참견하기 전지적참견시점토요일 밤 시 분이영자 전현무 송은이 양세형 유병재 브레이브걸스    예능연구소  직캠브레이브걸스     이찬   쇼음악중심 음중 브레이브걸스   음중 브레이브걸스     예능연구소  직캠브레이브걸스     이찬   쇼음악중심 음중 브레이브걸스   예능연구소  브레이브걸스 직캠 치맛바람            엔딩요정 모아모아브레이브걸스     예능연구소  직캠브레이브걸스  치맛바람     쇼음악중심 음중 브레이브걸스  치맛바람   예능연구소  직캠브레이브걸스     이찬   쇼음악중심 음중 브레이브걸스   브레이브걸스와 용감한 형제의 웃음 넘치는 하루 전지적참견시점 오늘 밤 시 분 본방사수전참시 브레이브걸스 민영 은지   선공개 쁘걸 신곡 뮤비 촬영장을 찾은 용형 여름 노래 성수기  정복 스탠바이 완료  전지적참견시점토요일 밤 시 분이영자 전현무 송은이 양세형 유병재 브레이브걸스 용감한형제  예고 썸머퀸 쁘걸 컴백 신곡  촬영 현장  스케일 남다른 안현모의 일상 전지적 참견하기 전지적참견시점토요일 밤 시 분이영자 전현무 송은이 양세형 유병재 브레이브걸스   선공개 쁘걸 신곡 뮤비 촬영장을 찾은 용형 여름 노래 성수기  정복 스탠바이 완료  전지적참견시점토요일 밤 시 분이영자 전현무 송은이 양세형 유병재 브레이브걸스 용감한형제  예능연구소  브레이브걸스 직캠 치맛바람             예능연구소  직캠브레이브걸스     이찬   쇼음악중심 음중 브레이브걸스    예능연구소  직캠브레이브걸스  치맛바람     쇼음악중심 음중 브레이브걸스  치맛바람  예고 썸머퀸 쁘걸 컴백 신곡  촬영 현장  스케일 남다른 안현모의 일상 전지적 참견하기 전지적참견시점토요일 밤 시 분이영자 전현무 송은이 양세형 유병재 브레이브걸스    예능연구소  직캠브레이브걸스     이찬   쇼음악중심 음중 브레이브걸스   음중 브레이브걸스     예능연구소  직캠브레이브걸스     이찬   쇼음악중심 음중 브레이브걸스   예능연구소  브레이브걸스 직캠 치맛바람            엔딩요정 모아모아브레이브걸스     예능연구소  직캠브레이브걸스  치맛바람     쇼음악중심 음중 브레이브걸스  치맛바람   예능연구소  직캠브레이브걸스     이찬   쇼음악중심 음중 브레이브걸스   브레이브걸스와 용감한 형제의 웃음 넘치는 하루 전지적참견시점 오늘 밤 시 분 본방사수전참시 브레이브걸스 민영 은지   선공개 쁘걸 신곡 뮤비 촬영장을 찾은 용형 여름 노래 성수기  정복 스탠바이 완료  전지적참견시점토요일 밤 시 분이영자 전현무 송은이 양세형 유병재 브레이브걸스 용감한형제  예고 썸머퀸 쁘걸 컴백 신곡  촬영 현장  스케일 남다른 안현모의 일상 전지적 참견하기 전지적참견시점토요일 밤 시 분이영자 전현무 송은이 양세형 유병재 브레이브걸스   선공개 쁘걸 신곡 뮤비 촬영장을 찾은 용형 여름 노래 성수기  정복 스탠바이 완료  전지적참견시점토요일 밤 시 분이영자 전현무 송은이 양세형 유병재 브레이브걸스 용감한형제  예능연구소  브레이브걸스 직캠 치맛바람             예능연구소  직캠브레이브걸스     이찬   쇼음악중심 음중 브레이브걸스    예능연구소  직캠브레이브걸스  치맛바람     쇼음악중심 음중 브레이브걸스  치맛바람  예고 썸머퀸 쁘걸 컴백 신곡  촬영 현장  스케일 남다른 안현모의 일상 전지적 참견하기 전지적참견시점토요일 밤 시 분이영자 전현무 송은이 양세형 유병재 브레이브걸스    예능연구소  직캠브레이브걸스     이찬   쇼음악중심 음중 브레이브걸스   음중 브레이브걸스     예능연구소  직캠브레이브걸스     이찬   쇼음악중심 음중 브레이브걸스   예능연구소  브레이브걸스 직캠 치맛바람            엔딩요정 모아모아브레이브걸스     예능연구소  직캠브레이브걸스  치맛바람     쇼음악중심 음중 브레이브걸스  치맛바람   예능연구소  직캠브레이브걸스     이찬   쇼음악중심 음중 브레이브걸스   브레이브걸스와 용감한 형제의 웃음 넘치는 하루 전지적참견시점 오늘 밤 시 분 본방사수전참시 브레이브걸스 민영 은지   선공개 쁘걸 신곡 뮤비 촬영장을 찾은 용형 여름 노래 성수기  정복 스탠바이 완료  전지적참견시점토요일 밤 시 분이영자 전현무 송은이 양세형 유병재 브레이브걸스 용감한형제  예고 썸머퀸 쁘걸 컴백 신곡  촬영 현장  스케일 남다른 안현모의 일상 전지적 참견하기 전지적참견시점토요일 밤 시 분이영자 전현무 송은이 양세형 유병재 브레이브걸스   선공개 쁘걸 신곡 뮤비 촬영장을 찾은 용형 여름 노래 성수기  정복 스탠바이 완료  전지적참견시점토요일 밤 시 분이영자 전현무 송은이 양세형 유병재 브레이브걸스 용감한형제  예능연구소  브레이브걸스 직캠 치맛바람             예능연구소  직캠브레이브걸스     이찬   쇼음악중심 음중 브레이브걸스    예능연구소  직캠브레이브걸스  치맛바람     쇼음악중심 음중 브레이브걸스  치맛바람  예고 썸머퀸 쁘걸 컴백 신곡  촬영 현장  스케일 남다른 안현모의 일상 전지적 참견하기 전지적참견시점토요일 밤 시 분이영자 전현무 송은이 양세형 유병재 브레이브걸스    예능연구소  직캠브레이브걸스     이찬   쇼음악중심 음중 브레이브걸스   음중 브레이브걸스     예능연구소  직캠브레이브걸스     이찬   쇼음악중심 음중 브레이브걸스   예능연구소  브레이브걸스 직캠 치맛바람            엔딩요정 모아모아브레이브걸스     예능연구소  직캠브레이브걸스  치맛바람     쇼음악중심 음중 브레이브걸스  치맛바람   예능연구소  직캠브레이브걸스     이찬   쇼음악중심 음중 브레이브걸스   브레이브걸스와 용감한 형제의 웃음 넘치는 하루 전지적참견시점 오늘 밤 시 분 본방사수전참시 브레이브걸스 민영 은지   선공개 쁘걸 신곡 뮤비 촬영장을 찾은 용형 여름 노래 성수기  정복 스탠바이 완료  전지적참견시점토요일 밤 시 분이영자 전현무 송은이 양세형 유병재 브레이브걸스 용감한형제  예고 썸머퀸 쁘걸 컴백 신곡  촬영 현장  스케일 남다른 안현모의 일상 전지적 참견하기 전지적참견시점토요일 밤 시 분이영자 전현무 송은이 양세형 유병재 브레이브걸스   선공개 쁘걸 신곡 뮤비 촬영장을 찾은 용형 여름 노래 성수기  정복 스탠바이 완료  전지적참견시점토요일 밤 시 분이영자 전현무 송은이 양세형 유병재 브레이브걸스 용감한형제  예능연구소  브레이브걸스 직캠 치맛바람             예능연구소  직캠브레이브걸스     이찬   쇼음악중심 음중 브레이브걸스    예능연구소  직캠브레이브걸스  치맛바람     쇼음악중심 음중 브레이브걸스  치맛바람  예고 썸머퀸 쁘걸 컴백 신곡  촬영 현장  스케일 남다른 안현모의 일상 전지적 참견하기 전지적참견시점토요일 밤 시 분이영자 전현무 송은이 양세형 유병재 브레이브걸스    예능연구소  직캠브레이브걸스     이찬   쇼음악중심 음중 브레이브걸스   음중 브레이브걸스     예능연구소  직캠브레이브걸스     이찬   쇼음악중심 음중 브레이브걸스   예능연구소  브레이브걸스 직캠 치맛바람            엔딩요정 모아모아브레이브걸스     예능연구소  직캠브레이브걸스  치맛바람     쇼음악중심 음중 브레이브걸스  치맛바람   예능연구소  직캠브레이브걸스     이찬   쇼음악중심 음중 브레이브걸스   브레이브걸스와 용감한 형제의 웃음 넘치는 하루 전지적참견시점 오늘 밤 시 분 본방사수전참시 브레이브걸스 민영 은지   선공개 쁘걸 신곡 뮤비 촬영장을 찾은 용형 여름 노래 성수기  정복 스탠바이 완료  전지적참견시점토요일 밤 시 분이영자 전현무 송은이 양세형 유병재 브레이브걸스 용감한형제  예고 썸머퀸 쁘걸 컴백 신곡  촬영 현장  스케일 남다른 안현모의 일상 전지적 참견하기 전지적참견시점토요일 밤 시 분이영자 전현무 송은이 양세형 유병재 브레이브걸스   선공개 쁘걸 신곡 뮤비 촬영장을 찾은 용형 여름 노래 성수기  정복 스탠바이 완료  전지적참견시점토요일 밤 시 분이영자 전현무 송은이 양세형 유병재 브레이브걸스 용감한형제  예능연구소  브레이브걸스 직캠 치맛바람             예능연구소  직캠브레이브걸스     이찬   쇼음악중심 음중 브레이브걸스    예능연구소  직캠브레이브걸스  치맛바람     쇼음악중심 음중 브레이브걸스  치맛바람  예고 썸머퀸 쁘걸 컴백 신곡  촬영 현장  스케일 남다른 안현모의 일상 전지적 참견하기 전지적참견시점토요일 밤 시 분이영자 전현무 송은이 양세형 유병재 브레이브걸스    예능연구소  직캠브레이브걸스     이찬   쇼음악중심 음중 브레이브걸스   음중 브레이브걸스     예능연구소  직캠브레이브걸스     이찬   쇼음악중심 음중 브레이브걸스   예능연구소  브레이브걸스 직캠 치맛바람            엔딩요정 모아모아브레이브걸스     예능연구소  직캠브레이브걸스  치맛바람     쇼음악중심 음중 브레이브걸스  치맛바람   예능연구소  직캠브레이브걸스     이찬   쇼음악중심 음중 브레이브걸스   브레이브걸스와 용감한 형제의 웃음 넘치는 하루 전지적참견시점 오늘 밤 시 분 본방사수전참시 브레이브걸스 민영 은지   선공개 쁘걸 신곡 뮤비 촬영장을 찾은 용형 여름 노래 성수기  정복 스탠바이 완료  전지적참견시점토요일 밤 시 분이영자 전현무 송은이 양세형 유병재 브레이브걸스 용감한형제  예고 썸머퀸 쁘걸 컴백 신곡  촬영 현장  스케일 남다른 안현모의 일상 전지적 참견하기 전지적참견시점토요일 밤 시 분이영자 전현무 송은이 양세형 유병재 브레이브걸스   선공개 쁘걸 신곡 뮤비 촬영장을 찾은 용형 여름 노래 성수기  정복 스탠바이 완료  전지적참견시점토요일 밤 시 분이영자 전현무 송은이 양세형 유병재 브레이브걸스 용감한형제  예능연구소  브레이브걸스 직캠 치맛바람             예능연구소  직캠브레이브걸스     이찬   쇼음악중심 음중 브레이브걸스    예능연구소  직캠브레이브걸스  치맛바람     쇼음악중심 음중 브레이브걸스  치맛바람  예고 썸머퀸 쁘걸 컴백 신곡  촬영 현장  스케일 남다른 안현모의 일상 전지적 참견하기 전지적참견시점토요일 밤 시 분이영자 전현무 송은이 양세형 유병재 브레이브걸스    예능연구소  직캠브레이브걸스     이찬   쇼음악중심 음중 브레이브걸스   음중 브레이브걸스     예능연구소  직캠브레이브걸스     이찬   쇼음악중심 음중 브레이브걸스   예능연구소  브레이브걸스 직캠 치맛바람            엔딩요정 모아모아브레이브걸스     예능연구소  직캠브레이브걸스  치맛바람     쇼음악중심 음중 브레이브걸스  치맛바람   예능연구소  직캠브레이브걸스     이찬   쇼음악중심 음중 브레이브걸스   브레이브걸스와 용감한 형제의 웃음 넘치는 하루 전지적참견시점 오늘 밤 시 분 본방사수전참시 브레이브걸스 민영 은지   선공개 쁘걸 신곡 뮤비 촬영장을 찾은 용형 여름 노래 성수기  정복 스탠바이 완료  전지적참견시점토요일 밤 시 분이영자 전현무 송은이 양세형 유병재 브레이브걸스 용감한형제  예고 썸머퀸 쁘걸 컴백 신곡  촬영 현장  스케일 남다른 안현모의 일상 전지적 참견하기 전지적참견시점토요일 밤 시 분이영자 전현무 송은이 양세형 유병재 브레이브걸스   선공개 쁘걸 신곡 뮤비 촬영장을 찾은 용형 여름 노래 성수기  정복 스탠바이 완료  전지적참견시점토요일 밤 시 분이영자 전현무 송은이 양세형 유병재 브레이브걸스 용감한형제  예능연구소  브레이브걸스 직캠 치맛바람             예능연구소  직캠브레이브걸스     이찬   쇼음악중심 음중 브레이브걸스    예능연구소  직캠브레이브걸스  치맛바람     쇼음악중심 음중 브레이브걸스  치맛바람  예고 썸머퀸 쁘걸 컴백 신곡  촬영 현장  스케일 남다른 안현모의 일상 전지적 참견하기 전지적참견시점토요일 밤 시 분이영자 전현무 송은이 양세형 유병재 브레이브걸스    예능연구소  직캠브레이브걸스     이찬   쇼음악중심 음중 브레이브걸스   과즙미 터지는 브레이브걸스 뮤비 촬영장 현장프로미 뿜뿜  요린이 안현모 의 반전 일상 공개전지적참견시점 오늘 밤 시 분 방송  방송     몬스타엑스  겜블러모든 걸 베팅해내 맘을 빼앗은 너쇼음악중심 이번주 라인업 공개트와이스 브레이브걸스 김현철뱀뱀 유겸 업텐션   음중 브레이브걸스     예능연구소  직캠브레이브걸스     이찬   쇼음악중심 음중 브레이브걸스   예능연구소  브레이브걸스 직캠 치맛바람            엔딩요정 모아모아브레이브걸스     예능연구소  직캠브레이브걸스  치맛바람     쇼음악중심 음중 브레이브걸스  치맛바람   예능연구소  직캠브레이브걸스     이찬   쇼음악중심 음중 브레이브걸스   브레이브걸스와 용감한 형제의 웃음 넘치는 하루 전지적참견시점 오늘 밤 시 분 본방사수전참시 브레이브걸스 민영 은지   선공개 쁘걸 신곡 뮤비 촬영장을 찾은 용형 여름 노래 성수기  정복 스탠바이 완료  전지적참견시점토요일 밤 시 분이영자 전현무 송은이 양세형 유병재 브레이브걸스 용감한형제  예고 썸머퀸 쁘걸 컴백 신곡  촬영 현장  스케일 남다른 안현모의 일상 전지적 참견하기 전지적참견시점토요일 밤 시 분이영자 전현무 송은이 양세형 유병재 브레이브걸스   선공개 쁘걸 신곡 뮤비 촬영장을 찾은 용형 여름 노래 성수기  정복 스탠바이 완료  전지적참견시점토요일 밤 시 분이영자 전현무 송은이 양세형 유병재 브레이브걸스 용감한형제  예능연구소  브레이브걸스 직캠 치맛바람             예능연구소  직캠브레이브걸스     이찬   쇼음악중심 음중 브레이브걸스    예능연구소  직캠브레이브걸스  치맛바람     쇼음악중심 음중 브레이브걸스  치맛바람  과즙미 터지는 브레이브걸스 뮤비 촬영장 현장프로미 뿜뿜  요린이 안현모 의 반전 일상 공개전지적참견시점 오늘 밤 시 분 방송  방송     몬스타엑스  겜블러모든 걸 베팅해내 맘을 빼앗은 너쇼음악중심 이번주 라인업 공개트와이스 브레이브걸스 김현철뱀뱀 유겸 업텐션   음중 브레이브걸스     예능연구소  직캠브레이브걸스     이찬   쇼음악중심 음중 브레이브걸스   예능연구소  브레이브걸스 직캠 치맛바람            엔딩요정 모아모아브레이브걸스     예능연구소  직캠브레이브걸스  치맛바람     쇼음악중심 음중 브레이브걸스  치맛바람   예능연구소  직캠브레이브걸스     이찬   쇼음악중심 음중 브레이브걸스   브레이브걸스와 용감한 형제의 웃음 넘치는 하루 전지적참견시점 오늘 밤 시 분 본방사수전참시 브레이브걸스 민영 은지   선공개 쁘걸 신곡 뮤비 촬영장을 찾은 용형 여름 노래 성수기  정복 스탠바이 완료  전지적참견시점토요일 밤 시 분이영자 전현무 송은이 양세형 유병재 브레이브걸스 용감한형제  예고 썸머퀸 쁘걸 컴백 신곡  촬영 현장  스케일 남다른 안현모의 일상 전지적 참견하기 전지적참견시점토요일 밤 시 분이영자 전현무 송은이 양세형 유병재 브레이브걸스   선공개 쁘걸 신곡 뮤비 촬영장을 찾은 용형 여름 노래 성수기  정복 스탠바이 완료  전지적참견시점토요일 밤 시 분이영자 전현무 송은이 양세형 유병재 브레이브걸스 용감한형제  예능연구소  브레이브걸스 직캠 치맛바람             예능연구소  직캠브레이브걸스     이찬   쇼음악중심 음중 브레이브걸스    예능연구소  직캠브레이브걸스  치맛바람     쇼음악중심 음중 브레이브걸스  치맛바람  과즙미 터지는 브레이브걸스 뮤비 촬영장 현장프로미 뿜뿜  요린이 안현모 의 반전 일상 공개전지적참견시점 오늘 밤 시 분 방송  방송     몬스타엑스  겜블러모든 걸 베팅해내 맘을 빼앗은 너쇼음악중심 이번주 라인업 공개트와이스 브레이브걸스 김현철뱀뱀 유겸 업텐션   음중 브레이브걸스     예능연구소  직캠브레이브걸스     이찬   쇼음악중심 음중 브레이브걸스   예능연구소  브레이브걸스 직캠 치맛바람            엔딩요정 모아모아브레이브걸스     예능연구소  직캠브레이브걸스  치맛바람     쇼음악중심 음중 브레이브걸스  치맛바람   예능연구소  직캠브레이브걸스     이찬   쇼음악중심 음중 브레이브걸스   브레이브걸스와 용감한 형제의 웃음 넘치는 하루 전지적참견시점 오늘 밤 시 분 본방사수전참시 브레이브걸스 민영 은지   선공개 쁘걸 신곡 뮤비 촬영장을 찾은 용형 여름 노래 성수기  정복 스탠바이 완료  전지적참견시점토요일 밤 시 분이영자 전현무 송은이 양세형 유병재 브레이브걸스 용감한형제  예고 썸머퀸 쁘걸 컴백 신곡  촬영 현장  스케일 남다른 안현모의 일상 전지적 참견하기 전지적참견시점토요일 밤 시 분이영자 전현무 송은이 양세형 유병재 브레이브걸스   선공개 쁘걸 신곡 뮤비 촬영장을 찾은 용형 여름 노래 성수기  정복 스탠바이 완료  전지적참견시점토요일 밤 시 분이영자 전현무 송은이 양세형 유병재 브레이브걸스 용감한형제  예능연구소  브레이브걸스 직캠 치맛바람             예능연구소  직캠브레이브걸스     이찬   쇼음악중심 음중 브레이브걸스    예능연구소  직캠브레이브걸스  치맛바람     쇼음악중심 음중 브레이브걸스  치맛바람\n"
     ]
    }
   ],
   "source": [
    "tweet_corpus = ''.join(df['ko_text'].to_list())\n",
    "print(tweet_corpus)"
   ]
  },
  {
   "cell_type": "code",
   "execution_count": 22,
   "metadata": {},
   "outputs": [],
   "source": [
    "from konlpy.tag import Okt\n",
    "from collections import Counter"
   ]
  },
  {
   "cell_type": "markdown",
   "metadata": {},
   "source": [
    "**명사 키워드를 추출합니다.**"
   ]
  },
  {
   "cell_type": "code",
   "execution_count": 23,
   "metadata": {},
   "outputs": [],
   "source": [
    "nouns_tagger = Okt()\n",
    "nouns = nouns_tagger.nouns(tweet_corpus)\n",
    "count = Counter(nouns)"
   ]
  },
  {
   "cell_type": "markdown",
   "metadata": {},
   "source": [
    "**한글자 키워드를 제거합니다.**"
   ]
  },
  {
   "cell_type": "code",
   "execution_count": 24,
   "metadata": {},
   "outputs": [
    {
     "name": "stdout",
     "output_type": "stream",
     "text": [
      "Counter({'브레이브걸스': 415, '예능': 149, '연구소': 149, '직캠': 149, '음중': 130, '전지': 130, '참견': 130, '쇼음악중심': 114, '치맛바람': 114, '시점': 95, '이찬': 73, '쁘걸': 73, '신곡': 73, '토요일': 73, '이영자': 73, '전현무': 73, '송은이': 73, '양세형': 73, '유병재': 73, '뮤비': 41, '촬영장': 41, '선공': 38, '용형': 38, '여름': 38, '노래': 38, '수기': 38, '정복': 38, '스탠바이': 38, '완료': 38, '용감한형제': 38, '현장': 38, '안현모': 38, '일상': 38, '예고': 35, '썸머': 35, '컴백': 35, '촬영': 35, '스케일': 35, '오늘': 22, '엔딩': 19, '요정': 19, '아모': 19, '형제': 19, '웃음': 19, '하루': 19, '방사': 19, '수전': 19, '민영': 19, '은지': 19, '공개': 6, '방송': 6, '과즙': 3, '프로미': 3, '뿜뿜': 3, '반전': 3, '몬스타': 3, '엑스': 3, '겜블러': 3, '모든': 3, '베팅': 3, '이번': 3, '라인업': 3, '트와이스': 3, '김현철': 3, '뱀뱀': 3, '유겸': 3, '텐션': 3})\n"
     ]
    }
   ],
   "source": [
    "remove_char_counter = Counter({x: count[x] for x in count if len(x)>1})\n",
    "print(remove_char_counter)"
   ]
  },
  {
   "cell_type": "markdown",
   "metadata": {},
   "source": [
    "**단어 빈도 점수 추가**\n",
    "- 키워드와 키워드 빈도 점수를 'node','nodesize'라는 데이터 프레임의 피처로 생성"
   ]
  },
  {
   "cell_type": "code",
   "execution_count": 37,
   "metadata": {},
   "outputs": [
    {
     "data": {
      "text/html": [
       "<div>\n",
       "<style scoped>\n",
       "    .dataframe tbody tr th:only-of-type {\n",
       "        vertical-align: middle;\n",
       "    }\n",
       "\n",
       "    .dataframe tbody tr th {\n",
       "        vertical-align: top;\n",
       "    }\n",
       "\n",
       "    .dataframe thead th {\n",
       "        text-align: right;\n",
       "    }\n",
       "</style>\n",
       "<table border=\"1\" class=\"dataframe\">\n",
       "  <thead>\n",
       "    <tr style=\"text-align: right;\">\n",
       "      <th></th>\n",
       "      <th>node</th>\n",
       "      <th>nodesize</th>\n",
       "    </tr>\n",
       "  </thead>\n",
       "  <tbody>\n",
       "    <tr>\n",
       "      <th>0</th>\n",
       "      <td>음중</td>\n",
       "      <td>130</td>\n",
       "    </tr>\n",
       "    <tr>\n",
       "      <th>1</th>\n",
       "      <td>브레이브걸스</td>\n",
       "      <td>415</td>\n",
       "    </tr>\n",
       "    <tr>\n",
       "      <th>2</th>\n",
       "      <td>예능</td>\n",
       "      <td>149</td>\n",
       "    </tr>\n",
       "    <tr>\n",
       "      <th>3</th>\n",
       "      <td>연구소</td>\n",
       "      <td>149</td>\n",
       "    </tr>\n",
       "    <tr>\n",
       "      <th>4</th>\n",
       "      <td>직캠</td>\n",
       "      <td>149</td>\n",
       "    </tr>\n",
       "    <tr>\n",
       "      <th>5</th>\n",
       "      <td>이찬</td>\n",
       "      <td>73</td>\n",
       "    </tr>\n",
       "    <tr>\n",
       "      <th>6</th>\n",
       "      <td>쇼음악중심</td>\n",
       "      <td>114</td>\n",
       "    </tr>\n",
       "    <tr>\n",
       "      <th>7</th>\n",
       "      <td>치맛바람</td>\n",
       "      <td>114</td>\n",
       "    </tr>\n",
       "    <tr>\n",
       "      <th>14</th>\n",
       "      <td>전지</td>\n",
       "      <td>130</td>\n",
       "    </tr>\n",
       "    <tr>\n",
       "      <th>15</th>\n",
       "      <td>참견</td>\n",
       "      <td>130</td>\n",
       "    </tr>\n",
       "    <tr>\n",
       "      <th>16</th>\n",
       "      <td>시점</td>\n",
       "      <td>95</td>\n",
       "    </tr>\n",
       "    <tr>\n",
       "      <th>23</th>\n",
       "      <td>쁘걸</td>\n",
       "      <td>73</td>\n",
       "    </tr>\n",
       "    <tr>\n",
       "      <th>24</th>\n",
       "      <td>신곡</td>\n",
       "      <td>73</td>\n",
       "    </tr>\n",
       "    <tr>\n",
       "      <th>34</th>\n",
       "      <td>토요일</td>\n",
       "      <td>73</td>\n",
       "    </tr>\n",
       "    <tr>\n",
       "      <th>35</th>\n",
       "      <td>이영자</td>\n",
       "      <td>73</td>\n",
       "    </tr>\n",
       "    <tr>\n",
       "      <th>36</th>\n",
       "      <td>전현무</td>\n",
       "      <td>73</td>\n",
       "    </tr>\n",
       "    <tr>\n",
       "      <th>37</th>\n",
       "      <td>송은이</td>\n",
       "      <td>73</td>\n",
       "    </tr>\n",
       "    <tr>\n",
       "      <th>38</th>\n",
       "      <td>양세형</td>\n",
       "      <td>73</td>\n",
       "    </tr>\n",
       "    <tr>\n",
       "      <th>39</th>\n",
       "      <td>유병재</td>\n",
       "      <td>73</td>\n",
       "    </tr>\n",
       "  </tbody>\n",
       "</table>\n",
       "</div>"
      ],
      "text/plain": [
       "      node  nodesize\n",
       "0       음중       130\n",
       "1   브레이브걸스       415\n",
       "2       예능       149\n",
       "3      연구소       149\n",
       "4       직캠       149\n",
       "5       이찬        73\n",
       "6    쇼음악중심       114\n",
       "7     치맛바람       114\n",
       "14      전지       130\n",
       "15      참견       130\n",
       "16      시점        95\n",
       "23      쁘걸        73\n",
       "24      신곡        73\n",
       "34     토요일        73\n",
       "35     이영자        73\n",
       "36     전현무        73\n",
       "37     송은이        73\n",
       "38     양세형        73\n",
       "39     유병재        73"
      ]
     },
     "execution_count": 37,
     "metadata": {},
     "output_type": "execute_result"
    }
   ],
   "source": [
    "node_df = pd.DataFrame(remove_char_counter.items(), columns=['node','nodesize'])\n",
    "# 시각화의 편의를 위해 ‘nodesize’ 50 이하는 제거합니다\n",
    "node_df = node_df[node_df['nodesize'] >=50]\n",
    "node_df"
   ]
  },
  {
   "cell_type": "markdown",
   "metadata": {},
   "source": [
    "## <step4.t시각화> : 연관키워드 네트워크 시각화"
   ]
  },
  {
   "cell_type": "markdown",
   "metadata": {},
   "source": [
    "**[연관 키워드 네트워크 시각화]**"
   ]
  },
  {
   "cell_type": "code",
   "execution_count": 40,
   "metadata": {},
   "outputs": [
    {
     "ename": "KeyError",
     "evalue": "'nodesize'",
     "output_type": "error",
     "traceback": [
      "\u001b[1;31m---------------------------------------------------------------------------\u001b[0m",
      "\u001b[1;31mKeyError\u001b[0m                                  Traceback (most recent call last)",
      "\u001b[1;32m<ipython-input-40-73f107caaaac>\u001b[0m in \u001b[0;36m<module>\u001b[1;34m\u001b[0m\n\u001b[0;32m     15\u001b[0m \u001b[1;31m# 그래프 디자인과 관련된 파라미터를 설정합니다.\u001b[0m\u001b[1;33m\u001b[0m\u001b[1;33m\u001b[0m\u001b[0m\n\u001b[0;32m     16\u001b[0m \u001b[0mpos\u001b[0m \u001b[1;33m=\u001b[0m \u001b[0mnx\u001b[0m\u001b[1;33m.\u001b[0m\u001b[0mspring_layout\u001b[0m\u001b[1;33m(\u001b[0m\u001b[0mG\u001b[0m\u001b[1;33m,\u001b[0m \u001b[0mk\u001b[0m\u001b[1;33m=\u001b[0m\u001b[1;36m0.6\u001b[0m\u001b[1;33m,\u001b[0m \u001b[0miterations\u001b[0m\u001b[1;33m=\u001b[0m\u001b[1;36m30\u001b[0m\u001b[1;33m)\u001b[0m\u001b[1;33m\u001b[0m\u001b[0m\n\u001b[1;32m---> 17\u001b[1;33m \u001b[0msizes\u001b[0m \u001b[1;33m=\u001b[0m \u001b[1;33m[\u001b[0m\u001b[0mG\u001b[0m\u001b[1;33m.\u001b[0m\u001b[0mnodes\u001b[0m\u001b[1;33m[\u001b[0m\u001b[0mnode\u001b[0m\u001b[1;33m]\u001b[0m\u001b[1;33m[\u001b[0m\u001b[1;34m'nodesize'\u001b[0m\u001b[1;33m]\u001b[0m\u001b[1;33m*\u001b[0m\u001b[1;36m25\u001b[0m \u001b[1;32mfor\u001b[0m \u001b[0mnode\u001b[0m \u001b[1;32min\u001b[0m \u001b[0mG\u001b[0m\u001b[1;33m]\u001b[0m\u001b[1;33m\u001b[0m\u001b[0m\n\u001b[0m\u001b[0;32m     18\u001b[0m \u001b[0mnx\u001b[0m\u001b[1;33m.\u001b[0m\u001b[0mdraw\u001b[0m\u001b[1;33m(\u001b[0m\u001b[0mG\u001b[0m\u001b[1;33m,\u001b[0m \u001b[0mpos\u001b[0m\u001b[1;33m=\u001b[0m\u001b[0mpos\u001b[0m\u001b[1;33m,\u001b[0m \u001b[0mnode_size\u001b[0m\u001b[1;33m=\u001b[0m\u001b[0msizes\u001b[0m\u001b[1;33m)\u001b[0m\u001b[1;33m\u001b[0m\u001b[0m\n\u001b[0;32m     19\u001b[0m \u001b[1;33m\u001b[0m\u001b[0m\n",
      "\u001b[1;32m<ipython-input-40-73f107caaaac>\u001b[0m in \u001b[0;36m<listcomp>\u001b[1;34m(.0)\u001b[0m\n\u001b[0;32m     15\u001b[0m \u001b[1;31m# 그래프 디자인과 관련된 파라미터를 설정합니다.\u001b[0m\u001b[1;33m\u001b[0m\u001b[1;33m\u001b[0m\u001b[0m\n\u001b[0;32m     16\u001b[0m \u001b[0mpos\u001b[0m \u001b[1;33m=\u001b[0m \u001b[0mnx\u001b[0m\u001b[1;33m.\u001b[0m\u001b[0mspring_layout\u001b[0m\u001b[1;33m(\u001b[0m\u001b[0mG\u001b[0m\u001b[1;33m,\u001b[0m \u001b[0mk\u001b[0m\u001b[1;33m=\u001b[0m\u001b[1;36m0.6\u001b[0m\u001b[1;33m,\u001b[0m \u001b[0miterations\u001b[0m\u001b[1;33m=\u001b[0m\u001b[1;36m30\u001b[0m\u001b[1;33m)\u001b[0m\u001b[1;33m\u001b[0m\u001b[0m\n\u001b[1;32m---> 17\u001b[1;33m \u001b[0msizes\u001b[0m \u001b[1;33m=\u001b[0m \u001b[1;33m[\u001b[0m\u001b[0mG\u001b[0m\u001b[1;33m.\u001b[0m\u001b[0mnodes\u001b[0m\u001b[1;33m[\u001b[0m\u001b[0mnode\u001b[0m\u001b[1;33m]\u001b[0m\u001b[1;33m[\u001b[0m\u001b[1;34m'nodesize'\u001b[0m\u001b[1;33m]\u001b[0m\u001b[1;33m*\u001b[0m\u001b[1;36m25\u001b[0m \u001b[1;32mfor\u001b[0m \u001b[0mnode\u001b[0m \u001b[1;32min\u001b[0m \u001b[0mG\u001b[0m\u001b[1;33m]\u001b[0m\u001b[1;33m\u001b[0m\u001b[0m\n\u001b[0m\u001b[0;32m     18\u001b[0m \u001b[0mnx\u001b[0m\u001b[1;33m.\u001b[0m\u001b[0mdraw\u001b[0m\u001b[1;33m(\u001b[0m\u001b[0mG\u001b[0m\u001b[1;33m,\u001b[0m \u001b[0mpos\u001b[0m\u001b[1;33m=\u001b[0m\u001b[0mpos\u001b[0m\u001b[1;33m,\u001b[0m \u001b[0mnode_size\u001b[0m\u001b[1;33m=\u001b[0m\u001b[0msizes\u001b[0m\u001b[1;33m)\u001b[0m\u001b[1;33m\u001b[0m\u001b[0m\n\u001b[0;32m     19\u001b[0m \u001b[1;33m\u001b[0m\u001b[0m\n",
      "\u001b[1;31mKeyError\u001b[0m: 'nodesize'"
     ]
    },
    {
     "data": {
      "text/plain": [
       "<Figure size 1800x1800 with 0 Axes>"
      ]
     },
     "metadata": {},
     "output_type": "display_data"
    }
   ],
   "source": [
    "import networkx as nx\n",
    "plt.figure(figsize=(25,25))\n",
    "\n",
    "# networkx 그래프 객체를 생성합니다.\n",
    "G = nx.Graph()\n",
    "\n",
    "# node_df의 키워드 빈도수를 데이터로 하여, 네트워크 그래프의 ‘노드’ 역할을 하는 원을 생성합니다.\n",
    "for index, row in node_df.iterrows():\n",
    "    G.add_node(row['node'], nodesize=row['nodesize'])\n",
    "    \n",
    "# network_df의 연관 분석 데이터를 기반으로, 네트워크 그래프의 ‘관계’ 역할을 하는 선을 생성합니다.\n",
    "for index, row in network_df.iterrows():\n",
    "    G.add_weighted_edges_from([(row['source'], row['target'], row['support'])])\n",
    "\n",
    "# 그래프 디자인과 관련된 파라미터를 설정합니다.\n",
    "pos = nx.spring_layout(G, k=0.6, iterations=50)\n",
    "sizes = [G.nodes[node]['nodesize']*25 for node in G]\n",
    "nx.draw(G, pos=pos, node_size=sizes)\n",
    "\n",
    "# Windows 사용자는 AppleGothic 대신,'Malgun Gothic'. 그 외 OS는 OS에서 한글을 지원하는 기본 폰트를 입력합니다.\n",
    "nx.draw_networkx_labels(G, pos=pos, font_family='Malgun Gothic', font_size=25)\n",
    "\n",
    "# 그래프를 출력합니다.\n",
    "ax = plt.gca()\n",
    "plt.show()"
   ]
  },
  {
   "cell_type": "code",
   "execution_count": null,
   "metadata": {},
   "outputs": [],
   "source": []
  }
 ],
 "metadata": {
  "kernelspec": {
   "display_name": "Python 3",
   "language": "python",
   "name": "python3"
  },
  "language_info": {
   "codemirror_mode": {
    "name": "ipython",
    "version": 3
   },
   "file_extension": ".py",
   "mimetype": "text/x-python",
   "name": "python",
   "nbconvert_exporter": "python",
   "pygments_lexer": "ipython3",
   "version": "3.6.5"
  }
 },
 "nbformat": 4,
 "nbformat_minor": 4
}
