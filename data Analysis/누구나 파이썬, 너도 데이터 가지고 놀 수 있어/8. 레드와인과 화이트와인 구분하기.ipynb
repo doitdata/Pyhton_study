{
 "cells": [
  {
   "cell_type": "code",
   "execution_count": 1,
   "metadata": {},
   "outputs": [
    {
     "data": {
      "text/html": [
       "<div>\n",
       "<style scoped>\n",
       "    .dataframe tbody tr th:only-of-type {\n",
       "        vertical-align: middle;\n",
       "    }\n",
       "\n",
       "    .dataframe tbody tr th {\n",
       "        vertical-align: top;\n",
       "    }\n",
       "\n",
       "    .dataframe thead th {\n",
       "        text-align: right;\n",
       "    }\n",
       "</style>\n",
       "<table border=\"1\" class=\"dataframe\">\n",
       "  <thead>\n",
       "    <tr style=\"text-align: right;\">\n",
       "      <th></th>\n",
       "      <th>fixed acidity</th>\n",
       "      <th>volatile acidity</th>\n",
       "      <th>citric acid</th>\n",
       "      <th>residual sugar</th>\n",
       "      <th>chlorides</th>\n",
       "      <th>free sulfur dioxide</th>\n",
       "      <th>total sulfur dioxide</th>\n",
       "      <th>density</th>\n",
       "      <th>pH</th>\n",
       "      <th>sulphates</th>\n",
       "      <th>alcohol</th>\n",
       "      <th>quality</th>\n",
       "      <th>color</th>\n",
       "    </tr>\n",
       "  </thead>\n",
       "  <tbody>\n",
       "    <tr>\n",
       "      <th>0</th>\n",
       "      <td>7.4</td>\n",
       "      <td>0.70</td>\n",
       "      <td>0.00</td>\n",
       "      <td>1.9</td>\n",
       "      <td>0.076</td>\n",
       "      <td>11.0</td>\n",
       "      <td>34.0</td>\n",
       "      <td>0.9978</td>\n",
       "      <td>3.51</td>\n",
       "      <td>0.56</td>\n",
       "      <td>9.4</td>\n",
       "      <td>5</td>\n",
       "      <td>1</td>\n",
       "    </tr>\n",
       "    <tr>\n",
       "      <th>1</th>\n",
       "      <td>7.8</td>\n",
       "      <td>0.88</td>\n",
       "      <td>0.00</td>\n",
       "      <td>2.6</td>\n",
       "      <td>0.098</td>\n",
       "      <td>25.0</td>\n",
       "      <td>67.0</td>\n",
       "      <td>0.9968</td>\n",
       "      <td>3.20</td>\n",
       "      <td>0.68</td>\n",
       "      <td>9.8</td>\n",
       "      <td>5</td>\n",
       "      <td>1</td>\n",
       "    </tr>\n",
       "    <tr>\n",
       "      <th>2</th>\n",
       "      <td>7.8</td>\n",
       "      <td>0.76</td>\n",
       "      <td>0.04</td>\n",
       "      <td>2.3</td>\n",
       "      <td>0.092</td>\n",
       "      <td>15.0</td>\n",
       "      <td>54.0</td>\n",
       "      <td>0.9970</td>\n",
       "      <td>3.26</td>\n",
       "      <td>0.65</td>\n",
       "      <td>9.8</td>\n",
       "      <td>5</td>\n",
       "      <td>1</td>\n",
       "    </tr>\n",
       "    <tr>\n",
       "      <th>3</th>\n",
       "      <td>11.2</td>\n",
       "      <td>0.28</td>\n",
       "      <td>0.56</td>\n",
       "      <td>1.9</td>\n",
       "      <td>0.075</td>\n",
       "      <td>17.0</td>\n",
       "      <td>60.0</td>\n",
       "      <td>0.9980</td>\n",
       "      <td>3.16</td>\n",
       "      <td>0.58</td>\n",
       "      <td>9.8</td>\n",
       "      <td>6</td>\n",
       "      <td>1</td>\n",
       "    </tr>\n",
       "    <tr>\n",
       "      <th>4</th>\n",
       "      <td>7.4</td>\n",
       "      <td>0.70</td>\n",
       "      <td>0.00</td>\n",
       "      <td>1.9</td>\n",
       "      <td>0.076</td>\n",
       "      <td>11.0</td>\n",
       "      <td>34.0</td>\n",
       "      <td>0.9978</td>\n",
       "      <td>3.51</td>\n",
       "      <td>0.56</td>\n",
       "      <td>9.4</td>\n",
       "      <td>5</td>\n",
       "      <td>1</td>\n",
       "    </tr>\n",
       "  </tbody>\n",
       "</table>\n",
       "</div>"
      ],
      "text/plain": [
       "   fixed acidity  volatile acidity  citric acid  residual sugar  chlorides  \\\n",
       "0            7.4              0.70         0.00             1.9      0.076   \n",
       "1            7.8              0.88         0.00             2.6      0.098   \n",
       "2            7.8              0.76         0.04             2.3      0.092   \n",
       "3           11.2              0.28         0.56             1.9      0.075   \n",
       "4            7.4              0.70         0.00             1.9      0.076   \n",
       "\n",
       "   free sulfur dioxide  total sulfur dioxide  density    pH  sulphates  \\\n",
       "0                 11.0                  34.0   0.9978  3.51       0.56   \n",
       "1                 25.0                  67.0   0.9968  3.20       0.68   \n",
       "2                 15.0                  54.0   0.9970  3.26       0.65   \n",
       "3                 17.0                  60.0   0.9980  3.16       0.58   \n",
       "4                 11.0                  34.0   0.9978  3.51       0.56   \n",
       "\n",
       "   alcohol  quality  color  \n",
       "0      9.4        5      1  \n",
       "1      9.8        5      1  \n",
       "2      9.8        5      1  \n",
       "3      9.8        6      1  \n",
       "4      9.4        5      1  "
      ]
     },
     "execution_count": 1,
     "metadata": {},
     "output_type": "execute_result"
    }
   ],
   "source": [
    "import pandas as pd\n",
    "\n",
    "wine_url = 'https://raw.githubusercontent.com/PinkWink/ML_tutorial'+\\\n",
    "                                '/master/dataset/wine.csv'\n",
    "\n",
    "wine = pd.read_csv(wine_url, sep=',', index_col = 0)\n",
    "wine.head()"
   ]
  },
  {
   "cell_type": "code",
   "execution_count": 2,
   "metadata": {},
   "outputs": [
    {
     "data": {
      "text/plain": [
       "0    4898\n",
       "1    1599\n",
       "Name: color, dtype: int64"
      ]
     },
     "execution_count": 2,
     "metadata": {},
     "output_type": "execute_result"
    }
   ],
   "source": [
    "wine['color'].value_counts()"
   ]
  },
  {
   "cell_type": "code",
   "execution_count": 3,
   "metadata": {},
   "outputs": [
    {
     "data": {
      "text/html": [
       "<div>\n",
       "<style scoped>\n",
       "    .dataframe tbody tr th:only-of-type {\n",
       "        vertical-align: middle;\n",
       "    }\n",
       "\n",
       "    .dataframe tbody tr th {\n",
       "        vertical-align: top;\n",
       "    }\n",
       "\n",
       "    .dataframe thead th {\n",
       "        text-align: right;\n",
       "    }\n",
       "</style>\n",
       "<table border=\"1\" class=\"dataframe\">\n",
       "  <thead>\n",
       "    <tr style=\"text-align: right;\">\n",
       "      <th></th>\n",
       "      <th>fixed acidity</th>\n",
       "      <th>volatile acidity</th>\n",
       "      <th>citric acid</th>\n",
       "      <th>residual sugar</th>\n",
       "      <th>chlorides</th>\n",
       "      <th>free sulfur dioxide</th>\n",
       "      <th>total sulfur dioxide</th>\n",
       "      <th>density</th>\n",
       "      <th>pH</th>\n",
       "      <th>sulphates</th>\n",
       "      <th>alcohol</th>\n",
       "      <th>quality</th>\n",
       "    </tr>\n",
       "  </thead>\n",
       "  <tbody>\n",
       "    <tr>\n",
       "      <th>0</th>\n",
       "      <td>7.4</td>\n",
       "      <td>0.70</td>\n",
       "      <td>0.00</td>\n",
       "      <td>1.9</td>\n",
       "      <td>0.076</td>\n",
       "      <td>11.0</td>\n",
       "      <td>34.0</td>\n",
       "      <td>0.9978</td>\n",
       "      <td>3.51</td>\n",
       "      <td>0.56</td>\n",
       "      <td>9.4</td>\n",
       "      <td>5</td>\n",
       "    </tr>\n",
       "    <tr>\n",
       "      <th>1</th>\n",
       "      <td>7.8</td>\n",
       "      <td>0.88</td>\n",
       "      <td>0.00</td>\n",
       "      <td>2.6</td>\n",
       "      <td>0.098</td>\n",
       "      <td>25.0</td>\n",
       "      <td>67.0</td>\n",
       "      <td>0.9968</td>\n",
       "      <td>3.20</td>\n",
       "      <td>0.68</td>\n",
       "      <td>9.8</td>\n",
       "      <td>5</td>\n",
       "    </tr>\n",
       "    <tr>\n",
       "      <th>2</th>\n",
       "      <td>7.8</td>\n",
       "      <td>0.76</td>\n",
       "      <td>0.04</td>\n",
       "      <td>2.3</td>\n",
       "      <td>0.092</td>\n",
       "      <td>15.0</td>\n",
       "      <td>54.0</td>\n",
       "      <td>0.9970</td>\n",
       "      <td>3.26</td>\n",
       "      <td>0.65</td>\n",
       "      <td>9.8</td>\n",
       "      <td>5</td>\n",
       "    </tr>\n",
       "    <tr>\n",
       "      <th>3</th>\n",
       "      <td>11.2</td>\n",
       "      <td>0.28</td>\n",
       "      <td>0.56</td>\n",
       "      <td>1.9</td>\n",
       "      <td>0.075</td>\n",
       "      <td>17.0</td>\n",
       "      <td>60.0</td>\n",
       "      <td>0.9980</td>\n",
       "      <td>3.16</td>\n",
       "      <td>0.58</td>\n",
       "      <td>9.8</td>\n",
       "      <td>6</td>\n",
       "    </tr>\n",
       "    <tr>\n",
       "      <th>4</th>\n",
       "      <td>7.4</td>\n",
       "      <td>0.70</td>\n",
       "      <td>0.00</td>\n",
       "      <td>1.9</td>\n",
       "      <td>0.076</td>\n",
       "      <td>11.0</td>\n",
       "      <td>34.0</td>\n",
       "      <td>0.9978</td>\n",
       "      <td>3.51</td>\n",
       "      <td>0.56</td>\n",
       "      <td>9.4</td>\n",
       "      <td>5</td>\n",
       "    </tr>\n",
       "  </tbody>\n",
       "</table>\n",
       "</div>"
      ],
      "text/plain": [
       "   fixed acidity  volatile acidity  citric acid  residual sugar  chlorides  \\\n",
       "0            7.4              0.70         0.00             1.9      0.076   \n",
       "1            7.8              0.88         0.00             2.6      0.098   \n",
       "2            7.8              0.76         0.04             2.3      0.092   \n",
       "3           11.2              0.28         0.56             1.9      0.075   \n",
       "4            7.4              0.70         0.00             1.9      0.076   \n",
       "\n",
       "   free sulfur dioxide  total sulfur dioxide  density    pH  sulphates  \\\n",
       "0                 11.0                  34.0   0.9978  3.51       0.56   \n",
       "1                 25.0                  67.0   0.9968  3.20       0.68   \n",
       "2                 15.0                  54.0   0.9970  3.26       0.65   \n",
       "3                 17.0                  60.0   0.9980  3.16       0.58   \n",
       "4                 11.0                  34.0   0.9978  3.51       0.56   \n",
       "\n",
       "   alcohol  quality  \n",
       "0      9.4        5  \n",
       "1      9.8        5  \n",
       "2      9.8        5  \n",
       "3      9.8        6  \n",
       "4      9.4        5  "
      ]
     },
     "execution_count": 3,
     "metadata": {},
     "output_type": "execute_result"
    }
   ],
   "source": [
    "y = wine['color']\n",
    "X = wine.drop(['color'], axis=1)\n",
    "X.head()"
   ]
  },
  {
   "cell_type": "code",
   "execution_count": 7,
   "metadata": {},
   "outputs": [],
   "source": [
    "from sklearn.model_selection import train_test_split\n",
    "\n",
    "X_train, X_text, y_train, y_test = train_test_split(X, y, test_size=0.1, random_state=13)"
   ]
  },
  {
   "cell_type": "code",
   "execution_count": 8,
   "metadata": {},
   "outputs": [
    {
     "data": {
      "text/plain": [
       "(array([0, 1], dtype=int64), array([4391, 1456], dtype=int64))"
      ]
     },
     "execution_count": 8,
     "metadata": {},
     "output_type": "execute_result"
    }
   ],
   "source": [
    "import numpy as np\n",
    "\n",
    "np.unique(y_train, return_counts=True)"
   ]
  },
  {
   "cell_type": "code",
   "execution_count": 9,
   "metadata": {},
   "outputs": [
    {
     "data": {
      "text/plain": [
       "LogisticRegression(C=10.0, random_state=13, solver='liblinear')"
      ]
     },
     "execution_count": 9,
     "metadata": {},
     "output_type": "execute_result"
    }
   ],
   "source": [
    "from sklearn.linear_model import LogisticRegression\n",
    "\n",
    "log_reg = LogisticRegression(random_state=13, solver='liblinear', C=10.)\n",
    "log_reg.fit(X_train, y_train)"
   ]
  },
  {
   "cell_type": "code",
   "execution_count": 10,
   "metadata": {},
   "outputs": [
    {
     "data": {
      "text/plain": [
       "0.9875149649392851"
      ]
     },
     "execution_count": 10,
     "metadata": {},
     "output_type": "execute_result"
    }
   ],
   "source": [
    "from sklearn.metrics import accuracy_score\n",
    "\n",
    "pred = log_reg.predict(X_train)\n",
    "accuracy_score(y_train, pred)"
   ]
  },
  {
   "cell_type": "code",
   "execution_count": 11,
   "metadata": {},
   "outputs": [
    {
     "data": {
      "text/plain": [
       "0.9876923076923076"
      ]
     },
     "execution_count": 11,
     "metadata": {},
     "output_type": "execute_result"
    }
   ],
   "source": [
    "pred = log_reg.predict(X_text)\n",
    "accuracy_score(y_test, pred)"
   ]
  },
  {
   "cell_type": "code",
   "execution_count": 12,
   "metadata": {},
   "outputs": [
    {
     "data": {
      "text/plain": [
       "array([[504,   3],\n",
       "       [  5, 138]], dtype=int64)"
      ]
     },
     "execution_count": 12,
     "metadata": {},
     "output_type": "execute_result"
    }
   ],
   "source": [
    "from sklearn.metrics import confusion_matrix\n",
    "confusion_matrix(y_test, pred)"
   ]
  },
  {
   "cell_type": "code",
   "execution_count": 15,
   "metadata": {},
   "outputs": [
    {
     "data": {
      "text/plain": [
       "<matplotlib.axes._subplots.AxesSubplot at 0x210254547f0>"
      ]
     },
     "execution_count": 15,
     "metadata": {},
     "output_type": "execute_result"
    },
    {
     "data": {
      "image/png": "[encoded data removed]",
      "text/plain": [
       "<Figure size 432x288 with 1 Axes>"
      ]
     },
     "metadata": {
      "needs_background": "light"
     },
     "output_type": "display_data"
    }
   ],
   "source": [
    "import seaborn as sns\n",
    "\n",
    "sns.boxplot(data=X[['fixed acidity', 'chlorides', 'quality']])"
   ]
  },
  {
   "cell_type": "code",
   "execution_count": 17,
   "metadata": {},
   "outputs": [],
   "source": [
    "from sklearn.preprocessing import MinMaxScaler, StandardScaler\n",
    "\n",
    "MMS = MinMaxScaler()\n",
    "SS = StandardScaler()\n",
    "\n",
    "SS.fit(X)\n",
    "MMS.fit(X)\n",
    "\n",
    "X_ss = SS.transform(X)\n",
    "X_mms = MMS.transform(X)"
   ]
  },
  {
   "cell_type": "code",
   "execution_count": 18,
   "metadata": {},
   "outputs": [],
   "source": [
    "X_ss_pd = pd.DataFrame(X_ss, columns=X.columns)\n",
    "X_mms_pd = pd.DataFrame(X_mms, columns=X.columns)"
   ]
  },
  {
   "cell_type": "code",
   "execution_count": 19,
   "metadata": {},
   "outputs": [
    {
     "data": {
      "text/html": [
       "<div>\n",
       "<style scoped>\n",
       "    .dataframe tbody tr th:only-of-type {\n",
       "        vertical-align: middle;\n",
       "    }\n",
       "\n",
       "    .dataframe tbody tr th {\n",
       "        vertical-align: top;\n",
       "    }\n",
       "\n",
       "    .dataframe thead th {\n",
       "        text-align: right;\n",
       "    }\n",
       "</style>\n",
       "<table border=\"1\" class=\"dataframe\">\n",
       "  <thead>\n",
       "    <tr style=\"text-align: right;\">\n",
       "      <th></th>\n",
       "      <th>fixed acidity</th>\n",
       "      <th>volatile acidity</th>\n",
       "      <th>citric acid</th>\n",
       "      <th>residual sugar</th>\n",
       "      <th>chlorides</th>\n",
       "      <th>free sulfur dioxide</th>\n",
       "      <th>total sulfur dioxide</th>\n",
       "      <th>density</th>\n",
       "      <th>pH</th>\n",
       "      <th>sulphates</th>\n",
       "      <th>alcohol</th>\n",
       "      <th>quality</th>\n",
       "    </tr>\n",
       "  </thead>\n",
       "  <tbody>\n",
       "    <tr>\n",
       "      <th>0</th>\n",
       "      <td>0.142473</td>\n",
       "      <td>2.188833</td>\n",
       "      <td>-2.192833</td>\n",
       "      <td>-0.744778</td>\n",
       "      <td>0.569958</td>\n",
       "      <td>-1.100140</td>\n",
       "      <td>-1.446359</td>\n",
       "      <td>1.034993</td>\n",
       "      <td>1.813090</td>\n",
       "      <td>0.193097</td>\n",
       "      <td>-0.915464</td>\n",
       "      <td>-0.937230</td>\n",
       "    </tr>\n",
       "    <tr>\n",
       "      <th>1</th>\n",
       "      <td>0.451036</td>\n",
       "      <td>3.282235</td>\n",
       "      <td>-2.192833</td>\n",
       "      <td>-0.597640</td>\n",
       "      <td>1.197975</td>\n",
       "      <td>-0.311320</td>\n",
       "      <td>-0.862469</td>\n",
       "      <td>0.701486</td>\n",
       "      <td>-0.115073</td>\n",
       "      <td>0.999579</td>\n",
       "      <td>-0.580068</td>\n",
       "      <td>-0.937230</td>\n",
       "    </tr>\n",
       "    <tr>\n",
       "      <th>2</th>\n",
       "      <td>0.451036</td>\n",
       "      <td>2.553300</td>\n",
       "      <td>-1.917553</td>\n",
       "      <td>-0.660699</td>\n",
       "      <td>1.026697</td>\n",
       "      <td>-0.874763</td>\n",
       "      <td>-1.092486</td>\n",
       "      <td>0.768188</td>\n",
       "      <td>0.258120</td>\n",
       "      <td>0.797958</td>\n",
       "      <td>-0.580068</td>\n",
       "      <td>-0.937230</td>\n",
       "    </tr>\n",
       "    <tr>\n",
       "      <th>3</th>\n",
       "      <td>3.073817</td>\n",
       "      <td>-0.362438</td>\n",
       "      <td>1.661085</td>\n",
       "      <td>-0.744778</td>\n",
       "      <td>0.541412</td>\n",
       "      <td>-0.762074</td>\n",
       "      <td>-0.986324</td>\n",
       "      <td>1.101694</td>\n",
       "      <td>-0.363868</td>\n",
       "      <td>0.327510</td>\n",
       "      <td>-0.580068</td>\n",
       "      <td>0.207999</td>\n",
       "    </tr>\n",
       "    <tr>\n",
       "      <th>4</th>\n",
       "      <td>0.142473</td>\n",
       "      <td>2.188833</td>\n",
       "      <td>-2.192833</td>\n",
       "      <td>-0.744778</td>\n",
       "      <td>0.569958</td>\n",
       "      <td>-1.100140</td>\n",
       "      <td>-1.446359</td>\n",
       "      <td>1.034993</td>\n",
       "      <td>1.813090</td>\n",
       "      <td>0.193097</td>\n",
       "      <td>-0.915464</td>\n",
       "      <td>-0.937230</td>\n",
       "    </tr>\n",
       "  </tbody>\n",
       "</table>\n",
       "</div>"
      ],
      "text/plain": [
       "   fixed acidity  volatile acidity  citric acid  residual sugar  chlorides  \\\n",
       "0       0.142473          2.188833    -2.192833       -0.744778   0.569958   \n",
       "1       0.451036          3.282235    -2.192833       -0.597640   1.197975   \n",
       "2       0.451036          2.553300    -1.917553       -0.660699   1.026697   \n",
       "3       3.073817         -0.362438     1.661085       -0.744778   0.541412   \n",
       "4       0.142473          2.188833    -2.192833       -0.744778   0.569958   \n",
       "\n",
       "   free sulfur dioxide  total sulfur dioxide   density        pH  sulphates  \\\n",
       "0            -1.100140             -1.446359  1.034993  1.813090   0.193097   \n",
       "1            -0.311320             -0.862469  0.701486 -0.115073   0.999579   \n",
       "2            -0.874763             -1.092486  0.768188  0.258120   0.797958   \n",
       "3            -0.762074             -0.986324  1.101694 -0.363868   0.327510   \n",
       "4            -1.100140             -1.446359  1.034993  1.813090   0.193097   \n",
       "\n",
       "    alcohol   quality  \n",
       "0 -0.915464 -0.937230  \n",
       "1 -0.580068 -0.937230  \n",
       "2 -0.580068 -0.937230  \n",
       "3 -0.580068  0.207999  \n",
       "4 -0.915464 -0.937230  "
      ]
     },
     "execution_count": 19,
     "metadata": {},
     "output_type": "execute_result"
    }
   ],
   "source": [
    "X_ss_pd.head()"
   ]
  },
  {
   "cell_type": "code",
   "execution_count": 20,
   "metadata": {},
   "outputs": [
    {
     "data": {
      "text/html": [
       "<div>\n",
       "<style scoped>\n",
       "    .dataframe tbody tr th:only-of-type {\n",
       "        vertical-align: middle;\n",
       "    }\n",
       "\n",
       "    .dataframe tbody tr th {\n",
       "        vertical-align: top;\n",
       "    }\n",
       "\n",
       "    .dataframe thead th {\n",
       "        text-align: right;\n",
       "    }\n",
       "</style>\n",
       "<table border=\"1\" class=\"dataframe\">\n",
       "  <thead>\n",
       "    <tr style=\"text-align: right;\">\n",
       "      <th></th>\n",
       "      <th>fixed acidity</th>\n",
       "      <th>volatile acidity</th>\n",
       "      <th>citric acid</th>\n",
       "      <th>residual sugar</th>\n",
       "      <th>chlorides</th>\n",
       "      <th>free sulfur dioxide</th>\n",
       "      <th>total sulfur dioxide</th>\n",
       "      <th>density</th>\n",
       "      <th>pH</th>\n",
       "      <th>sulphates</th>\n",
       "      <th>alcohol</th>\n",
       "      <th>quality</th>\n",
       "    </tr>\n",
       "  </thead>\n",
       "  <tbody>\n",
       "    <tr>\n",
       "      <th>0</th>\n",
       "      <td>0.297521</td>\n",
       "      <td>0.413333</td>\n",
       "      <td>0.000000</td>\n",
       "      <td>0.019939</td>\n",
       "      <td>0.111296</td>\n",
       "      <td>0.034722</td>\n",
       "      <td>0.064516</td>\n",
       "      <td>0.206092</td>\n",
       "      <td>0.612403</td>\n",
       "      <td>0.191011</td>\n",
       "      <td>0.202899</td>\n",
       "      <td>0.333333</td>\n",
       "    </tr>\n",
       "    <tr>\n",
       "      <th>1</th>\n",
       "      <td>0.330579</td>\n",
       "      <td>0.533333</td>\n",
       "      <td>0.000000</td>\n",
       "      <td>0.030675</td>\n",
       "      <td>0.147841</td>\n",
       "      <td>0.083333</td>\n",
       "      <td>0.140553</td>\n",
       "      <td>0.186813</td>\n",
       "      <td>0.372093</td>\n",
       "      <td>0.258427</td>\n",
       "      <td>0.260870</td>\n",
       "      <td>0.333333</td>\n",
       "    </tr>\n",
       "    <tr>\n",
       "      <th>2</th>\n",
       "      <td>0.330579</td>\n",
       "      <td>0.453333</td>\n",
       "      <td>0.024096</td>\n",
       "      <td>0.026074</td>\n",
       "      <td>0.137874</td>\n",
       "      <td>0.048611</td>\n",
       "      <td>0.110599</td>\n",
       "      <td>0.190669</td>\n",
       "      <td>0.418605</td>\n",
       "      <td>0.241573</td>\n",
       "      <td>0.260870</td>\n",
       "      <td>0.333333</td>\n",
       "    </tr>\n",
       "    <tr>\n",
       "      <th>3</th>\n",
       "      <td>0.611570</td>\n",
       "      <td>0.133333</td>\n",
       "      <td>0.337349</td>\n",
       "      <td>0.019939</td>\n",
       "      <td>0.109635</td>\n",
       "      <td>0.055556</td>\n",
       "      <td>0.124424</td>\n",
       "      <td>0.209948</td>\n",
       "      <td>0.341085</td>\n",
       "      <td>0.202247</td>\n",
       "      <td>0.260870</td>\n",
       "      <td>0.500000</td>\n",
       "    </tr>\n",
       "    <tr>\n",
       "      <th>4</th>\n",
       "      <td>0.297521</td>\n",
       "      <td>0.413333</td>\n",
       "      <td>0.000000</td>\n",
       "      <td>0.019939</td>\n",
       "      <td>0.111296</td>\n",
       "      <td>0.034722</td>\n",
       "      <td>0.064516</td>\n",
       "      <td>0.206092</td>\n",
       "      <td>0.612403</td>\n",
       "      <td>0.191011</td>\n",
       "      <td>0.202899</td>\n",
       "      <td>0.333333</td>\n",
       "    </tr>\n",
       "  </tbody>\n",
       "</table>\n",
       "</div>"
      ],
      "text/plain": [
       "   fixed acidity  volatile acidity  citric acid  residual sugar  chlorides  \\\n",
       "0       0.297521          0.413333     0.000000        0.019939   0.111296   \n",
       "1       0.330579          0.533333     0.000000        0.030675   0.147841   \n",
       "2       0.330579          0.453333     0.024096        0.026074   0.137874   \n",
       "3       0.611570          0.133333     0.337349        0.019939   0.109635   \n",
       "4       0.297521          0.413333     0.000000        0.019939   0.111296   \n",
       "\n",
       "   free sulfur dioxide  total sulfur dioxide   density        pH  sulphates  \\\n",
       "0             0.034722              0.064516  0.206092  0.612403   0.191011   \n",
       "1             0.083333              0.140553  0.186813  0.372093   0.258427   \n",
       "2             0.048611              0.110599  0.190669  0.418605   0.241573   \n",
       "3             0.055556              0.124424  0.209948  0.341085   0.202247   \n",
       "4             0.034722              0.064516  0.206092  0.612403   0.191011   \n",
       "\n",
       "    alcohol   quality  \n",
       "0  0.202899  0.333333  \n",
       "1  0.260870  0.333333  \n",
       "2  0.260870  0.333333  \n",
       "3  0.260870  0.500000  \n",
       "4  0.202899  0.333333  "
      ]
     },
     "execution_count": 20,
     "metadata": {},
     "output_type": "execute_result"
    }
   ],
   "source": [
    "X_mms_pd.head()"
   ]
  },
  {
   "cell_type": "code",
   "execution_count": 22,
   "metadata": {},
   "outputs": [
    {
     "data": {
      "text/plain": [
       "<matplotlib.axes._subplots.AxesSubplot at 0x21025dafe10>"
      ]
     },
     "execution_count": 22,
     "metadata": {},
     "output_type": "execute_result"
    },
    {
     "data": {
      "image/png": "[encoded data removed]",
      "text/plain": [
       "<Figure size 432x288 with 1 Axes>"
      ]
     },
     "metadata": {
      "needs_background": "light"
     },
     "output_type": "display_data"
    }
   ],
   "source": [
    "sns.boxplot(data=X_mms_pd[['fixed acidity','chlorides', 'quality']])"
   ]
  },
  {
   "cell_type": "code",
   "execution_count": 23,
   "metadata": {},
   "outputs": [
    {
     "data": {
      "text/plain": [
       "<matplotlib.axes._subplots.AxesSubplot at 0x21025d2c160>"
      ]
     },
     "execution_count": 23,
     "metadata": {},
     "output_type": "execute_result"
    },
    {
     "data": {
      "image/png": "[encoded data removed]",
      "text/plain": [
       "<Figure size 432x288 with 1 Axes>"
      ]
     },
     "metadata": {
      "needs_background": "light"
     },
     "output_type": "display_data"
    }
   ],
   "source": [
    "sns.boxplot(data=X_ss_pd[['fixed acidity','chlorides', 'quality']])"
   ]
  },
  {
   "cell_type": "code",
   "execution_count": 24,
   "metadata": {},
   "outputs": [
    {
     "data": {
      "text/plain": [
       "0.9884615384615385"
      ]
     },
     "execution_count": 24,
     "metadata": {},
     "output_type": "execute_result"
    }
   ],
   "source": [
    "X_out = X_mms_pd\n",
    "X_train, X_test, y_train, y_test = train_test_split(X_out, y, test_size=0.2, random_state=13)\n",
    "\n",
    "log_reg = LogisticRegression(random_state=13, solver='liblinear', C=10.)\n",
    "log_reg.fit(X_train, y_train)\n",
    "\n",
    "pred = log_reg.predict(X_test)\n",
    "accuracy_score(y_test, pred)"
   ]
  },
  {
   "cell_type": "code",
   "execution_count": 25,
   "metadata": {},
   "outputs": [
    {
     "data": {
      "text/plain": [
       "0.9969230769230769"
      ]
     },
     "execution_count": 25,
     "metadata": {},
     "output_type": "execute_result"
    }
   ],
   "source": [
    "X_out = X_ss_pd\n",
    "X_train, X_test, y_train, y_test = train_test_split(X_out, y, test_size=0.2, random_state=13)\n",
    "\n",
    "log_reg = LogisticRegression(random_state=13, solver='liblinear', C=10.)\n",
    "log_reg.fit(X_train, y_train)\n",
    "\n",
    "pred = log_reg.predict(X_test)\n",
    "accuracy_score(y_test, pred)"
   ]
  },
  {
   "cell_type": "code",
   "execution_count": 26,
   "metadata": {
    "scrolled": true
   },
   "outputs": [
    {
     "data": {
      "text/plain": [
       "DecisionTreeClassifier(max_depth=2, random_state=13)"
      ]
     },
     "execution_count": 26,
     "metadata": {},
     "output_type": "execute_result"
    }
   ],
   "source": [
    "from sklearn.tree import DecisionTreeClassifier\n",
    "\n",
    "tree_clf = DecisionTreeClassifier(max_depth=2, random_state=13)\n",
    "tree_clf.fit(X_train, y_train)"
   ]
  },
  {
   "cell_type": "code",
   "execution_count": 27,
   "metadata": {},
   "outputs": [
    {
     "data": {
      "text/plain": [
       "0.9553588608812776"
      ]
     },
     "execution_count": 27,
     "metadata": {},
     "output_type": "execute_result"
    }
   ],
   "source": [
    "pred = tree_clf.predict(X_train)\n",
    "accuracy_score(y_train, pred)"
   ]
  },
  {
   "cell_type": "code",
   "execution_count": 30,
   "metadata": {},
   "outputs": [
    {
     "data": {
      "text/plain": [
       "0.9569230769230769"
      ]
     },
     "execution_count": 30,
     "metadata": {},
     "output_type": "execute_result"
    }
   ],
   "source": [
    "pred = tree_clf.predict(X_test)\n",
    "accuracy_score(y_test, pred)"
   ]
  },
  {
   "cell_type": "code",
   "execution_count": 31,
   "metadata": {},
   "outputs": [
    {
     "data": {
      "text/plain": [
       "array([[939,  46],\n",
       "       [ 10, 305]], dtype=int64)"
      ]
     },
     "execution_count": 31,
     "metadata": {},
     "output_type": "execute_result"
    }
   ],
   "source": [
    "confusion_matrix(y_test, pred)"
   ]
  },
  {
   "cell_type": "code",
   "execution_count": 32,
   "metadata": {},
   "outputs": [
    {
     "data": {
      "image/svg+xml": [
       "<?xml version=\"1.0\" encoding=\"UTF-8\" standalone=\"no\"?>\r\n",
       "<!DOCTYPE svg PUBLIC \"-//W3C//DTD SVG 1.1//EN\"\r\n",
       " \"http://www.w3.org/Graphics/SVG/1.1/DTD/svg11.dtd\">\r\n",
       "<!-- Generated by graphviz version 2.38.0 (20140413.2041)\r\n",
       " -->\r\n",
       "<!-- Title: Tree Pages: 1 -->\r\n",
       "<svg width=\"578pt\" height=\"314pt\"\r\n",
       " viewBox=\"0.00 0.00 578.00 314.00\" xmlns=\"http://www.w3.org/2000/svg\" xmlns:xlink=\"http://www.w3.org/1999/xlink\">\r\n",
       "<g id=\"graph0\" class=\"graph\" transform=\"scale(1 1) rotate(0) translate(4 310)\">\r\n",
       "<title>Tree</title>\r\n",
       "<polygon fill=\"white\" stroke=\"none\" points=\"-4,4 -4,-310 574,-310 574,4 -4,4\"/>\r\n",
       "<!-- 0 -->\r\n",
       "<g id=\"node1\" class=\"node\"><title>0</title>\r\n",
       "<path fill=\"#eeaa7a\" stroke=\"black\" d=\"M366,-306C366,-306 194,-306 194,-306 188,-306 182,-300 182,-294 182,-294 182,-235 182,-235 182,-229 188,-223 194,-223 194,-223 366,-223 366,-223 372,-223 378,-229 378,-235 378,-235 378,-294 378,-294 378,-300 372,-306 366,-306\"/>\r\n",
       "<text text-anchor=\"middle\" x=\"280\" y=\"-290.8\" font-family=\"Helvetica,sans-Serif\" font-size=\"14.00\">total sulfur dioxide &lt;= &#45;0.854</text>\r\n",
       "<text text-anchor=\"middle\" x=\"280\" y=\"-275.8\" font-family=\"Helvetica,sans-Serif\" font-size=\"14.00\">gini = 0.372</text>\r\n",
       "<text text-anchor=\"middle\" x=\"280\" y=\"-260.8\" font-family=\"Helvetica,sans-Serif\" font-size=\"14.00\">samples = 5197</text>\r\n",
       "<text text-anchor=\"middle\" x=\"280\" y=\"-245.8\" font-family=\"Helvetica,sans-Serif\" font-size=\"14.00\">value = [3913, 1284]</text>\r\n",
       "<text text-anchor=\"middle\" x=\"280\" y=\"-230.8\" font-family=\"Helvetica,sans-Serif\" font-size=\"14.00\">class = W</text>\r\n",
       "</g>\r\n",
       "<!-- 1 -->\r\n",
       "<g id=\"node2\" class=\"node\"><title>1</title>\r\n",
       "<path fill=\"#4fa8e8\" stroke=\"black\" d=\"M260,-187C260,-187 144,-187 144,-187 138,-187 132,-181 132,-175 132,-175 132,-116 132,-116 132,-110 138,-104 144,-104 144,-104 260,-104 260,-104 266,-104 272,-110 272,-116 272,-116 272,-175 272,-175 272,-181 266,-187 260,-187\"/>\r\n",
       "<text text-anchor=\"middle\" x=\"202\" y=\"-171.8\" font-family=\"Helvetica,sans-Serif\" font-size=\"14.00\">chlorides &lt;= &#45;0.272</text>\r\n",
       "<text text-anchor=\"middle\" x=\"202\" y=\"-156.8\" font-family=\"Helvetica,sans-Serif\" font-size=\"14.00\">gini = 0.183</text>\r\n",
       "<text text-anchor=\"middle\" x=\"202\" y=\"-141.8\" font-family=\"Helvetica,sans-Serif\" font-size=\"14.00\">samples = 1128</text>\r\n",
       "<text text-anchor=\"middle\" x=\"202\" y=\"-126.8\" font-family=\"Helvetica,sans-Serif\" font-size=\"14.00\">value = [115, 1013]</text>\r\n",
       "<text text-anchor=\"middle\" x=\"202\" y=\"-111.8\" font-family=\"Helvetica,sans-Serif\" font-size=\"14.00\">class = R</text>\r\n",
       "</g>\r\n",
       "<!-- 0&#45;&gt;1 -->\r\n",
       "<g id=\"edge1\" class=\"edge\"><title>0&#45;&gt;1</title>\r\n",
       "<path fill=\"none\" stroke=\"black\" d=\"M252.938,-222.907C247.07,-214.105 240.802,-204.703 234.741,-195.612\"/>\r\n",
       "<polygon fill=\"black\" stroke=\"black\" points=\"237.473,-193.4 229.014,-187.021 231.649,-197.283 237.473,-193.4\"/>\r\n",
       "<text text-anchor=\"middle\" x=\"224.111\" y=\"-207.835\" font-family=\"Helvetica,sans-Serif\" font-size=\"14.00\">True</text>\r\n",
       "</g>\r\n",
       "<!-- 4 -->\r\n",
       "<g id=\"node5\" class=\"node\"><title>4</title>\r\n",
       "<path fill=\"#e78a47\" stroke=\"black\" d=\"M416,-187C416,-187 302,-187 302,-187 296,-187 290,-181 290,-175 290,-175 290,-116 290,-116 290,-110 296,-104 302,-104 302,-104 416,-104 416,-104 422,-104 428,-110 428,-116 428,-116 428,-175 428,-175 428,-181 422,-187 416,-187\"/>\r\n",
       "<text text-anchor=\"middle\" x=\"359\" y=\"-171.8\" font-family=\"Helvetica,sans-Serif\" font-size=\"14.00\">chlorides &lt;= 0.384</text>\r\n",
       "<text text-anchor=\"middle\" x=\"359\" y=\"-156.8\" font-family=\"Helvetica,sans-Serif\" font-size=\"14.00\">gini = 0.124</text>\r\n",
       "<text text-anchor=\"middle\" x=\"359\" y=\"-141.8\" font-family=\"Helvetica,sans-Serif\" font-size=\"14.00\">samples = 4069</text>\r\n",
       "<text text-anchor=\"middle\" x=\"359\" y=\"-126.8\" font-family=\"Helvetica,sans-Serif\" font-size=\"14.00\">value = [3798, 271]</text>\r\n",
       "<text text-anchor=\"middle\" x=\"359\" y=\"-111.8\" font-family=\"Helvetica,sans-Serif\" font-size=\"14.00\">class = W</text>\r\n",
       "</g>\r\n",
       "<!-- 0&#45;&gt;4 -->\r\n",
       "<g id=\"edge4\" class=\"edge\"><title>0&#45;&gt;4</title>\r\n",
       "<path fill=\"none\" stroke=\"black\" d=\"M307.409,-222.907C313.414,-214.014 319.831,-204.509 326.029,-195.331\"/>\r\n",
       "<polygon fill=\"black\" stroke=\"black\" points=\"328.944,-197.267 331.64,-187.021 323.143,-193.35 328.944,-197.267\"/>\r\n",
       "<text text-anchor=\"middle\" x=\"336.398\" y=\"-207.864\" font-family=\"Helvetica,sans-Serif\" font-size=\"14.00\">False</text>\r\n",
       "</g>\r\n",
       "<!-- 2 -->\r\n",
       "<g id=\"node3\" class=\"node\"><title>2</title>\r\n",
       "<path fill=\"#e89152\" stroke=\"black\" d=\"M110,-68C110,-68 12,-68 12,-68 6,-68 7.10543e-015,-62 7.10543e-015,-56 7.10543e-015,-56 7.10543e-015,-12 7.10543e-015,-12 7.10543e-015,-6 6,-0 12,-0 12,-0 110,-0 110,-0 116,-0 122,-6 122,-12 122,-12 122,-56 122,-56 122,-62 116,-68 110,-68\"/>\r\n",
       "<text text-anchor=\"middle\" x=\"61\" y=\"-52.8\" font-family=\"Helvetica,sans-Serif\" font-size=\"14.00\">gini = 0.201</text>\r\n",
       "<text text-anchor=\"middle\" x=\"61\" y=\"-37.8\" font-family=\"Helvetica,sans-Serif\" font-size=\"14.00\">samples = 115</text>\r\n",
       "<text text-anchor=\"middle\" x=\"61\" y=\"-22.8\" font-family=\"Helvetica,sans-Serif\" font-size=\"14.00\">value = [102, 13]</text>\r\n",
       "<text text-anchor=\"middle\" x=\"61\" y=\"-7.8\" font-family=\"Helvetica,sans-Serif\" font-size=\"14.00\">class = W</text>\r\n",
       "</g>\r\n",
       "<!-- 1&#45;&gt;2 -->\r\n",
       "<g id=\"edge2\" class=\"edge\"><title>1&#45;&gt;2</title>\r\n",
       "<path fill=\"none\" stroke=\"black\" d=\"M149.497,-103.726C137.165,-94.1494 124.046,-83.9611 111.791,-74.4438\"/>\r\n",
       "<polygon fill=\"black\" stroke=\"black\" points=\"113.924,-71.6689 103.879,-68.2996 109.63,-77.1975 113.924,-71.6689\"/>\r\n",
       "</g>\r\n",
       "<!-- 3 -->\r\n",
       "<g id=\"node4\" class=\"node\"><title>3</title>\r\n",
       "<path fill=\"#3c9ee5\" stroke=\"black\" d=\"M258,-68C258,-68 152,-68 152,-68 146,-68 140,-62 140,-56 140,-56 140,-12 140,-12 140,-6 146,-0 152,-0 152,-0 258,-0 258,-0 264,-0 270,-6 270,-12 270,-12 270,-56 270,-56 270,-62 264,-68 258,-68\"/>\r\n",
       "<text text-anchor=\"middle\" x=\"205\" y=\"-52.8\" font-family=\"Helvetica,sans-Serif\" font-size=\"14.00\">gini = 0.025</text>\r\n",
       "<text text-anchor=\"middle\" x=\"205\" y=\"-37.8\" font-family=\"Helvetica,sans-Serif\" font-size=\"14.00\">samples = 1013</text>\r\n",
       "<text text-anchor=\"middle\" x=\"205\" y=\"-22.8\" font-family=\"Helvetica,sans-Serif\" font-size=\"14.00\">value = [13, 1000]</text>\r\n",
       "<text text-anchor=\"middle\" x=\"205\" y=\"-7.8\" font-family=\"Helvetica,sans-Serif\" font-size=\"14.00\">class = R</text>\r\n",
       "</g>\r\n",
       "<!-- 1&#45;&gt;3 -->\r\n",
       "<g id=\"edge3\" class=\"edge\"><title>1&#45;&gt;3</title>\r\n",
       "<path fill=\"none\" stroke=\"black\" d=\"M203.117,-103.726C203.342,-95.5175 203.579,-86.8595 203.807,-78.56\"/>\r\n",
       "<polygon fill=\"black\" stroke=\"black\" points=\"207.312,-78.3917 204.088,-68.2996 200.315,-78.2 207.312,-78.3917\"/>\r\n",
       "</g>\r\n",
       "<!-- 5 -->\r\n",
       "<g id=\"node6\" class=\"node\"><title>5</title>\r\n",
       "<path fill=\"#e5823b\" stroke=\"black\" d=\"M410,-68C410,-68 304,-68 304,-68 298,-68 292,-62 292,-56 292,-56 292,-12 292,-12 292,-6 298,-0 304,-0 304,-0 410,-0 410,-0 416,-0 422,-6 422,-12 422,-12 422,-56 422,-56 422,-62 416,-68 410,-68\"/>\r\n",
       "<text text-anchor=\"middle\" x=\"357\" y=\"-52.8\" font-family=\"Helvetica,sans-Serif\" font-size=\"14.00\">gini = 0.022</text>\r\n",
       "<text text-anchor=\"middle\" x=\"357\" y=\"-37.8\" font-family=\"Helvetica,sans-Serif\" font-size=\"14.00\">samples = 3674</text>\r\n",
       "<text text-anchor=\"middle\" x=\"357\" y=\"-22.8\" font-family=\"Helvetica,sans-Serif\" font-size=\"14.00\">value = [3633, 41]</text>\r\n",
       "<text text-anchor=\"middle\" x=\"357\" y=\"-7.8\" font-family=\"Helvetica,sans-Serif\" font-size=\"14.00\">class = W</text>\r\n",
       "</g>\r\n",
       "<!-- 4&#45;&gt;5 -->\r\n",
       "<g id=\"edge5\" class=\"edge\"><title>4&#45;&gt;5</title>\r\n",
       "<path fill=\"none\" stroke=\"black\" d=\"M358.255,-103.726C358.105,-95.5175 357.947,-86.8595 357.796,-78.56\"/>\r\n",
       "<polygon fill=\"black\" stroke=\"black\" points=\"361.29,-78.234 357.608,-68.2996 354.292,-78.3619 361.29,-78.234\"/>\r\n",
       "</g>\r\n",
       "<!-- 6 -->\r\n",
       "<g id=\"node7\" class=\"node\"><title>6</title>\r\n",
       "<path fill=\"#c7e3f8\" stroke=\"black\" d=\"M558,-68C558,-68 452,-68 452,-68 446,-68 440,-62 440,-56 440,-56 440,-12 440,-12 440,-6 446,-0 452,-0 452,-0 558,-0 558,-0 564,-0 570,-6 570,-12 570,-12 570,-56 570,-56 570,-62 564,-68 558,-68\"/>\r\n",
       "<text text-anchor=\"middle\" x=\"505\" y=\"-52.8\" font-family=\"Helvetica,sans-Serif\" font-size=\"14.00\">gini = 0.486</text>\r\n",
       "<text text-anchor=\"middle\" x=\"505\" y=\"-37.8\" font-family=\"Helvetica,sans-Serif\" font-size=\"14.00\">samples = 395</text>\r\n",
       "<text text-anchor=\"middle\" x=\"505\" y=\"-22.8\" font-family=\"Helvetica,sans-Serif\" font-size=\"14.00\">value = [165, 230]</text>\r\n",
       "<text text-anchor=\"middle\" x=\"505\" y=\"-7.8\" font-family=\"Helvetica,sans-Serif\" font-size=\"14.00\">class = R</text>\r\n",
       "</g>\r\n",
       "<!-- 4&#45;&gt;6 -->\r\n",
       "<g id=\"edge6\" class=\"edge\"><title>4&#45;&gt;6</title>\r\n",
       "<path fill=\"none\" stroke=\"black\" d=\"M413.365,-103.726C426.134,-94.1494 439.719,-83.9611 452.408,-74.4438\"/>\r\n",
       "<polygon fill=\"black\" stroke=\"black\" points=\"454.701,-77.0996 460.601,-68.2996 450.501,-71.4996 454.701,-77.0996\"/>\r\n",
       "</g>\r\n",
       "</g>\r\n",
       "</svg>\r\n"
      ],
      "text/plain": [
       "<graphviz.files.Source at 0x21026fd9fd0>"
      ]
     },
     "execution_count": 32,
     "metadata": {},
     "output_type": "execute_result"
    }
   ],
   "source": [
    "from graphviz import Source\n",
    "from sklearn.tree import export_graphviz\n",
    "\n",
    "Source(export_graphviz(tree_clf, feature_names=X_train.columns,\n",
    "                      class_names=['W','R'],\n",
    "                      rounded=True, filled=True))"
   ]
  },
  {
   "cell_type": "code",
   "execution_count": 34,
   "metadata": {},
   "outputs": [
    {
     "data": {
      "text/plain": [
       "array([[-0.93967546,  1.038703  , -0.26559718, -4.24947395,  0.76956785,\n",
       "         0.79969063, -2.82420229,  6.51211746, -0.47684851,  0.27614568,\n",
       "         2.58407751,  0.53086111]])"
      ]
     },
     "execution_count": 34,
     "metadata": {},
     "output_type": "execute_result"
    }
   ],
   "source": [
    "log_reg.coef_"
   ]
  },
  {
   "cell_type": "code",
   "execution_count": null,
   "metadata": {},
   "outputs": [],
   "source": []
  }
 ],
 "metadata": {
  "kernelspec": {
   "display_name": "Python 3",
   "language": "python",
   "name": "python3"
  },
  "language_info": {
   "codemirror_mode": {
    "name": "ipython",
    "version": 3
   },
   "file_extension": ".py",
   "mimetype": "text/x-python",
   "name": "python",
   "nbconvert_exporter": "python",
   "pygments_lexer": "ipython3",
   "version": "3.6.5"
  }
 },
 "nbformat": 4,
 "nbformat_minor": 4
}
