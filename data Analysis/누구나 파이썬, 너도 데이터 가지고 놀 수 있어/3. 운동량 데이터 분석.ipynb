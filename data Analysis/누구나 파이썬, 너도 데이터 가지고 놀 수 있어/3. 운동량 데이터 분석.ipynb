{
 "cells": [
  {
   "cell_type": "markdown",
   "metadata": {},
   "source": [
    "### 데이터 읽어오기"
   ]
  },
  {
   "cell_type": "code",
   "execution_count": 1,
   "metadata": {},
   "outputs": [],
   "source": [
    "import pandas as pd"
   ]
  },
  {
   "cell_type": "code",
   "execution_count": 10,
   "metadata": {},
   "outputs": [
    {
     "data": {
      "text/html": [
       "<div>\n",
       "<style scoped>\n",
       "    .dataframe tbody tr th:only-of-type {\n",
       "        vertical-align: middle;\n",
       "    }\n",
       "\n",
       "    .dataframe tbody tr th {\n",
       "        vertical-align: top;\n",
       "    }\n",
       "\n",
       "    .dataframe thead th {\n",
       "        text-align: right;\n",
       "    }\n",
       "</style>\n",
       "<table border=\"1\" class=\"dataframe\">\n",
       "  <thead>\n",
       "    <tr style=\"text-align: right;\">\n",
       "      <th></th>\n",
       "      <th>기간</th>\n",
       "      <th>대분류</th>\n",
       "      <th>분류</th>\n",
       "      <th>운동을 할 충분한 시간이 없어서</th>\n",
       "      <th>함께 운동을 할 사람이 없어서</th>\n",
       "      <th>운동을 할 만한 장소가 없어서</th>\n",
       "      <th>운동을 싫어해서</th>\n",
       "      <th>기타</th>\n",
       "    </tr>\n",
       "  </thead>\n",
       "  <tbody>\n",
       "    <tr>\n",
       "      <th>0</th>\n",
       "      <td>2017</td>\n",
       "      <td>서울시</td>\n",
       "      <td>서울시</td>\n",
       "      <td>49.7</td>\n",
       "      <td>8.1</td>\n",
       "      <td>5.8</td>\n",
       "      <td>34.7</td>\n",
       "      <td>1.7</td>\n",
       "    </tr>\n",
       "    <tr>\n",
       "      <th>1</th>\n",
       "      <td>2017</td>\n",
       "      <td>성별</td>\n",
       "      <td>남자</td>\n",
       "      <td>55.2</td>\n",
       "      <td>7.9</td>\n",
       "      <td>5.5</td>\n",
       "      <td>29.8</td>\n",
       "      <td>1.6</td>\n",
       "    </tr>\n",
       "    <tr>\n",
       "      <th>2</th>\n",
       "      <td>2017</td>\n",
       "      <td>성별</td>\n",
       "      <td>여자</td>\n",
       "      <td>45.0</td>\n",
       "      <td>8.3</td>\n",
       "      <td>6.0</td>\n",
       "      <td>38.8</td>\n",
       "      <td>1.8</td>\n",
       "    </tr>\n",
       "    <tr>\n",
       "      <th>3</th>\n",
       "      <td>2017</td>\n",
       "      <td>연령별</td>\n",
       "      <td>10대</td>\n",
       "      <td>55.7</td>\n",
       "      <td>6.1</td>\n",
       "      <td>5.6</td>\n",
       "      <td>32.2</td>\n",
       "      <td>0.3</td>\n",
       "    </tr>\n",
       "    <tr>\n",
       "      <th>4</th>\n",
       "      <td>2017</td>\n",
       "      <td>연령별</td>\n",
       "      <td>20대</td>\n",
       "      <td>54.8</td>\n",
       "      <td>6.9</td>\n",
       "      <td>5.2</td>\n",
       "      <td>32.9</td>\n",
       "      <td>0.1</td>\n",
       "    </tr>\n",
       "  </tbody>\n",
       "</table>\n",
       "</div>"
      ],
      "text/plain": [
       "     기간  대분류   분류  운동을 할 충분한 시간이 없어서 함께 운동을 할 사람이 없어서  운동을 할 만한 장소가 없어서  \\\n",
       "0  2017  서울시  서울시               49.7              8.1               5.8   \n",
       "1  2017   성별   남자               55.2              7.9               5.5   \n",
       "2  2017   성별   여자               45.0              8.3               6.0   \n",
       "3  2017  연령별  10대               55.7              6.1               5.6   \n",
       "4  2017  연령별  20대               54.8              6.9               5.2   \n",
       "\n",
       "   운동을 싫어해서   기타  \n",
       "0      34.7  1.7  \n",
       "1      29.8  1.6  \n",
       "2      38.8  1.8  \n",
       "3      32.2  0.3  \n",
       "4      32.9  0.1  "
      ]
     },
     "execution_count": 10,
     "metadata": {},
     "output_type": "execute_result"
    }
   ],
   "source": [
    "data = pd.read_excel('./data/reason_not_exercise.xls')\n",
    "data.head()"
   ]
  },
  {
   "cell_type": "markdown",
   "metadata": {},
   "source": [
    "#### 필요없는 컬럼 삭제하기"
   ]
  },
  {
   "cell_type": "code",
   "execution_count": 11,
   "metadata": {},
   "outputs": [
    {
     "data": {
      "text/html": [
       "<div>\n",
       "<style scoped>\n",
       "    .dataframe tbody tr th:only-of-type {\n",
       "        vertical-align: middle;\n",
       "    }\n",
       "\n",
       "    .dataframe tbody tr th {\n",
       "        vertical-align: top;\n",
       "    }\n",
       "\n",
       "    .dataframe thead th {\n",
       "        text-align: right;\n",
       "    }\n",
       "</style>\n",
       "<table border=\"1\" class=\"dataframe\">\n",
       "  <thead>\n",
       "    <tr style=\"text-align: right;\">\n",
       "      <th></th>\n",
       "      <th>대분류</th>\n",
       "      <th>분류</th>\n",
       "      <th>운동을 할 충분한 시간이 없어서</th>\n",
       "      <th>함께 운동을 할 사람이 없어서</th>\n",
       "      <th>운동을 할 만한 장소가 없어서</th>\n",
       "      <th>운동을 싫어해서</th>\n",
       "      <th>기타</th>\n",
       "    </tr>\n",
       "  </thead>\n",
       "  <tbody>\n",
       "    <tr>\n",
       "      <th>0</th>\n",
       "      <td>서울시</td>\n",
       "      <td>서울시</td>\n",
       "      <td>49.7</td>\n",
       "      <td>8.1</td>\n",
       "      <td>5.8</td>\n",
       "      <td>34.7</td>\n",
       "      <td>1.7</td>\n",
       "    </tr>\n",
       "    <tr>\n",
       "      <th>1</th>\n",
       "      <td>성별</td>\n",
       "      <td>남자</td>\n",
       "      <td>55.2</td>\n",
       "      <td>7.9</td>\n",
       "      <td>5.5</td>\n",
       "      <td>29.8</td>\n",
       "      <td>1.6</td>\n",
       "    </tr>\n",
       "    <tr>\n",
       "      <th>2</th>\n",
       "      <td>성별</td>\n",
       "      <td>여자</td>\n",
       "      <td>45.0</td>\n",
       "      <td>8.3</td>\n",
       "      <td>6.0</td>\n",
       "      <td>38.8</td>\n",
       "      <td>1.8</td>\n",
       "    </tr>\n",
       "    <tr>\n",
       "      <th>3</th>\n",
       "      <td>연령별</td>\n",
       "      <td>10대</td>\n",
       "      <td>55.7</td>\n",
       "      <td>6.1</td>\n",
       "      <td>5.6</td>\n",
       "      <td>32.2</td>\n",
       "      <td>0.3</td>\n",
       "    </tr>\n",
       "    <tr>\n",
       "      <th>4</th>\n",
       "      <td>연령별</td>\n",
       "      <td>20대</td>\n",
       "      <td>54.8</td>\n",
       "      <td>6.9</td>\n",
       "      <td>5.2</td>\n",
       "      <td>32.9</td>\n",
       "      <td>0.1</td>\n",
       "    </tr>\n",
       "  </tbody>\n",
       "</table>\n",
       "</div>"
      ],
      "text/plain": [
       "   대분류   분류  운동을 할 충분한 시간이 없어서 함께 운동을 할 사람이 없어서  운동을 할 만한 장소가 없어서  운동을 싫어해서  \\\n",
       "0  서울시  서울시               49.7              8.1               5.8      34.7   \n",
       "1   성별   남자               55.2              7.9               5.5      29.8   \n",
       "2   성별   여자               45.0              8.3               6.0      38.8   \n",
       "3  연령별  10대               55.7              6.1               5.6      32.2   \n",
       "4  연령별  20대               54.8              6.9               5.2      32.9   \n",
       "\n",
       "    기타  \n",
       "0  1.7  \n",
       "1  1.6  \n",
       "2  1.8  \n",
       "3  0.3  \n",
       "4  0.1  "
      ]
     },
     "execution_count": 11,
     "metadata": {},
     "output_type": "execute_result"
    }
   ],
   "source": [
    "data.drop(columns='기간',inplace=True)\n",
    "data.head()"
   ]
  },
  {
   "cell_type": "code",
   "execution_count": 12,
   "metadata": {},
   "outputs": [
    {
     "data": {
      "text/html": [
       "<div>\n",
       "<style scoped>\n",
       "    .dataframe tbody tr th:only-of-type {\n",
       "        vertical-align: middle;\n",
       "    }\n",
       "\n",
       "    .dataframe tbody tr th {\n",
       "        vertical-align: top;\n",
       "    }\n",
       "\n",
       "    .dataframe thead th {\n",
       "        text-align: right;\n",
       "    }\n",
       "</style>\n",
       "<table border=\"1\" class=\"dataframe\">\n",
       "  <thead>\n",
       "    <tr style=\"text-align: right;\">\n",
       "      <th></th>\n",
       "      <th>대분류</th>\n",
       "      <th>분류</th>\n",
       "      <th>운동을 할 충분한 시간이 없어서</th>\n",
       "      <th>함께 운동을 할 사람이 없어서</th>\n",
       "      <th>운동을 할 만한 장소가 없어서</th>\n",
       "      <th>운동을 싫어해서</th>\n",
       "      <th>기타</th>\n",
       "    </tr>\n",
       "  </thead>\n",
       "  <tbody>\n",
       "    <tr>\n",
       "      <th>1</th>\n",
       "      <td>성별</td>\n",
       "      <td>남자</td>\n",
       "      <td>55.2</td>\n",
       "      <td>7.9</td>\n",
       "      <td>5.5</td>\n",
       "      <td>29.8</td>\n",
       "      <td>1.6</td>\n",
       "    </tr>\n",
       "    <tr>\n",
       "      <th>2</th>\n",
       "      <td>성별</td>\n",
       "      <td>여자</td>\n",
       "      <td>45.0</td>\n",
       "      <td>8.3</td>\n",
       "      <td>6.0</td>\n",
       "      <td>38.8</td>\n",
       "      <td>1.8</td>\n",
       "    </tr>\n",
       "  </tbody>\n",
       "</table>\n",
       "</div>"
      ],
      "text/plain": [
       "  대분류  분류  운동을 할 충분한 시간이 없어서 함께 운동을 할 사람이 없어서  운동을 할 만한 장소가 없어서  운동을 싫어해서   기타\n",
       "1  성별  남자               55.2              7.9               5.5      29.8  1.6\n",
       "2  성별  여자               45.0              8.3               6.0      38.8  1.8"
      ]
     },
     "execution_count": 12,
     "metadata": {},
     "output_type": "execute_result"
    }
   ],
   "source": [
    "not_ex_sex = data[data['대분류']=='성별'].copy()\n",
    "not_ex_sex"
   ]
  },
  {
   "cell_type": "code",
   "execution_count": 13,
   "metadata": {},
   "outputs": [
    {
     "data": {
      "text/html": [
       "<div>\n",
       "<style scoped>\n",
       "    .dataframe tbody tr th:only-of-type {\n",
       "        vertical-align: middle;\n",
       "    }\n",
       "\n",
       "    .dataframe tbody tr th {\n",
       "        vertical-align: top;\n",
       "    }\n",
       "\n",
       "    .dataframe thead th {\n",
       "        text-align: right;\n",
       "    }\n",
       "</style>\n",
       "<table border=\"1\" class=\"dataframe\">\n",
       "  <thead>\n",
       "    <tr style=\"text-align: right;\">\n",
       "      <th></th>\n",
       "      <th>분류</th>\n",
       "      <th>운동을 할 충분한 시간이 없어서</th>\n",
       "      <th>함께 운동을 할 사람이 없어서</th>\n",
       "      <th>운동을 할 만한 장소가 없어서</th>\n",
       "      <th>운동을 싫어해서</th>\n",
       "      <th>기타</th>\n",
       "    </tr>\n",
       "  </thead>\n",
       "  <tbody>\n",
       "    <tr>\n",
       "      <th>1</th>\n",
       "      <td>남자</td>\n",
       "      <td>55.2</td>\n",
       "      <td>7.9</td>\n",
       "      <td>5.5</td>\n",
       "      <td>29.8</td>\n",
       "      <td>1.6</td>\n",
       "    </tr>\n",
       "    <tr>\n",
       "      <th>2</th>\n",
       "      <td>여자</td>\n",
       "      <td>45.0</td>\n",
       "      <td>8.3</td>\n",
       "      <td>6.0</td>\n",
       "      <td>38.8</td>\n",
       "      <td>1.8</td>\n",
       "    </tr>\n",
       "  </tbody>\n",
       "</table>\n",
       "</div>"
      ],
      "text/plain": [
       "   분류  운동을 할 충분한 시간이 없어서 함께 운동을 할 사람이 없어서  운동을 할 만한 장소가 없어서  운동을 싫어해서   기타\n",
       "1  남자               55.2              7.9               5.5      29.8  1.6\n",
       "2  여자               45.0              8.3               6.0      38.8  1.8"
      ]
     },
     "execution_count": 13,
     "metadata": {},
     "output_type": "execute_result"
    }
   ],
   "source": [
    "not_ex_sex.drop(columns='대분류', inplace=True)\n",
    "not_ex_sex"
   ]
  },
  {
   "cell_type": "code",
   "execution_count": 14,
   "metadata": {},
   "outputs": [
    {
     "data": {
      "text/html": [
       "<div>\n",
       "<style scoped>\n",
       "    .dataframe tbody tr th:only-of-type {\n",
       "        vertical-align: middle;\n",
       "    }\n",
       "\n",
       "    .dataframe tbody tr th {\n",
       "        vertical-align: top;\n",
       "    }\n",
       "\n",
       "    .dataframe thead th {\n",
       "        text-align: right;\n",
       "    }\n",
       "</style>\n",
       "<table border=\"1\" class=\"dataframe\">\n",
       "  <thead>\n",
       "    <tr style=\"text-align: right;\">\n",
       "      <th></th>\n",
       "      <th>운동을 할 충분한 시간이 없어서</th>\n",
       "      <th>함께 운동을 할 사람이 없어서</th>\n",
       "      <th>운동을 할 만한 장소가 없어서</th>\n",
       "      <th>운동을 싫어해서</th>\n",
       "      <th>기타</th>\n",
       "    </tr>\n",
       "    <tr>\n",
       "      <th>분류</th>\n",
       "      <th></th>\n",
       "      <th></th>\n",
       "      <th></th>\n",
       "      <th></th>\n",
       "      <th></th>\n",
       "    </tr>\n",
       "  </thead>\n",
       "  <tbody>\n",
       "    <tr>\n",
       "      <th>남자</th>\n",
       "      <td>55.2</td>\n",
       "      <td>7.9</td>\n",
       "      <td>5.5</td>\n",
       "      <td>29.8</td>\n",
       "      <td>1.6</td>\n",
       "    </tr>\n",
       "    <tr>\n",
       "      <th>여자</th>\n",
       "      <td>45.0</td>\n",
       "      <td>8.3</td>\n",
       "      <td>6.0</td>\n",
       "      <td>38.8</td>\n",
       "      <td>1.8</td>\n",
       "    </tr>\n",
       "  </tbody>\n",
       "</table>\n",
       "</div>"
      ],
      "text/plain": [
       "    운동을 할 충분한 시간이 없어서 함께 운동을 할 사람이 없어서  운동을 할 만한 장소가 없어서  운동을 싫어해서   기타\n",
       "분류                                                                     \n",
       "남자               55.2              7.9               5.5      29.8  1.6\n",
       "여자               45.0              8.3               6.0      38.8  1.8"
      ]
     },
     "execution_count": 14,
     "metadata": {},
     "output_type": "execute_result"
    }
   ],
   "source": [
    "not_ex_sex.set_index('분류', inplace=True)\n",
    "not_ex_sex"
   ]
  },
  {
   "cell_type": "markdown",
   "metadata": {},
   "source": [
    "#### 한글문제 해결 "
   ]
  },
  {
   "cell_type": "code",
   "execution_count": 16,
   "metadata": {},
   "outputs": [],
   "source": [
    "import matplotlib.pyplot as plt\n",
    "%matplotlib inline\n",
    "\n",
    "from matplotlib import font_manager, rc\n",
    "plt.rcParams['axes.unicode_minus'] = False\n",
    "\n",
    "# f_path = \"/Library/Fonts/AppleGothic.ttf\"\n",
    "f_path = \"C:/Windows/Fonts/malgun.ttf\"\n",
    "font_name = font_manager.FontProperties(fname=f_path).get_name()\n",
    "rc('font', family=font_name)"
   ]
  },
  {
   "cell_type": "code",
   "execution_count": 18,
   "metadata": {},
   "outputs": [
    {
     "data": {
      "image/png": "[encoded data removed]",
      "text/plain": [
       "<Figure size 1152x576 with 2 Axes>"
      ]
     },
     "metadata": {},
     "output_type": "display_data"
    }
   ],
   "source": [
    "f, ax = plt.subplots(1,2, figsize=(16,8))\n",
    "\n",
    "not_ex_sex['운동을 할 충분한 시간이 없어서'].plot.pie(explode=[0,0.02], ax=ax[0], autopct='%1.1f%%')\n",
    "ax[0].set_title('운동을 할 충분한 시간이 없어서')\n",
    "ax[0].set_ylabel('')\n",
    "\n",
    "not_ex_sex['함께 운동을 할 사람이 없어서'].plot.pie(explode=[0,0.02], ax=ax[1], autopct='%1.1f%%')\n",
    "ax[1].set_title('함께 운동을 할 사람이 없어서')\n",
    "ax[1].set_ylabel('')\n",
    "\n",
    "plt.show()"
   ]
  },
  {
   "cell_type": "code",
   "execution_count": 19,
   "metadata": {},
   "outputs": [
    {
     "data": {
      "text/html": [
       "<div>\n",
       "<style scoped>\n",
       "    .dataframe tbody tr th:only-of-type {\n",
       "        vertical-align: middle;\n",
       "    }\n",
       "\n",
       "    .dataframe tbody tr th {\n",
       "        vertical-align: top;\n",
       "    }\n",
       "\n",
       "    .dataframe thead th {\n",
       "        text-align: right;\n",
       "    }\n",
       "</style>\n",
       "<table border=\"1\" class=\"dataframe\">\n",
       "  <thead>\n",
       "    <tr style=\"text-align: right;\">\n",
       "      <th></th>\n",
       "      <th>운동을 할 충분한 시간이 없어서</th>\n",
       "      <th>함께 운동을 할 사람이 없어서</th>\n",
       "      <th>운동을 할 만한 장소가 없어서</th>\n",
       "      <th>운동을 싫어해서</th>\n",
       "      <th>기타</th>\n",
       "    </tr>\n",
       "    <tr>\n",
       "      <th>분류</th>\n",
       "      <th></th>\n",
       "      <th></th>\n",
       "      <th></th>\n",
       "      <th></th>\n",
       "      <th></th>\n",
       "    </tr>\n",
       "  </thead>\n",
       "  <tbody>\n",
       "    <tr>\n",
       "      <th>10대</th>\n",
       "      <td>55.7</td>\n",
       "      <td>6.1</td>\n",
       "      <td>5.6</td>\n",
       "      <td>32.2</td>\n",
       "      <td>0.3</td>\n",
       "    </tr>\n",
       "    <tr>\n",
       "      <th>20대</th>\n",
       "      <td>54.8</td>\n",
       "      <td>6.9</td>\n",
       "      <td>5.2</td>\n",
       "      <td>32.9</td>\n",
       "      <td>0.1</td>\n",
       "    </tr>\n",
       "    <tr>\n",
       "      <th>30대</th>\n",
       "      <td>58.1</td>\n",
       "      <td>5.5</td>\n",
       "      <td>4.6</td>\n",
       "      <td>31.6</td>\n",
       "      <td>0.2</td>\n",
       "    </tr>\n",
       "    <tr>\n",
       "      <th>40대</th>\n",
       "      <td>57.7</td>\n",
       "      <td>6.8</td>\n",
       "      <td>5.2</td>\n",
       "      <td>29.4</td>\n",
       "      <td>1</td>\n",
       "    </tr>\n",
       "    <tr>\n",
       "      <th>50대</th>\n",
       "      <td>50.1</td>\n",
       "      <td>9.2</td>\n",
       "      <td>7.2</td>\n",
       "      <td>32.2</td>\n",
       "      <td>1.4</td>\n",
       "    </tr>\n",
       "    <tr>\n",
       "      <th>60대 이상</th>\n",
       "      <td>27.5</td>\n",
       "      <td>12.8</td>\n",
       "      <td>6.9</td>\n",
       "      <td>46.8</td>\n",
       "      <td>6</td>\n",
       "    </tr>\n",
       "  </tbody>\n",
       "</table>\n",
       "</div>"
      ],
      "text/plain": [
       "        운동을 할 충분한 시간이 없어서 함께 운동을 할 사람이 없어서  운동을 할 만한 장소가 없어서  운동을 싫어해서   기타\n",
       "분류                                                                         \n",
       "10대                  55.7              6.1               5.6      32.2  0.3\n",
       "20대                  54.8              6.9               5.2      32.9  0.1\n",
       "30대                  58.1              5.5               4.6      31.6  0.2\n",
       "40대                  57.7              6.8               5.2      29.4    1\n",
       "50대                  50.1              9.2               7.2      32.2  1.4\n",
       "60대 이상               27.5             12.8               6.9      46.8    6"
      ]
     },
     "execution_count": 19,
     "metadata": {},
     "output_type": "execute_result"
    }
   ],
   "source": [
    "not_ex_age = data[data['대분류']=='연령별'].copy()\n",
    "not_ex_age.drop(columns='대분류', inplace=True)\n",
    "not_ex_age.set_index('분류', inplace=True)\n",
    "not_ex_age"
   ]
  },
  {
   "cell_type": "code",
   "execution_count": 22,
   "metadata": {},
   "outputs": [
    {
     "data": {
      "text/plain": [
       "Text(0, 0.5, '')"
      ]
     },
     "execution_count": 22,
     "metadata": {},
     "output_type": "execute_result"
    },
    {
     "data": {
      "image/png": "[encoded data removed]",
      "text/plain": [
       "<Figure size 1152x576 with 3 Axes>"
      ]
     },
     "metadata": {},
     "output_type": "display_data"
    }
   ],
   "source": [
    "f, ax = plt.subplots(1,3, figsize=(16, 8)) # 1 x 3 행렬, 그래프 크기는 16x8\n",
    "\n",
    "explode_setting = [0.02, 0.02, 0.02, 0.02, 0.02, 0.02] # 간격\n",
    "\n",
    "not_ex_age['운동을 할 충분한 시간이 없어서'].plot.pie(explode=explode_setting, ax=ax[0], autopct='%1.1f%%')\n",
    "ax[0].set_title('운동을 할 충분한 시간이 없어서')\n",
    "ax[0].set_ylabel('')\n",
    "\n",
    "not_ex_age['함께 운동을 할 사람이 없어서'].plot.pie(explode=explode_setting, ax=ax[1], autopct='%1.1f%%')\n",
    "ax[1].set_title('함께 운동을 할 사람이 없어서')\n",
    "ax[1].set_ylabel('')\n",
    "\n",
    "not_ex_age['운동을 할 만한 장소가 없어서'].plot.pie(explode=explode_setting, ax=ax[2], autopct='%1.1f%%')\n",
    "ax[2].set_title('운동을 할 만한 장소가 없어서')\n",
    "ax[2].set_ylabel('')\n",
    "\n"
   ]
  },
  {
   "cell_type": "code",
   "execution_count": null,
   "metadata": {},
   "outputs": [],
   "source": []
  }
 ],
 "metadata": {
  "kernelspec": {
   "display_name": "Python 3",
   "language": "python",
   "name": "python3"
  },
  "language_info": {
   "codemirror_mode": {
    "name": "ipython",
    "version": 3
   },
   "file_extension": ".py",
   "mimetype": "text/x-python",
   "name": "python",
   "nbconvert_exporter": "python",
   "pygments_lexer": "ipython3",
   "version": "3.6.5"
  }
 },
 "nbformat": 4,
 "nbformat_minor": 4
}
