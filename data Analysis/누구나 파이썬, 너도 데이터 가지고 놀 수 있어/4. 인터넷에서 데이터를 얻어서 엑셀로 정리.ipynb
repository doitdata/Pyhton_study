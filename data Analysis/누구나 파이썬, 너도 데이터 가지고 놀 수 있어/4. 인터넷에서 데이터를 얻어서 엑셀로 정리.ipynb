{
 "cells": [
  {
   "cell_type": "markdown",
   "metadata": {},
   "source": [
    "### 네이버 API 사용해 보기"
   ]
  },
  {
   "cell_type": "code",
   "execution_count": 1,
   "metadata": {},
   "outputs": [],
   "source": [
    "import urllib.request\n",
    "client_id = 'CDdDmPtQ_YMmncpU7_rF'\n",
    "client_secret = 'nYXXwCcdur'"
   ]
  },
  {
   "cell_type": "code",
   "execution_count": 2,
   "metadata": {},
   "outputs": [
    {
     "data": {
      "text/plain": [
       "'https://openapi.naver.com/v1/search/blog.json?query=pinkwink'"
      ]
     },
     "execution_count": 2,
     "metadata": {},
     "output_type": "execute_result"
    }
   ],
   "source": [
    "encText = urllib.parse.quote('pinkwink')\n",
    "url = \"https://openapi.naver.com/v1/search/blog.json?query=\" + encText\n",
    "url"
   ]
  },
  {
   "cell_type": "code",
   "execution_count": 4,
   "metadata": {},
   "outputs": [],
   "source": [
    "request = urllib.request.Request(url)\n",
    "request.add_header('X-Naver-Client-id', client_id)\n",
    "request.add_header('X-Naver-Client-Secret', client_secret)"
   ]
  },
  {
   "cell_type": "code",
   "execution_count": 5,
   "metadata": {},
   "outputs": [
    {
     "name": "stdout",
     "output_type": "stream",
     "text": [
      "200\n"
     ]
    }
   ],
   "source": [
    "response = urllib.request.urlopen(request)\n",
    "print(response.getcode())"
   ]
  },
  {
   "cell_type": "code",
   "execution_count": 6,
   "metadata": {},
   "outputs": [
    {
     "data": {
      "text/plain": [
       "http.client.HTTPResponse"
      ]
     },
     "execution_count": 6,
     "metadata": {},
     "output_type": "execute_result"
    }
   ],
   "source": [
    "type(response)"
   ]
  },
  {
   "cell_type": "code",
   "execution_count": 7,
   "metadata": {},
   "outputs": [
    {
     "name": "stdout",
     "output_type": "stream",
     "text": [
      "{\n",
      "\"lastBuildDate\": \"Thu, 17 Jun 2021 01:44:59 +0900\",\n",
      "\"total\": 2216,\n",
      "\"start\": 1,\n",
      "\"display\": 10,\n",
      "\"items\": [\n",
      "{\n",
      "\"title\": \"<b>PinkWink</b>님의 DC모터 시정수 구하기.\",\n",
      "\"link\": \"https:\\/\\/blog.naver.com\\/hjh2578?Redirect=Log&logNo=222172280836\",\n",
      "\"description\": \"현재 밸런싱 봇 제작에 난항을 겪고 있어 해당 시정수를 측정하기 위한 방법을 구글링 해두었음 https://<b>pinkwink</b>.kr/336 현재 갖고 있는 밸런싱봇에는 MCP4922라는 DA컨버터를 별도로 설계하여... \",\n",
      "\"bloggername\": \"닥현의 회로연구\",\n",
      "\"bloggerlink\": \"https://blog.naver.com/hjh2578\",\n",
      "\"postdate\": \"20201213\"\n",
      "\n",
      "},\n",
      "{\n",
      "\"title\": \"자료 주소, <b>PinkWink</b>, DataScience; 시카고 샌드위치 맛집 주소\",\n",
      "\"link\": \"https:\\/\\/blog.naver.com\\/neobk2019?Redirect=Log&logNo=222090851064\",\n",
      "\"description\": \"책(파이썬으로 데이터 주무르기) 내용 자료 주소, <b>PinkWink</b>, DataScience #3장 #시카고 #샌드위치 #맛집 #분석 #주소 - 교재 발간당시와 현재의 웹페이지가 바뀌어서, 교재에... \",\n",
      "\"bloggername\": \"(비케이) 배우고 익히는 즐거움\",\n",
      "\"bloggerlink\": \"https://blog.naver.com/neobk2019\",\n",
      "\"postdate\": \"20200916\"\n",
      "\n",
      "},\n",
      "{\n",
      "\"title\": \"<b>PinkWink</b> 블로그에서 온 선물..\",\n",
      "\"link\": \"https:\\/\\/blog.naver.com\\/chandong83?Redirect=Log&logNo=221531853244\",\n",
      "\"description\": \"국내 최고 아이티 블로그인 <b>PinkWink</b> 블로거이신 민형기 박사님께서 선물을 보내주셨다~ 크.. 이런 영광이!!!! 잘 쓰겠습니다~ 박사님!!! 나도 나중에 블로그 잘 운영해서 이런 선물도 나눠줘 보고 싶다~~ㅋ 요즘... \",\n",
      "\"bloggername\": \"하이! 제니스\",\n",
      "\"bloggerlink\": \"https://blog.naver.com/chandong83\",\n",
      "\"postdate\": \"20190507\"\n",
      "\n",
      "},\n",
      "{\n",
      "\"title\": \"Project -ing) <b>PinkWink</b> (핑크윙크) 쇼핑몰 브랜드 로고디자인... \",\n",
      "\"link\": \"https:\\/\\/blog.naver.com\\/honggraphic?Redirect=Log&logNo=221880867448\",\n",
      "\"description\": \"한국브랜드에 대한 위상이 높아지고 있는 요즘, K를 강조한 브랜드 개발 요청이 많아지고 있습니다. 이번 프로젝트는 쇼핑몰 브랜드로 베트남과 말레이시아 등의 수출을 목표로 한류 열풍을 이어나갈... \",\n",
      "\"bloggername\": \"홍그래픽\",\n",
      "\"bloggerlink\": \"https://blog.naver.com/honggraphic\",\n",
      "\"postdate\": \"20200330\"\n",
      "\n",
      "},\n",
      "{\n",
      "\"title\": \"2012년 가을... <b>PinkWink</b>가 결혼을 합니다.^^\",\n",
      "\"link\": \"https://pinkwink.kr/535\",\n",
      "\"description\": \"<b>PinkWink</b>입니다. 정말 오랜만에 글을 올리네요. 사실 블로그 활동자체가 오랜만입니다. 이유는 단지 너무... 축하해주세요.^^. <b>PinkWink</b> 장가가는날^^ 말이에요^^ 좋아요 5 공유하기 글 요소 구독하기 <b>PinkWink</b>\",\n",
      "\"bloggername\": \"PinkWink\",\n",
      "\"bloggerlink\": \"https://pinkwink.kr/\",\n",
      "\"postdate\": \"20121004\"\n",
      "\n",
      "},\n",
      "{\n",
      "\"title\": \"[공유] <b>PinkWink</b> :: Python에서 OpenCV를 이용해서... \",\n",
      "\"link\": \"https:\\/\\/blog.naver.com\\/hersheythings?Redirect=Log&logNo=222221161855\",\n",
      "\"description\": \"<b>PinkWink</b> :: Python에서 OpenCV를 이용해서 초간편하게 사람 얼굴, 몸을 인식하기\",\n",
      "\"bloggername\": \"허씨 이야기\",\n",
      "\"bloggerlink\": \"https://blog.naver.com/hersheythings\",\n",
      "\"postdate\": \"20210127\"\n",
      "\n",
      "},\n",
      "{\n",
      "\"title\": \"[<b>pinkwink</b>님-구매후기]\",\n",
      "\"link\": \"https:\\/\\/blog.naver.com\\/monetchou?Redirect=Log&logNo=150182740062\",\n",
      "\"description\": \"친구들 중에 강아지 키우는 아이들에겐 연말선물로 강아지옷선물했는데. 이옷너무 이쁘다고.맘에 든다고 해주어서 저도 으쓱해졌습니다. 옷입고 포즈도 잘취해주고.귀엽죠? 덕분에...저... \",\n",
      "\"bloggername\": \"몽에슈\",\n",
      "\"bloggerlink\": \"https://blog.naver.com/monetchou\",\n",
      "\"postdate\": \"20140110\"\n",
      "\n",
      "},\n",
      "{\n",
      "\"title\": \"[공유] <b>PinkWink</b> :: 저역통과필터와 고역통과필터를 C로 구현\",\n",
      "\"link\": \"https:\\/\\/blog.naver.com\\/kangusreport?Redirect=Log&logNo=221870399107\",\n",
      "\"description\": \"<b>PinkWink</b> :: 저역통과필터와 고역통과필터를 C로 구현\",\n",
      "\"bloggername\": \"Dex Note\",\n",
      "\"bloggerlink\": \"https://blog.naver.com/kangusreport\",\n",
      "\"postdate\": \"20200324\"\n",
      "\n",
      "},\n",
      "{\n",
      "\"title\": \"<b>PinkWink</b> :: 정보를 담고 있는 좌표계에 회전행렬을 적용하는... \",\n",
      "\"link\": \"https://blog.daum.net/knightofelf/42100\",\n",
      "\"description\": \"<b>PinkWink</b> :: 정보를 담고 있는 좌표계에 회전행렬을 적용하는 방법 http://<b>pinkwink</b>.kr/404 공유하기 글 요소 저작자표시 사업자 정보 표시 | | | 사업자 등록번호 : -- | TEL : -- | 사이버몰의 이용약관... \",\n",
      "\"bloggername\": \"knight of elf - 애들은 잘놀아\",\n",
      "\"bloggerlink\": \"https://blog.daum.net/knightofelf\",\n",
      "\"postdate\": \"20190930\"\n",
      "\n",
      "},\n",
      "{\n",
      "\"title\": \"[공유] <b>PinkWink</b> :: 맥에서 윈도우용(NTFS) 외장하드에 파일... \",\n",
      "\"link\": \"https:\\/\\/blog.naver.com\\/sonidda?Redirect=Log&logNo=221722293907\",\n",
      "\"description\": \"<b>PinkWink</b> :: 맥에서 윈도우용(NTFS) 외장하드에 파일 복사/쓰기 가능하게 해주는 Mounty\",\n",
      "\"bloggername\": \"손스의 소소한 기록들\",\n",
      "\"bloggerlink\": \"https://blog.naver.com/sonidda\",\n",
      "\"postdate\": \"20191129\"\n",
      "\n",
      "}\n",
      "]\n",
      "}\n",
      "\n"
     ]
    }
   ],
   "source": [
    "print(response.read().decode('utf-8'))"
   ]
  },
  {
   "cell_type": "markdown",
   "metadata": {},
   "source": [
    "### 네이버 책 검색 정보 가져오기"
   ]
  },
  {
   "cell_type": "code",
   "execution_count": 43,
   "metadata": {},
   "outputs": [],
   "source": [
    "def create_url(api_node, search_text, start_num, disp_num):\n",
    "    base = 'https://openapi.naver.com/v1/search'\n",
    "    node ='/' + api_node + '.json'\n",
    "    param_query = '?query=' + urllib.parse.quote(search_text)\n",
    "    param_start = '&start=' + str(start_num)\n",
    "    param_disp = '&display=' + str(disp_num)\n",
    "    \n",
    "    return base + node + param_query + param_start + param_disp"
   ]
  },
  {
   "cell_type": "code",
   "execution_count": 44,
   "metadata": {},
   "outputs": [
    {
     "data": {
      "text/plain": [
       "'https://openapi.naver.com/v1/search/book.json?query=TEST&start=1&display=10'"
      ]
     },
     "execution_count": 44,
     "metadata": {},
     "output_type": "execute_result"
    }
   ],
   "source": [
    "create_url('book', 'TEST', 1, 10)"
   ]
  },
  {
   "cell_type": "code",
   "execution_count": 45,
   "metadata": {},
   "outputs": [
    {
     "data": {
      "text/plain": [
       "{'lastBuildDate': 'Thu, 17 Jun 2021 02:02:14 +0900',\n",
       " 'total': 54,\n",
       " 'start': 1,\n",
       " 'display': 3,\n",
       " 'items': [{'title': '컴퓨팅 사고를 위한 <b>파이선</b> 입문 (<b>파이선</b>(Python) 입문자를 위한 최고의 선택)',\n",
       "   'link': 'http://book.naver.com/bookdb/book_detail.php?bid=16284398',\n",
       "   'image': 'https://bookthumb-phinf.pstatic.net/cover/162/843/16284398.jpg?type=m1&udate=20200313',\n",
       "   'author': '한옥영',\n",
       "   'price': '25000',\n",
       "   'discount': '22500',\n",
       "   'publisher': '성균관대학교출판부(SKKUP)',\n",
       "   'pubdate': '20200313',\n",
       "   'isbn': '1155504003 9791155504000',\n",
       "   'description': '소프트웨어! 이젠 선택이 아니라 필수‘4차 산업혁명’이라는 큰 변화가 이미 눈앞에 펼쳤다. 세상은 급변하고 있으며, 전 세계가 소프트웨어 교육에 엄청난 투자와 노력을 기울이고 있다. 이는 소프트웨어 중심 사회로 세상의 패러다임이 변화하며 나타나는 다양한 과정이라 할 수 있다. 우리나라도 예외가... '},\n",
       "  {'title': '나는 <b>파이선</b>으로 피지컬 컴퓨팅한다',\n",
       "   'link': 'http://book.naver.com/bookdb/book_detail.php?bid=15910149',\n",
       "   'image': 'https://bookthumb-phinf.pstatic.net/cover/159/101/15910149.jpg?type=m1&udate=20200827',\n",
       "   'author': '최정원|김경규|장병철',\n",
       "   'price': '18000',\n",
       "   'discount': '16200',\n",
       "   'publisher': '씨마스',\n",
       "   'pubdate': '20191201',\n",
       "   'isbn': '1156723515 9791156723516',\n",
       "   'description': '텍스트 기반 프로그래밍 언어 중 문법이 까다롭지 않아 배우기 쉬운 <b>파이선</b>을 프로그래밍 언어로 선정하고, 여러 가지 센서 및 액추에이터가 내장된 마이크로비트를 활용함으로써 회로 설계에 대한 부담을 최소화하였습니다. \\n센서와 액추에이터 등 물리적인 입출력 장치의 작동을 제어하는 기초 내용뿐 아니라... '},\n",
       "  {'title': '엔트리<b>파이선</b> (블록 코딩에서 텍스트 코딩으로!)',\n",
       "   'link': 'http://book.naver.com/bookdb/book_detail.php?bid=13760207',\n",
       "   'image': 'https://bookthumb-phinf.pstatic.net/cover/137/602/13760207.jpg?type=m1&udate=20180704',\n",
       "   'author': '정영식|홍은미|김슬기|김성훈',\n",
       "   'price': '22000',\n",
       "   'discount': '21780',\n",
       "   'publisher': '한빛아카데미',\n",
       "   'pubdate': '20180630',\n",
       "   'isbn': '1156643945 9791156643944',\n",
       "   'description': '엔트리<b>파이선</b>을 통해 프로그래밍과 좀 더 가까워지세요!\\n엔트리<b>파이선</b>은 엔트리에 포함된 교육용 프로그래밍 언어입니다. 블록 프로그래밍 언어인 엔트리를 사용하다가 엔트리<b>파이선</b> 모드로 전환하면, 엔트리 블록이 <b>파이선</b> 문법에 맞게 전환되기 때문에 누구나 부담 없이 텍스트 프로그래밍 언어를 익힐 수... '}]}"
      ]
     },
     "execution_count": 45,
     "metadata": {},
     "output_type": "execute_result"
    }
   ],
   "source": [
    "import json\n",
    "\n",
    "client_id = 'CDdDmPtQ_YMmncpU7_rF'\n",
    "client_secret = 'nYXXwCcdur'\n",
    "\n",
    "url = create_url('book', '파이선', 1,3)\n",
    "\n",
    "request = urllib.request.Request(url)\n",
    "request.add_header('X-naver-Client-id', client_id)\n",
    "request.add_header('X-naver-Client-Secret', client_secret)\n",
    "\n",
    "response = urllib.request.urlopen(request)\n",
    "\n",
    "result = json.loads(response.read().decode('utf-8'))\n",
    "\n",
    "result"
   ]
  },
  {
   "cell_type": "code",
   "execution_count": 46,
   "metadata": {},
   "outputs": [
    {
     "data": {
      "text/plain": [
       "3"
      ]
     },
     "execution_count": 46,
     "metadata": {},
     "output_type": "execute_result"
    }
   ],
   "source": [
    "len(result['items'])"
   ]
  },
  {
   "cell_type": "code",
   "execution_count": 47,
   "metadata": {},
   "outputs": [
    {
     "data": {
      "text/plain": [
       "['컴퓨팅 사고를 위한 <b>파이선</b> 입문 (<b>파이선</b>(Python) 입문자를 위한 최고의 선택)',\n",
       " '나는 <b>파이선</b>으로 피지컬 컴퓨팅한다',\n",
       " '엔트리<b>파이선</b> (블록 코딩에서 텍스트 코딩으로!)']"
      ]
     },
     "execution_count": 47,
     "metadata": {},
     "output_type": "execute_result"
    }
   ],
   "source": [
    "titles = [result['items'][n]['title'] for n in range(3)]\n",
    "titles"
   ]
  },
  {
   "cell_type": "code",
   "execution_count": 48,
   "metadata": {},
   "outputs": [
    {
     "data": {
      "text/plain": [
       "['한옥영', '최정원|김경규|장병철', '정영식|홍은미|김슬기|김성훈']"
      ]
     },
     "execution_count": 48,
     "metadata": {},
     "output_type": "execute_result"
    }
   ],
   "source": [
    "authors = [result['items'][n]['author'] for n in range(3)]\n",
    "authors"
   ]
  },
  {
   "cell_type": "code",
   "execution_count": 49,
   "metadata": {},
   "outputs": [
    {
     "data": {
      "text/plain": [
       "['20200313', '20191201', '20180630']"
      ]
     },
     "execution_count": 49,
     "metadata": {},
     "output_type": "execute_result"
    }
   ],
   "source": [
    "pubdates = [result['items'][n]['pubdate'] for n in range(3)]\n",
    "pubdates"
   ]
  },
  {
   "cell_type": "code",
   "execution_count": 50,
   "metadata": {},
   "outputs": [
    {
     "data": {
      "text/html": [
       "<div>\n",
       "<style scoped>\n",
       "    .dataframe tbody tr th:only-of-type {\n",
       "        vertical-align: middle;\n",
       "    }\n",
       "\n",
       "    .dataframe tbody tr th {\n",
       "        vertical-align: top;\n",
       "    }\n",
       "\n",
       "    .dataframe thead th {\n",
       "        text-align: right;\n",
       "    }\n",
       "</style>\n",
       "<table border=\"1\" class=\"dataframe\">\n",
       "  <thead>\n",
       "    <tr style=\"text-align: right;\">\n",
       "      <th></th>\n",
       "      <th>책제목</th>\n",
       "      <th>작가</th>\n",
       "      <th>출판일</th>\n",
       "    </tr>\n",
       "  </thead>\n",
       "  <tbody>\n",
       "    <tr>\n",
       "      <th>0</th>\n",
       "      <td>컴퓨팅 사고를 위한 &lt;b&gt;파이선&lt;/b&gt; 입문 (&lt;b&gt;파이선&lt;/b&gt;(Python) 입...</td>\n",
       "      <td>한옥영</td>\n",
       "      <td>20200313</td>\n",
       "    </tr>\n",
       "    <tr>\n",
       "      <th>1</th>\n",
       "      <td>나는 &lt;b&gt;파이선&lt;/b&gt;으로 피지컬 컴퓨팅한다</td>\n",
       "      <td>최정원|김경규|장병철</td>\n",
       "      <td>20191201</td>\n",
       "    </tr>\n",
       "    <tr>\n",
       "      <th>2</th>\n",
       "      <td>엔트리&lt;b&gt;파이선&lt;/b&gt; (블록 코딩에서 텍스트 코딩으로!)</td>\n",
       "      <td>정영식|홍은미|김슬기|김성훈</td>\n",
       "      <td>20180630</td>\n",
       "    </tr>\n",
       "  </tbody>\n",
       "</table>\n",
       "</div>"
      ],
      "text/plain": [
       "                                                 책제목               작가  \\\n",
       "0  컴퓨팅 사고를 위한 <b>파이선</b> 입문 (<b>파이선</b>(Python) 입...              한옥영   \n",
       "1                          나는 <b>파이선</b>으로 피지컬 컴퓨팅한다      최정원|김경규|장병철   \n",
       "2                  엔트리<b>파이선</b> (블록 코딩에서 텍스트 코딩으로!)  정영식|홍은미|김슬기|김성훈   \n",
       "\n",
       "        출판일  \n",
       "0  20200313  \n",
       "1  20191201  \n",
       "2  20180630  "
      ]
     },
     "execution_count": 50,
     "metadata": {},
     "output_type": "execute_result"
    }
   ],
   "source": [
    "import pandas as pd\n",
    "\n",
    "pd.DataFrame({'책제목':titles, '작가':authors, '출판일':pubdates})"
   ]
  },
  {
   "cell_type": "code",
   "execution_count": 53,
   "metadata": {},
   "outputs": [],
   "source": [
    "def get_dataframe(url):\n",
    "    \n",
    "    client_id = 'CDdDmPtQ_YMmncpU7_rF'\n",
    "    client_secret = 'nYXXwCcdur'\n",
    "\n",
    "    request = urllib.request.Request(url)\n",
    "    request.add_header('X-naver-Client-id', client_id)\n",
    "    request.add_header('X-naver-Client-Secret', client_secret)\n",
    "\n",
    "    response = urllib.request.urlopen(request)\n",
    "\n",
    "    result = json.loads(response.read().decode('utf-8'))\n",
    "    \n",
    "    end_num = result['display']\n",
    "\n",
    "    titles = [result['items'][n]['title'] for n in range(end_num)]\n",
    "    authors = [result['items'][n]['author'] for n in range(end_num)]\n",
    "    pubdates = [result['items'][n]['pubdate'] for n in range(end_num)]\n",
    "    \n",
    "    return pd.DataFrame({'책제목':titles, '작가':authors, '출판일':pubdates})"
   ]
  },
  {
   "cell_type": "code",
   "execution_count": 54,
   "metadata": {},
   "outputs": [
    {
     "data": {
      "text/html": [
       "<div>\n",
       "<style scoped>\n",
       "    .dataframe tbody tr th:only-of-type {\n",
       "        vertical-align: middle;\n",
       "    }\n",
       "\n",
       "    .dataframe tbody tr th {\n",
       "        vertical-align: top;\n",
       "    }\n",
       "\n",
       "    .dataframe thead th {\n",
       "        text-align: right;\n",
       "    }\n",
       "</style>\n",
       "<table border=\"1\" class=\"dataframe\">\n",
       "  <thead>\n",
       "    <tr style=\"text-align: right;\">\n",
       "      <th></th>\n",
       "      <th>책제목</th>\n",
       "      <th>작가</th>\n",
       "      <th>출판일</th>\n",
       "    </tr>\n",
       "  </thead>\n",
       "  <tbody>\n",
       "    <tr>\n",
       "      <th>0</th>\n",
       "      <td>컴퓨팅 사고를 위한 &lt;b&gt;파이선&lt;/b&gt; 입문 (&lt;b&gt;파이선&lt;/b&gt;(Python) 입...</td>\n",
       "      <td>한옥영</td>\n",
       "      <td>20200313</td>\n",
       "    </tr>\n",
       "    <tr>\n",
       "      <th>1</th>\n",
       "      <td>나는 &lt;b&gt;파이선&lt;/b&gt;으로 피지컬 컴퓨팅한다</td>\n",
       "      <td>최정원|김경규|장병철</td>\n",
       "      <td>20191201</td>\n",
       "    </tr>\n",
       "    <tr>\n",
       "      <th>2</th>\n",
       "      <td>엔트리&lt;b&gt;파이선&lt;/b&gt; (블록 코딩에서 텍스트 코딩으로!)</td>\n",
       "      <td>정영식|홍은미|김슬기|김성훈</td>\n",
       "      <td>20180630</td>\n",
       "    </tr>\n",
       "  </tbody>\n",
       "</table>\n",
       "</div>"
      ],
      "text/plain": [
       "                                                 책제목               작가  \\\n",
       "0  컴퓨팅 사고를 위한 <b>파이선</b> 입문 (<b>파이선</b>(Python) 입...              한옥영   \n",
       "1                          나는 <b>파이선</b>으로 피지컬 컴퓨팅한다      최정원|김경규|장병철   \n",
       "2                  엔트리<b>파이선</b> (블록 코딩에서 텍스트 코딩으로!)  정영식|홍은미|김슬기|김성훈   \n",
       "\n",
       "        출판일  \n",
       "0  20200313  \n",
       "1  20191201  \n",
       "2  20180630  "
      ]
     },
     "execution_count": 54,
     "metadata": {},
     "output_type": "execute_result"
    }
   ],
   "source": [
    "get_dataframe(url)"
   ]
  },
  {
   "cell_type": "code",
   "execution_count": 55,
   "metadata": {},
   "outputs": [],
   "source": [
    "def delete_tag(input_str):\n",
    "    input_str = input_str.replace('<b>','')\n",
    "    input_str = input_str.replace('</b>','')\n",
    "    \n",
    "    return input_str"
   ]
  },
  {
   "cell_type": "code",
   "execution_count": 63,
   "metadata": {},
   "outputs": [],
   "source": [
    "def get_dataframe(url):\n",
    "    \n",
    "    client_id = 'CDdDmPtQ_YMmncpU7_rF'\n",
    "    client_secret = 'nYXXwCcdur'\n",
    "\n",
    "    request = urllib.request.Request(url)\n",
    "    request.add_header(\"X-Naver-Client-Id\", client_id)\n",
    "    request.add_header(\"X-Naver-Client-Secret\", client_secret)\n",
    "    \n",
    "    response = urllib.request.urlopen(request)\n",
    "\n",
    "    result = json.loads(response.read().decode('utf-8'))\n",
    "    \n",
    "    end_num = result['display']\n",
    "    \n",
    "    titles = [delete_tag(result['items'][n]['title']) for n in range(3)]\n",
    "    authors = [result['items'][n]['author'] for n in range(3)]\n",
    "    pubdates = [result['items'][n]['pubdate'] for n in range(3)]\n",
    "\n",
    "    return pd.DataFrame({'책제목':titles, '작가':authors, '출판일':pubdates})"
   ]
  },
  {
   "cell_type": "code",
   "execution_count": 64,
   "metadata": {},
   "outputs": [
    {
     "data": {
      "text/html": [
       "<div>\n",
       "<style scoped>\n",
       "    .dataframe tbody tr th:only-of-type {\n",
       "        vertical-align: middle;\n",
       "    }\n",
       "\n",
       "    .dataframe tbody tr th {\n",
       "        vertical-align: top;\n",
       "    }\n",
       "\n",
       "    .dataframe thead th {\n",
       "        text-align: right;\n",
       "    }\n",
       "</style>\n",
       "<table border=\"1\" class=\"dataframe\">\n",
       "  <thead>\n",
       "    <tr style=\"text-align: right;\">\n",
       "      <th></th>\n",
       "      <th>책제목</th>\n",
       "      <th>작가</th>\n",
       "      <th>출판일</th>\n",
       "    </tr>\n",
       "  </thead>\n",
       "  <tbody>\n",
       "    <tr>\n",
       "      <th>0</th>\n",
       "      <td>컴퓨팅 사고를 위한 파이선 입문 (파이선(Python) 입문자를 위한 최고의 선택)</td>\n",
       "      <td>한옥영</td>\n",
       "      <td>20200313</td>\n",
       "    </tr>\n",
       "    <tr>\n",
       "      <th>1</th>\n",
       "      <td>나는 파이선으로 피지컬 컴퓨팅한다</td>\n",
       "      <td>최정원|김경규|장병철</td>\n",
       "      <td>20191201</td>\n",
       "    </tr>\n",
       "    <tr>\n",
       "      <th>2</th>\n",
       "      <td>엔트리파이선 (블록 코딩에서 텍스트 코딩으로!)</td>\n",
       "      <td>정영식|홍은미|김슬기|김성훈</td>\n",
       "      <td>20180630</td>\n",
       "    </tr>\n",
       "  </tbody>\n",
       "</table>\n",
       "</div>"
      ],
      "text/plain": [
       "                                              책제목               작가       출판일\n",
       "0  컴퓨팅 사고를 위한 파이선 입문 (파이선(Python) 입문자를 위한 최고의 선택)              한옥영  20200313\n",
       "1                              나는 파이선으로 피지컬 컴퓨팅한다      최정원|김경규|장병철  20191201\n",
       "2                      엔트리파이선 (블록 코딩에서 텍스트 코딩으로!)  정영식|홍은미|김슬기|김성훈  20180630"
      ]
     },
     "execution_count": 64,
     "metadata": {},
     "output_type": "execute_result"
    }
   ],
   "source": [
    "get_dataframe(url)"
   ]
  },
  {
   "cell_type": "code",
   "execution_count": 66,
   "metadata": {},
   "outputs": [],
   "source": [
    "result_search = []\n",
    "\n",
    "for n in range(1, 300, 100):\n",
    "    url = create_url('book', '파이썬', n, 100)\n",
    "    result_search.append(get_dataframe(url))\n",
    "    \n",
    "result_search = pd.concat(result_search)"
   ]
  },
  {
   "cell_type": "code",
   "execution_count": 68,
   "metadata": {},
   "outputs": [
    {
     "data": {
      "text/html": [
       "<div>\n",
       "<style scoped>\n",
       "    .dataframe tbody tr th:only-of-type {\n",
       "        vertical-align: middle;\n",
       "    }\n",
       "\n",
       "    .dataframe tbody tr th {\n",
       "        vertical-align: top;\n",
       "    }\n",
       "\n",
       "    .dataframe thead th {\n",
       "        text-align: right;\n",
       "    }\n",
       "</style>\n",
       "<table border=\"1\" class=\"dataframe\">\n",
       "  <thead>\n",
       "    <tr style=\"text-align: right;\">\n",
       "      <th></th>\n",
       "      <th>책제목</th>\n",
       "      <th>작가</th>\n",
       "      <th>출판일</th>\n",
       "    </tr>\n",
       "  </thead>\n",
       "  <tbody>\n",
       "    <tr>\n",
       "      <th>0</th>\n",
       "      <td>이것이 취업을 위한 코딩 테스트다 with 파이썬 (취업과 이직을 결정하는 알고리즘...</td>\n",
       "      <td>나동빈</td>\n",
       "      <td>20200805</td>\n",
       "    </tr>\n",
       "    <tr>\n",
       "      <th>1</th>\n",
       "      <td>혼자 공부하는 파이썬 (파이썬 최신 버전 반영)</td>\n",
       "      <td>윤인성</td>\n",
       "      <td>20190610</td>\n",
       "    </tr>\n",
       "    <tr>\n",
       "      <th>2</th>\n",
       "      <td>Do it! 점프 투 파이썬</td>\n",
       "      <td>박응용</td>\n",
       "      <td>20190620</td>\n",
       "    </tr>\n",
       "    <tr>\n",
       "      <th>0</th>\n",
       "      <td>퀀트 전략 파이썬으로 세워라 (누구나 시작할 수 있는 파이썬 퀀트 투자 첫 단추)</td>\n",
       "      <td>박준규</td>\n",
       "      <td>20190430</td>\n",
       "    </tr>\n",
       "    <tr>\n",
       "      <th>1</th>\n",
       "      <td>한 번 배운 파이썬, 나만의 활용 스킬 (개발자가 아니어도 도전하는 일상과 업무 자동화)</td>\n",
       "      <td>이강성</td>\n",
       "      <td>20200722</td>\n",
       "    </tr>\n",
       "  </tbody>\n",
       "</table>\n",
       "</div>"
      ],
      "text/plain": [
       "                                                 책제목   작가       출판일\n",
       "0  이것이 취업을 위한 코딩 테스트다 with 파이썬 (취업과 이직을 결정하는 알고리즘...  나동빈  20200805\n",
       "1                         혼자 공부하는 파이썬 (파이썬 최신 버전 반영)  윤인성  20190610\n",
       "2                                    Do it! 점프 투 파이썬  박응용  20190620\n",
       "0      퀀트 전략 파이썬으로 세워라 (누구나 시작할 수 있는 파이썬 퀀트 투자 첫 단추)  박준규  20190430\n",
       "1  한 번 배운 파이썬, 나만의 활용 스킬 (개발자가 아니어도 도전하는 일상과 업무 자동화)  이강성  20200722"
      ]
     },
     "execution_count": 68,
     "metadata": {},
     "output_type": "execute_result"
    }
   ],
   "source": [
    "result_search.head()"
   ]
  },
  {
   "cell_type": "code",
   "execution_count": 69,
   "metadata": {},
   "outputs": [
    {
     "name": "stdout",
     "output_type": "stream",
     "text": [
      "<class 'pandas.core.frame.DataFrame'>\n",
      "Int64Index: 9 entries, 0 to 2\n",
      "Data columns (total 3 columns):\n",
      " #   Column  Non-Null Count  Dtype \n",
      "---  ------  --------------  ----- \n",
      " 0   책제목     9 non-null      object\n",
      " 1   작가      9 non-null      object\n",
      " 2   출판일     9 non-null      object\n",
      "dtypes: object(3)\n",
      "memory usage: 288.0+ bytes\n"
     ]
    }
   ],
   "source": [
    "result_search.info()"
   ]
  },
  {
   "cell_type": "code",
   "execution_count": 70,
   "metadata": {},
   "outputs": [
    {
     "name": "stdout",
     "output_type": "stream",
     "text": [
      "<class 'pandas.core.frame.DataFrame'>\n",
      "RangeIndex: 9 entries, 0 to 8\n",
      "Data columns (total 3 columns):\n",
      " #   Column  Non-Null Count  Dtype \n",
      "---  ------  --------------  ----- \n",
      " 0   책제목     9 non-null      object\n",
      " 1   작가      9 non-null      object\n",
      " 2   출판일     9 non-null      object\n",
      "dtypes: object(3)\n",
      "memory usage: 344.0+ bytes\n"
     ]
    }
   ],
   "source": [
    "result_search = result_search.reset_index(drop=True)\n",
    "result_search.info()"
   ]
  },
  {
   "cell_type": "code",
   "execution_count": 71,
   "metadata": {},
   "outputs": [
    {
     "data": {
      "text/html": [
       "<div>\n",
       "<style scoped>\n",
       "    .dataframe tbody tr th:only-of-type {\n",
       "        vertical-align: middle;\n",
       "    }\n",
       "\n",
       "    .dataframe tbody tr th {\n",
       "        vertical-align: top;\n",
       "    }\n",
       "\n",
       "    .dataframe thead th {\n",
       "        text-align: right;\n",
       "    }\n",
       "</style>\n",
       "<table border=\"1\" class=\"dataframe\">\n",
       "  <thead>\n",
       "    <tr style=\"text-align: right;\">\n",
       "      <th></th>\n",
       "      <th>책제목</th>\n",
       "      <th>작가</th>\n",
       "      <th>출판일</th>\n",
       "    </tr>\n",
       "  </thead>\n",
       "  <tbody>\n",
       "    <tr>\n",
       "      <th>0</th>\n",
       "      <td>이것이 취업을 위한 코딩 테스트다 with 파이썬 (취업과 이직을 결정하는 알고리즘...</td>\n",
       "      <td>나동빈</td>\n",
       "      <td>20200805</td>\n",
       "    </tr>\n",
       "    <tr>\n",
       "      <th>1</th>\n",
       "      <td>혼자 공부하는 파이썬 (파이썬 최신 버전 반영)</td>\n",
       "      <td>윤인성</td>\n",
       "      <td>20190610</td>\n",
       "    </tr>\n",
       "    <tr>\n",
       "      <th>2</th>\n",
       "      <td>Do it! 점프 투 파이썬</td>\n",
       "      <td>박응용</td>\n",
       "      <td>20190620</td>\n",
       "    </tr>\n",
       "    <tr>\n",
       "      <th>3</th>\n",
       "      <td>퀀트 전략 파이썬으로 세워라 (누구나 시작할 수 있는 파이썬 퀀트 투자 첫 단추)</td>\n",
       "      <td>박준규</td>\n",
       "      <td>20190430</td>\n",
       "    </tr>\n",
       "    <tr>\n",
       "      <th>4</th>\n",
       "      <td>한 번 배운 파이썬, 나만의 활용 스킬 (개발자가 아니어도 도전하는 일상과 업무 자동화)</td>\n",
       "      <td>이강성</td>\n",
       "      <td>20200722</td>\n",
       "    </tr>\n",
       "    <tr>\n",
       "      <th>5</th>\n",
       "      <td>생활코딩! 파이썬 (가볍게 시작하여 유용하게 사용하는 생활코딩! Python)</td>\n",
       "      <td>이고잉|장용하</td>\n",
       "      <td>20200323</td>\n",
       "    </tr>\n",
       "    <tr>\n",
       "      <th>6</th>\n",
       "      <td>파이썬으로 배우는 영상처리</td>\n",
       "      <td>Sandipan Dey</td>\n",
       "      <td>20200120</td>\n",
       "    </tr>\n",
       "    <tr>\n",
       "      <th>7</th>\n",
       "      <td>한권으로 개발자가 원하던 파이썬 심화 A to Z (실무를 위해 반드시 알아야 할)</td>\n",
       "      <td>문용준|문성혁</td>\n",
       "      <td>20191125</td>\n",
       "    </tr>\n",
       "    <tr>\n",
       "      <th>8</th>\n",
       "      <td>파이썬을 활용한 머신러닝 쿡북 (전처리에서 딥러닝까지, 팬더스와 사이킷런 중심의 실...</td>\n",
       "      <td>크리스 알본</td>\n",
       "      <td>20190901</td>\n",
       "    </tr>\n",
       "  </tbody>\n",
       "</table>\n",
       "</div>"
      ],
      "text/plain": [
       "                                                 책제목            작가       출판일\n",
       "0  이것이 취업을 위한 코딩 테스트다 with 파이썬 (취업과 이직을 결정하는 알고리즘...           나동빈  20200805\n",
       "1                         혼자 공부하는 파이썬 (파이썬 최신 버전 반영)           윤인성  20190610\n",
       "2                                    Do it! 점프 투 파이썬           박응용  20190620\n",
       "3      퀀트 전략 파이썬으로 세워라 (누구나 시작할 수 있는 파이썬 퀀트 투자 첫 단추)           박준규  20190430\n",
       "4  한 번 배운 파이썬, 나만의 활용 스킬 (개발자가 아니어도 도전하는 일상과 업무 자동화)           이강성  20200722\n",
       "5        생활코딩! 파이썬 (가볍게 시작하여 유용하게 사용하는 생활코딩! Python)       이고잉|장용하  20200323\n",
       "6                                     파이썬으로 배우는 영상처리  Sandipan Dey  20200120\n",
       "7     한권으로 개발자가 원하던 파이썬 심화 A to Z (실무를 위해 반드시 알아야 할)       문용준|문성혁  20191125\n",
       "8  파이썬을 활용한 머신러닝 쿡북 (전처리에서 딥러닝까지, 팬더스와 사이킷런 중심의 실...        크리스 알본  20190901"
      ]
     },
     "execution_count": 71,
     "metadata": {},
     "output_type": "execute_result"
    }
   ],
   "source": [
    "result_search"
   ]
  },
  {
   "cell_type": "markdown",
   "metadata": {},
   "source": [
    "### 엑셀에 저장하기"
   ]
  },
  {
   "cell_type": "code",
   "execution_count": 74,
   "metadata": {},
   "outputs": [],
   "source": [
    "writer = pd.ExcelWriter('./Python_book_info.xlsx', engine='xlsxwriter')\n",
    "result_search.to_excel(writer, sheet_name='Sheet1')\n",
    "\n",
    "workbook = writer.book\n",
    "worksheet = writer.sheets['Sheet1']\n",
    "\n",
    "format_center = workbook.add_format({'text_wrap': True})\n",
    "format_center.set_align('center')\n",
    "format_center.set_align('vcenter')\n",
    "\n",
    "worksheet.set_column('A:A', 5)\n",
    "worksheet.set_column('B:B', 90, format_center)\n",
    "worksheet.set_column('C:C', 40, format_center)\n",
    "worksheet.set_column('D:D', 15)\n",
    "\n",
    "writer.save()"
   ]
  },
  {
   "cell_type": "code",
   "execution_count": null,
   "metadata": {},
   "outputs": [],
   "source": []
  }
 ],
 "metadata": {
  "kernelspec": {
   "display_name": "Python 3",
   "language": "python",
   "name": "python3"
  },
  "language_info": {
   "codemirror_mode": {
    "name": "ipython",
    "version": 3
   },
   "file_extension": ".py",
   "mimetype": "text/x-python",
   "name": "python",
   "nbconvert_exporter": "python",
   "pygments_lexer": "ipython3",
   "version": "3.6.5"
  }
 },
 "nbformat": 4,
 "nbformat_minor": 4
}
